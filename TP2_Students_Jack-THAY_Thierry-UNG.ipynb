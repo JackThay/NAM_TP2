{
 "cells": [
  {
   "cell_type": "markdown",
   "metadata": {},
   "source": [
    "# Lab3 (Student version)\n",
    "## Students:\n",
    "## Jack Thay - 21201079\n",
    "## Thierry Ung - 3804472"
   ]
  },
  {
   "cell_type": "code",
   "execution_count": 10,
   "metadata": {},
   "outputs": [],
   "source": [
    "import random\n",
    "import matplotlib.pyplot as plt\n",
    "import sys\n",
    "import time # Replaced timeit with time to measure execution time from our code\n",
    "import math\n",
    "\n",
    "from IPython.display import Image # Used to display image in this notebook\n",
    "from collections import defaultdict, deque # Used as dict and queue"
   ]
  },
  {
   "cell_type": "markdown",
   "metadata": {},
   "source": [
    "Download the three following graphs:\n",
    "- http://lioneltabourier.fr/documents/drosophila.txt\n",
    "- http://snap.stanford.edu/data/com-LiveJournal.html    \n",
    "- http://snap.stanford.edu/data/com-Amazon.html\n",
    "- http://snap.stanford.edu/data/email-Eu-core.html (optional, might be too large)\n",
    "\n",
    "### Sidenote:\n",
    "Using \"amazon\" graph (added in the above links) instead of \"live journal\" for faster loading on low-end computer.\n",
    "\n",
    "It is also useful to consider some toy graphs (e.g. manually created graphs with a dozen nodes) to test your programs."
   ]
  },
  {
   "cell_type": "markdown",
   "metadata": {},
   "source": [
    "## Exercise 0: preliminaries\n",
    "\n",
    "Using the codes of Lab1, load the graphs in memory as dictionary of lists and check their number of nodes and links."
   ]
  },
  {
   "cell_type": "code",
   "execution_count": 11,
   "metadata": {},
   "outputs": [],
   "source": [
    "# Code taken from our TP1\n",
    "\n",
    "def count_nodes_edges(filename):\n",
    "    # Initialize an empty set to store unique nodes\n",
    "    nodes = set()\n",
    "    # Initialize a variable to count the number of edges\n",
    "    edges = 0\n",
    "\n",
    "    # Open the specified file in read ('read only') mode\n",
    "    with open(filename, 'r') as file:\n",
    "        # Iterate through each line in the file\n",
    "        for line in file:\n",
    "            # Remove leading and trailing whitespace and split the line into parts\n",
    "            edge_info = line.strip().split()\n",
    "            # Check if the line does not contain exactly two values (node identifiers)\n",
    "            if len(edge_info) != 2:\n",
    "                # Skip lines that don't have two values, they might be comments or errors\n",
    "                continue\n",
    "            # Add both node identifiers to the 'nodes' set\n",
    "            nodes.update(edge_info)\n",
    "            # Increment the edge count\n",
    "            edges += 1\n",
    "\n",
    "    # Calculate the number of unique nodes by finding the length of the 'nodes' set\n",
    "    num_nodes = len(nodes)\n",
    "    # final count for edges\n",
    "    num_edges = edges\n",
    "\n",
    "    # Return the counts of nodes and edges as a tuple\n",
    "    return num_nodes, num_edges"
   ]
  },
  {
   "cell_type": "code",
   "execution_count": 12,
   "metadata": {},
   "outputs": [],
   "source": [
    "def optimized_count_nodes_edges(filename):\n",
    "    # Initialize an empty set to store unique nodes\n",
    "    nodes = set()\n",
    "    # Initialize an empty set to store unique edges\n",
    "    unique_edges = set()\n",
    "\n",
    "    # Open the specified file in read ('r') mode\n",
    "    with open(filename, 'r') as file:\n",
    "        # Iterate through each line in the file\n",
    "        for line in file:\n",
    "            # Skip lines starting with '#' (comments)\n",
    "            if line.startswith('#'):\n",
    "                continue\n",
    "            # Remove leading and trailing whitespace and split the line into parts\n",
    "            edge_info = line.strip().split()\n",
    "            # Check if the line does not contain exactly two values (node identifiers)\n",
    "            if len(edge_info) != 2:\n",
    "                # Skip lines that don't have two values\n",
    "                continue\n",
    "            # Sort the edge_info to ensure order independence and convert it to a tuple\n",
    "            edge = tuple(sorted(edge_info))\n",
    "            # Check if the edge is not already in the set of unique_edges\n",
    "            if edge not in unique_edges:\n",
    "                # Add the edge to the set of unique_edges\n",
    "                unique_edges.add(edge)\n",
    "                # Add both node identifiers to the 'nodes' set\n",
    "                nodes.update(edge_info)\n",
    "\n",
    "    # Calculate the number of unique nodes by finding the length of the 'nodes' set\n",
    "    num_nodes = len(nodes)\n",
    "    # The total number of unique edges has already been counted in the 'unique_edges' set\n",
    "    num_edges = len(unique_edges)\n",
    "\n",
    "    # Return the counts of nodes and edges as a tuple\n",
    "    return num_nodes, num_edges"
   ]
  },
  {
   "cell_type": "code",
   "execution_count": 13,
   "metadata": {},
   "outputs": [],
   "source": [
    "# Code taken from our TP1\n",
    "\n",
    "def load_graph(filename):\n",
    "    # Initialize an empty dictionary for the adjacency list.\n",
    "    adjacency_list = {}\n",
    "    \n",
    "    # Open the specified file for reading.\n",
    "    with open(filename, 'r') as file:\n",
    "        # Loop through each line in the file.\n",
    "        for line in file:\n",
    "            # Check if the line does not start with '#' (comments)\n",
    "            if not line.startswith('#'):\n",
    "                # Split the line into two nodes representing an edge.\n",
    "                edge_info = line.strip().split()\n",
    "                node1, node2 = edge_info[0], edge_info[1]\n",
    "                # Check if node1 is not already in the adjacency list.\n",
    "                if node1 not in adjacency_list:\n",
    "                    # Initialize an empty list for node1 in the adjacency list.\n",
    "                    adjacency_list[node1] = []\n",
    "                # Check if node2 is not already in the adjacency list.\n",
    "                if node2 not in adjacency_list:\n",
    "                    # Initialize an empty list for node2 in the adjacency list.\n",
    "                    adjacency_list[node2] = []\n",
    "                # Add node2 to the adjacency list of node1 (representing an undirected edge).\n",
    "                adjacency_list[node1].append(node2)\n",
    "                # Add node1 to the adjacency list of node2 (since it's an undirected edge).\n",
    "                adjacency_list[node2].append(node1)\n",
    "\n",
    "    # Return the adjacency list representing the undirected graph.\n",
    "    return adjacency_list"
   ]
  },
  {
   "cell_type": "code",
   "execution_count": 14,
   "metadata": {},
   "outputs": [],
   "source": [
    "# Code written to help us check our results\n",
    "\n",
    "def test_count_nodes_edges(filename):\n",
    "    start_time = time.time()\n",
    "    num_nodes, num_edges = count_nodes_edges(filename)\n",
    "    print(f\"Number of nodes: {num_nodes}\")\n",
    "    print(f\"Number of edges: {num_edges}\")\n",
    "    print(f\"Nodes and edges counted in {time.time() - start_time:.5f} seconds\")"
   ]
  },
  {
   "cell_type": "code",
   "execution_count": 15,
   "metadata": {},
   "outputs": [],
   "source": [
    "# Code written to help us check our results\n",
    "\n",
    "def test_optimized_count_nodes_edges(filename):\n",
    "    start_time = time.time()\n",
    "    num_nodes, num_edges = optimized_count_nodes_edges(filename)\n",
    "    print(f\"Number of nodes: {num_nodes}\")\n",
    "    print(f\"Number of edges: {num_edges}\")\n",
    "    print(f\"Nodes and edges counted in {time.time() - start_time:.5f} seconds\")"
   ]
  },
  {
   "cell_type": "code",
   "execution_count": 16,
   "metadata": {},
   "outputs": [
    {
     "data": {
      "image/png": "[encoded data removed]",
      "text/plain": [
       "<IPython.core.display.Image object>"
      ]
     },
     "execution_count": 16,
     "metadata": {},
     "output_type": "execute_result"
    }
   ],
   "source": [
    "# Displaying our test_graph, it should have 9 nodes and 8 edges\n",
    "Image(filename=\"./test_graph.png\")"
   ]
  },
  {
   "cell_type": "code",
   "execution_count": 17,
   "metadata": {},
   "outputs": [
    {
     "name": "stdout",
     "output_type": "stream",
     "text": [
      "Number of nodes: 9\n",
      "Number of edges: 8\n",
      "Nodes and edges counted in 0.01562 seconds\n"
     ]
    }
   ],
   "source": [
    "# Checking our test_graph\n",
    "filename = 'test_graph.txt'\n",
    "result = test_count_nodes_edges(filename)"
   ]
  },
  {
   "cell_type": "code",
   "execution_count": 18,
   "metadata": {},
   "outputs": [
    {
     "name": "stdout",
     "output_type": "stream",
     "text": [
      "Graph loaded in 0.00000 seconds\n"
     ]
    }
   ],
   "source": [
    "# Loading our test_graph.txt into a variable for easier use down the line\n",
    "filename = 'test_graph.txt'\n",
    "start_time = time.time()\n",
    "test_graph = load_graph(filename)\n",
    "print(f\"Graph loaded in {time.time() - start_time:.5f} seconds\")"
   ]
  },
  {
   "cell_type": "code",
   "execution_count": 19,
   "metadata": {},
   "outputs": [
    {
     "name": "stdout",
     "output_type": "stream",
     "text": [
      "Number of nodes: 7236\n",
      "Number of edges: 22425\n",
      "Nodes and edges counted in 0.08462 seconds\n"
     ]
    }
   ],
   "source": [
    "# Testing drosophila graph\n",
    "filename = 'drosophila.txt'\n",
    "result = test_count_nodes_edges(filename)"
   ]
  },
  {
   "cell_type": "code",
   "execution_count": 20,
   "metadata": {},
   "outputs": [
    {
     "name": "stdout",
     "output_type": "stream",
     "text": [
      "Graph loaded in 0.03775 seconds\n"
     ]
    }
   ],
   "source": [
    "# Loading droshophila.txt into a variable for easier use down the line\n",
    "filename = 'drosophila.txt'\n",
    "start_time = time.time()\n",
    "drosophila_graph = load_graph(filename)\n",
    "print(f\"Graph loaded in {time.time() - start_time:.5f} seconds\")"
   ]
  },
  {
   "cell_type": "code",
   "execution_count": 21,
   "metadata": {},
   "outputs": [
    {
     "name": "stdout",
     "output_type": "stream",
     "text": [
      "Number of nodes: 1005\n",
      "Number of edges: 25571\n",
      "Nodes and edges counted in 0.05337 seconds\n"
     ]
    }
   ],
   "source": [
    "# Testing email-Eu-core graph\n",
    "filename = 'email-Eu-core.txt'\n",
    "result = test_count_nodes_edges(filename)"
   ]
  },
  {
   "cell_type": "code",
   "execution_count": 22,
   "metadata": {},
   "outputs": [
    {
     "name": "stdout",
     "output_type": "stream",
     "text": [
      "Graph loaded in 0.03125 seconds\n"
     ]
    }
   ],
   "source": [
    "# Loading our email-Eu-core.txt into a variable for easier use down the line\n",
    "filename = 'email-Eu-core.txt'\n",
    "start_time = time.time()\n",
    "email_graph = load_graph(filename)\n",
    "print(f\"Graph loaded in {time.time() - start_time:.5f} seconds\")"
   ]
  },
  {
   "cell_type": "code",
   "execution_count": 23,
   "metadata": {},
   "outputs": [
    {
     "name": "stdout",
     "output_type": "stream",
     "text": [
      "Number of nodes: 334863\n",
      "Number of edges: 925872\n",
      "Nodes and edges counted in 1.63061 seconds\n"
     ]
    }
   ],
   "source": [
    "# Testing amazon graph\n",
    "filename = 'com-amazon.ungraph.txt'\n",
    "result = test_optimized_count_nodes_edges(filename)"
   ]
  },
  {
   "cell_type": "code",
   "execution_count": 24,
   "metadata": {},
   "outputs": [
    {
     "name": "stdout",
     "output_type": "stream",
     "text": [
      "Graph loaded in 1.34653 seconds\n"
     ]
    }
   ],
   "source": [
    "# Loading our com-amazon.ungraph.txt into a variable for easier use down the line\n",
    "filename = 'com-amazon.ungraph.txt'\n",
    "start_time = time.time()\n",
    "amazon_graph = load_graph(filename)\n",
    "print(f\"Graph loaded in {time.time() - start_time:.5f} seconds\")"
   ]
  },
  {
   "cell_type": "code",
   "execution_count": 42,
   "metadata": {},
   "outputs": [
    {
     "name": "stdout",
     "output_type": "stream",
     "text": [
      "Number of nodes: 3997962\n",
      "Number of edges: 34681189\n",
      "Nodes and edges counted in 86.02837 seconds\n"
     ]
    }
   ],
   "source": [
    "# Testing Live journal graph\n",
    "filename = 'com-lj.ungraph.txt'\n",
    "result = test_optimized_count_nodes_edges(filename)"
   ]
  },
  {
   "cell_type": "code",
   "execution_count": 43,
   "metadata": {},
   "outputs": [
    {
     "name": "stdout",
     "output_type": "stream",
     "text": [
      "Graph loaded in 51.70106 seconds\n"
     ]
    }
   ],
   "source": [
    "# Loading com-lj.ungraph.txt into a variable for easier use down the line\n",
    "filename = 'com-lj.ungraph.txt'\n",
    "start_time = time.time()\n",
    "live_journal = load_graph(filename)\n",
    "print(f\"Graph loaded in {time.time() - start_time:.5f} seconds\")"
   ]
  },
  {
   "cell_type": "markdown",
   "metadata": {},
   "source": [
    "### Sidenote: \n",
    "We might skip the \"live journal\" graph, as this graph is huge, unless we're using a high-end computer, working on this graph will take too long."
   ]
  },
  {
   "cell_type": "markdown",
   "metadata": {},
   "source": [
    "## Exercise 1: BFS\n",
    "\n",
    "### 1.1 Components\n",
    "\n",
    "- Implement a BFS algorithm.  \n",
    "\n",
    "- Use it on each of the graphs to evaluate the size of the largest connected component of these graphs.\n",
    "- Use it to identify all connected components.\n",
    "\n",
    "Warning: if your BFS is not well coded, it can be very long, so if it doesn't work on Amazon or LiveJournal in less than a few minutes, either improve your code, or test only on smaller graphs. "
   ]
  },
  {
   "cell_type": "code",
   "execution_count": 18,
   "metadata": {},
   "outputs": [],
   "source": [
    "def bfs(graph, start_node):\n",
    "    # Initialize a set to keep track of visited nodes\n",
    "    visited = set()\n",
    "    # Initialize a deque (double-ended queue) with the starting node\n",
    "    queue = deque([start_node])\n",
    "    # Initialize a list to store the connected component (nodes visited during BFS)\n",
    "    component = []\n",
    "\n",
    "    # Main BFS loop\n",
    "    while queue:\n",
    "        # Get the current node from the front of the queue\n",
    "        current = queue.popleft()\n",
    "        # Check if the current node has not been visited\n",
    "        if current not in visited:\n",
    "            # Mark the current node as visited\n",
    "            visited.add(current)\n",
    "            # Add the current node to the connected component\n",
    "            component.append(current)\n",
    "            # Extend the queue with unvisited neighbors of the current node\n",
    "            queue.extend(node for node in graph[current] if node not in visited)\n",
    "\n",
    "    # Return the connected component\n",
    "    return component"
   ]
  },
  {
   "cell_type": "code",
   "execution_count": 19,
   "metadata": {},
   "outputs": [],
   "source": [
    "def bfs_with_print(graph, start_node):\n",
    "    # Check if the starting node exists in the graph\n",
    "    if start_node not in graph: # In case someone decides to be funny and use a non-existing node\n",
    "        print(f\"<!>Error<!>: The starting node '{start_node}' not found in the graph.\")\n",
    "        print(f\"<!>Error<!>: Are you sure you didn't make a typo?\")\n",
    "        return\n",
    "    \n",
    "    # Initialize a set to keep track of visited nodes\n",
    "    visited = set()\n",
    "    # Initialize a deque (double-ended queue) with the starting node\n",
    "    queue = deque([start_node])\n",
    "    # Initialize a list to store the connected component (nodes visited during BFS)\n",
    "    component = []\n",
    "    # Initialize counters for nodes visited and all nodes traversed\n",
    "    nodes_visited = 0\n",
    "    all_nodes = []\n",
    "\n",
    "    # Main BFS loop\n",
    "    while queue:\n",
    "        # Get the current node from the front of the queue\n",
    "        current = queue.popleft()\n",
    "        # Check if the current node has not been visited\n",
    "        if current not in visited:\n",
    "            # Mark the current node as visited\n",
    "            visited.add(current)\n",
    "            # Add the current node to the connected component\n",
    "            component.append(current)\n",
    "            # Increment the nodes_visited counter and add the node to the all_nodes list\n",
    "            nodes_visited += 1\n",
    "            all_nodes.append(current)\n",
    "            # Extend the queue with unvisited neighbors of the current node\n",
    "            queue.extend(node for node in graph[current] if node not in visited)\n",
    "    print(\"=>BFS completed\")\n",
    "\n",
    "    # Print the nodes visited, showing either all or the first and last 10, since we have so crazy big graphs in this lab\n",
    "    if nodes_visited <= 10:\n",
    "        print(*all_nodes, end=' ')\n",
    "        print(\"\\nPrinted all nodes.\")\n",
    "    else:\n",
    "        print(*all_nodes[:10], end=' ')\n",
    "        print(*all_nodes[-10:], end=' ')\n",
    "        print(\"\\nPrinted the first and last 10 for better readability.\")\n",
    "\n",
    "    # Return the connected component\n",
    "    return component"
   ]
  },
  {
   "cell_type": "code",
   "execution_count": 20,
   "metadata": {},
   "outputs": [],
   "source": [
    "def test_bfs(graph, start_node):\n",
    "    start_time = time.time()\n",
    "    print(f\"BFS starting from vertex {start_node}:\")\n",
    "    result = bfs_with_print(graph, start_node)\n",
    "    print(f\"\\nBFS done in {time.time() - start_time:.5f} seconds\")"
   ]
  },
  {
   "cell_type": "code",
   "execution_count": 21,
   "metadata": {},
   "outputs": [
    {
     "data": {
      "image/png": "[encoded data removed]",
      "text/plain": [
       "<IPython.core.display.Image object>"
      ]
     },
     "execution_count": 21,
     "metadata": {},
     "output_type": "execute_result"
    }
   ],
   "source": [
    "# Displaying Test_graph, with BFS algorithm applied for node 7, for visual confirmation\n",
    "Image(filename=\"./test_graph_BFS.png\")"
   ]
  },
  {
   "cell_type": "code",
   "execution_count": 22,
   "metadata": {},
   "outputs": [
    {
     "name": "stdout",
     "output_type": "stream",
     "text": [
      "BFS starting from vertex 7:\n",
      "=>BFS completed\n",
      "7 3 8 9 1 6 2 4 5 \n",
      "Printed all nodes.\n",
      "\n",
      "BFS done in 0.00000 seconds\n"
     ]
    }
   ],
   "source": [
    "graph = test_graph\n",
    "start_node = \"7\"\n",
    "result = test_bfs(graph, start_node)"
   ]
  },
  {
   "cell_type": "code",
   "execution_count": 23,
   "metadata": {},
   "outputs": [
    {
     "name": "stdout",
     "output_type": "stream",
     "text": [
      "BFS starting from vertex 0:\n",
      "=>BFS completed\n",
      "0 1 2 3 4 5 6 7 8 9 3985 65 2428 5688 5213 7183 6249 6269 6754 7052 \n",
      "Printed the first and last 10 for better readability.\n",
      "\n",
      "BFS done in 0.01467 seconds\n"
     ]
    }
   ],
   "source": [
    "graph = drosophila_graph\n",
    "start_node = \"0\"\n",
    "result = test_bfs(graph, start_node)"
   ]
  },
  {
   "cell_type": "code",
   "execution_count": 24,
   "metadata": {},
   "outputs": [
    {
     "name": "stdout",
     "output_type": "stream",
     "text": [
      "BFS starting from vertex 0:\n",
      "=>BFS completed\n",
      "0 1 17 316 146 581 268 221 218 18 995 583 794 876 915 846 634 449 603 916 \n",
      "Printed the first and last 10 for better readability.\n",
      "\n",
      "BFS done in 0.01613 seconds\n"
     ]
    }
   ],
   "source": [
    "graph = email_graph\n",
    "start_node = \"0\"\n",
    "result = test_bfs(graph, start_node)"
   ]
  },
  {
   "cell_type": "code",
   "execution_count": 25,
   "metadata": {},
   "outputs": [
    {
     "name": "stdout",
     "output_type": "stream",
     "text": [
      "BFS starting from vertex 1:\n",
      "=>BFS completed\n",
      "1 88160 118052 161555 244916 346495 444232 447165 500600 48724 500867 532649 121514 482622 271203 276695 321818 321821 262774 150736 \n",
      "Printed the first and last 10 for better readability.\n",
      "\n",
      "BFS done in 1.01053 seconds\n"
     ]
    }
   ],
   "source": [
    "graph = amazon_graph\n",
    "start_node = \"1\"\n",
    "result = test_bfs(graph, start_node)"
   ]
  },
  {
   "cell_type": "code",
   "execution_count": 26,
   "metadata": {},
   "outputs": [
    {
     "name": "stdout",
     "output_type": "stream",
     "text": [
      "BFS starting from vertex 1:\n",
      "=>BFS completed\n",
      "1 0 2 3 4 5 6 7 8 9 3864109 3875339 3847906 3847911 3988338 3988339 3373887 3965135 3911578 3847908 \n",
      "Printed the first and last 10 for better readability.\n",
      "\n",
      "BFS done in 31.56620 seconds\n"
     ]
    }
   ],
   "source": [
    "# Comment or uncomment this part if you're confident your computer can handle it\n",
    "graph = live_journal\n",
    "start_node = \"1\"\n",
    "result = test_bfs(graph, start_node)"
   ]
  },
  {
   "cell_type": "markdown",
   "metadata": {},
   "source": [
    "### Sidenote:\n",
    "Our code was able to do a BFS algorithm in less than 30 seconds with the \"live journal\" graph with a high-end computer with 64GB of RAM.   \n",
    "    We can safely conclude that our code is optimized enough."
   ]
  },
  {
   "cell_type": "code",
   "execution_count": 27,
   "metadata": {},
   "outputs": [],
   "source": [
    "def connected_components(graph):\n",
    "    # Initialize a set to keep track of visited nodes\n",
    "    visited = set()\n",
    "    # Initialize a list to store connected components\n",
    "    components = []\n",
    "\n",
    "    # Iterate through all vertices in the graph\n",
    "    for node in graph:\n",
    "        # Check if the node has not been visited\n",
    "        if node not in visited:\n",
    "            # Use BFS to find the connected component starting from the current node\n",
    "            component = bfs(graph, node)\n",
    "            # Append the connected component to the list of components\n",
    "            components.append(component)\n",
    "            # Mark all nodes in the component as visited\n",
    "            visited.update(component)\n",
    "\n",
    "    # Return the list of connected components\n",
    "    return components"
   ]
  },
  {
   "cell_type": "code",
   "execution_count": 28,
   "metadata": {},
   "outputs": [],
   "source": [
    "def process_graph(graph):\n",
    "    start_time = time.time()\n",
    "    # Find the largest connected component\n",
    "    components = connected_components(graph)\n",
    "    largest_component = max(components, key=len)\n",
    "    \n",
    "    # Display the largest connected component\n",
    "    if len(largest_component) > 10:\n",
    "        print(f\"Largest connected component: {largest_component[:10]}...{largest_component[-10:]}\")\n",
    "    else:\n",
    "        print(f\"Largest connected component: {largest_component}\")\n",
    "    \n",
    "    print(f\"\\nSize of the largest connected component: {len(largest_component)}\")\n",
    "    print(\"\\nAll connected components:\")\n",
    "    \n",
    "    # Display all connected components\n",
    "    for i, component in enumerate(components, 1):\n",
    "        if len(component) > 10:\n",
    "            print(f\"Component {i}: {component[:10]}...{component[-10:]}\")\n",
    "        else:\n",
    "            print(f\"Component {i}: {component}\")\n",
    "    \n",
    "    print(f\"\\nConnected components found in {time.time() - start_time:.5f} seconds\")"
   ]
  },
  {
   "cell_type": "code",
   "execution_count": 29,
   "metadata": {},
   "outputs": [
    {
     "name": "stdout",
     "output_type": "stream",
     "text": [
      "Largest connected component: ['2', '1', '4', '5', '3', '6', '7', '8', '9']\n",
      "\n",
      "Size of the largest connected component: 9\n",
      "\n",
      "All connected components:\n",
      "Component 1: ['2', '1', '4', '5', '3', '6', '7', '8', '9']\n",
      "\n",
      "Connected components found in 0.00000 seconds\n"
     ]
    }
   ],
   "source": [
    "graph = test_graph\n",
    "result = process_graph(graph)"
   ]
  },
  {
   "cell_type": "code",
   "execution_count": 30,
   "metadata": {},
   "outputs": [
    {
     "name": "stdout",
     "output_type": "stream",
     "text": [
      "Largest connected component: ['0', '1', '2', '3', '4', '5', '6', '7', '8', '9']...['3985', '65', '2428', '5688', '5213', '7183', '6249', '6269', '6754', '7052']\n",
      "\n",
      "Size of the largest connected component: 7236\n",
      "\n",
      "All connected components:\n",
      "Component 1: ['0', '1', '2', '3', '4', '5', '6', '7', '8', '9']...['3985', '65', '2428', '5688', '5213', '7183', '6249', '6269', '6754', '7052']\n",
      "\n",
      "Connected components found in 0.01611 seconds\n"
     ]
    }
   ],
   "source": [
    "graph = drosophila_graph\n",
    "result = process_graph(graph)"
   ]
  },
  {
   "cell_type": "code",
   "execution_count": 31,
   "metadata": {},
   "outputs": [
    {
     "name": "stdout",
     "output_type": "stream",
     "text": [
      "Largest connected component: ['0', '1', '17', '316', '146', '581', '268', '221', '218', '18']...['995', '583', '794', '876', '915', '846', '634', '449', '603', '916']\n",
      "\n",
      "Size of the largest connected component: 986\n",
      "\n",
      "All connected components:\n",
      "Component 1: ['0', '1', '17', '316', '146', '581', '268', '221', '218', '18']...['995', '583', '794', '876', '915', '846', '634', '449', '603', '916']\n",
      "Component 2: ['580']\n",
      "Component 3: ['633']\n",
      "Component 4: ['648']\n",
      "Component 5: ['653']\n",
      "Component 6: ['658']\n",
      "Component 7: ['660']\n",
      "Component 8: ['670']\n",
      "Component 9: ['675']\n",
      "Component 10: ['684']\n",
      "Component 11: ['691']\n",
      "Component 12: ['703']\n",
      "Component 13: ['711']\n",
      "Component 14: ['731']\n",
      "Component 15: ['732']\n",
      "Component 16: ['744']\n",
      "Component 17: ['746']\n",
      "Component 18: ['772']\n",
      "Component 19: ['798']\n",
      "Component 20: ['808']\n",
      "\n",
      "Connected components found in 0.01004 seconds\n"
     ]
    }
   ],
   "source": [
    "graph = email_graph\n",
    "result = process_graph(graph)"
   ]
  },
  {
   "cell_type": "code",
   "execution_count": 32,
   "metadata": {},
   "outputs": [
    {
     "name": "stdout",
     "output_type": "stream",
     "text": [
      "Largest connected component: ['1', '88160', '118052', '161555', '244916', '346495', '444232', '447165', '500600', '48724']...['500867', '532649', '121514', '482622', '271203', '276695', '321818', '321821', '262774', '150736']\n",
      "\n",
      "Size of the largest connected component: 334863\n",
      "\n",
      "All connected components:\n",
      "Component 1: ['1', '88160', '118052', '161555', '244916', '346495', '444232', '447165', '500600', '48724']...['500867', '532649', '121514', '482622', '271203', '276695', '321818', '321821', '262774', '150736']\n",
      "\n",
      "Connected components found in 1.04169 seconds\n"
     ]
    }
   ],
   "source": [
    "graph = amazon_graph\n",
    "result = process_graph(graph)"
   ]
  },
  {
   "cell_type": "code",
   "execution_count": 33,
   "metadata": {},
   "outputs": [
    {
     "name": "stdout",
     "output_type": "stream",
     "text": [
      "Largest connected component: ['0', '1', '2', '31', '73', '80', '113619', '2468556', '2823829', '2823833']...['3864109', '3875339', '3373887', '3847906', '3847911', '3965135', '3988338', '3988339', '3911578', '3847908']\n",
      "\n",
      "Size of the largest connected component: 3997962\n",
      "\n",
      "All connected components:\n",
      "Component 1: ['0', '1', '2', '31', '73', '80', '113619', '2468556', '2823829', '2823833']...['3864109', '3875339', '3373887', '3847906', '3847911', '3965135', '3988338', '3988339', '3911578', '3847908']\n",
      "\n",
      "Connected components found in 33.02808 seconds\n"
     ]
    }
   ],
   "source": [
    "# Comment or uncomment this part if you're confident your computer can handle it\n",
    "graph = live_journal\n",
    "result = process_graph(graph)"
   ]
  },
  {
   "cell_type": "markdown",
   "metadata": {},
   "source": [
    "### 1.2 Distances\n",
    "\n",
    "- Modify the BFS above to have it compute the distance to the source node.\n",
    "\n",
    "- Using the fact that the diameter is necessarily larger than any distance measured, use your distance computation code to get a lower bound of the diameter. The higher the bound, the better."
   ]
  },
  {
   "cell_type": "code",
   "execution_count": 34,
   "metadata": {},
   "outputs": [],
   "source": [
    "def compute_distances(graph, start_node):\n",
    "    # Check if the starting node exists in the graph\n",
    "    if start_node not in graph: # In case someone decides to be funny and use a non-existing node\n",
    "        print(f\"<!>Error<!>: The starting node '{start_node}' not found in the graph.\")\n",
    "        print(f\"<!>Error<!>: Are you sure you didn't make a typo?\")\n",
    "        return\n",
    "    \n",
    "    # Initialize a dictionary to store distances from the start node to other nodes\n",
    "    distances = {}\n",
    "    # Initialize a deque (double-ended queue) and add the starting node\n",
    "    queue = deque()\n",
    "    queue.append(start_node)\n",
    "    # Set the distance from the start node to itself to be 0\n",
    "    distances[start_node] = 0\n",
    "\n",
    "    # Main BFS loop to compute distances\n",
    "    while queue:\n",
    "        # Get the current node from the front of the queue\n",
    "        current_node = queue.popleft()\n",
    "        # Iterate through neighbors of the current node\n",
    "        for neighbor in graph[current_node]:\n",
    "            # Check if the neighbor has not been assigned a distance\n",
    "            if neighbor not in distances:\n",
    "                # Add the neighbor to the queue\n",
    "                queue.append(neighbor)\n",
    "                # Set the distance from the start node to the neighbor\n",
    "                distances[neighbor] = distances[current_node] + 1\n",
    "\n",
    "    # Return the computed distances\n",
    "    return distances"
   ]
  },
  {
   "cell_type": "code",
   "execution_count": 35,
   "metadata": {},
   "outputs": [],
   "source": [
    "def test_compute_distances(graph, start_node):\n",
    "    start_time = time.time()\n",
    "    distances = compute_distances(graph, start_node)\n",
    "    # Displaying only the 10 first and last if more than 10, else display all\n",
    "    if len(distances) > 10:\n",
    "        first_10 = list(distances.items())[:10]\n",
    "        last_10 = list(distances.items())[-10:]\n",
    "        display_distances = dict(first_10 + last_10)\n",
    "    else:\n",
    "        display_distances = distances\n",
    "    \n",
    "    print(\"Distances:\", display_distances)\n",
    "    print(f\"Calculating distance done in {time.time() - start_time:.5f} seconds\")"
   ]
  },
  {
   "cell_type": "code",
   "execution_count": 36,
   "metadata": {},
   "outputs": [
    {
     "name": "stdout",
     "output_type": "stream",
     "text": [
      "Distances: {'7': 0, '3': 1, '8': 1, '9': 1, '1': 2, '6': 2, '2': 3, '4': 4, '5': 4}\n",
      "Calculating distance done in 0.00000 seconds\n"
     ]
    }
   ],
   "source": [
    "graph = test_graph\n",
    "start_node = \"7\"\n",
    "result = test_compute_distances(graph, start_node)"
   ]
  },
  {
   "cell_type": "code",
   "execution_count": 37,
   "metadata": {},
   "outputs": [
    {
     "name": "stdout",
     "output_type": "stream",
     "text": [
      "Distances: {'0': 0, '1': 1, '2': 1, '3': 1, '4': 1, '5': 1, '6': 1, '7': 1, '8': 1, '9': 1, '3985': 7, '65': 7, '2428': 7, '5688': 7, '5213': 7, '7183': 7, '6249': 7, '6269': 7, '6754': 7, '7052': 8}\n",
      "Calculating distance done in 0.01816 seconds\n"
     ]
    }
   ],
   "source": [
    "graph = drosophila_graph\n",
    "start_node = \"0\"\n",
    "result = test_compute_distances(graph, start_node)"
   ]
  },
  {
   "cell_type": "code",
   "execution_count": 38,
   "metadata": {},
   "outputs": [
    {
     "name": "stdout",
     "output_type": "stream",
     "text": [
      "Distances: {'0': 0, '1': 1, '17': 1, '316': 1, '146': 1, '581': 1, '268': 1, '221': 1, '218': 1, '18': 1, '995': 4, '583': 4, '794': 4, '876': 4, '915': 4, '846': 4, '634': 4, '449': 4, '603': 4, '916': 4}\n",
      "Calculating distance done in 0.00404 seconds\n"
     ]
    }
   ],
   "source": [
    "graph = email_graph\n",
    "start_node = \"0\"\n",
    "result = test_compute_distances(graph, start_node)"
   ]
  },
  {
   "cell_type": "code",
   "execution_count": 39,
   "metadata": {},
   "outputs": [
    {
     "name": "stdout",
     "output_type": "stream",
     "text": [
      "Distances: {'1': 0, '88160': 1, '118052': 1, '161555': 1, '244916': 1, '346495': 1, '444232': 1, '447165': 1, '500600': 1, '48724': 2, '500867': 31, '532649': 31, '121514': 31, '482622': 31, '271203': 31, '276695': 31, '321818': 32, '321821': 32, '262774': 32, '150736': 33}\n",
      "Calculating distance done in 0.84491 seconds\n"
     ]
    }
   ],
   "source": [
    "graph = amazon_graph\n",
    "start_node = \"1\"\n",
    "result = test_compute_distances(graph, start_node)"
   ]
  },
  {
   "cell_type": "code",
   "execution_count": 40,
   "metadata": {},
   "outputs": [
    {
     "name": "stdout",
     "output_type": "stream",
     "text": [
      "Distances: {'1': 0, '0': 1, '2': 1, '3': 1, '4': 1, '5': 1, '6': 1, '7': 1, '8': 1, '9': 1, '3864109': 11, '3875339': 11, '3847906': 12, '3847911': 12, '3988338': 12, '3988339': 12, '3373887': 12, '3965135': 12, '3911578': 12, '3847908': 13}\n",
      "Calculating distance done in 27.51104 seconds\n"
     ]
    }
   ],
   "source": [
    "graph = live_journal\n",
    "start_node = \"1\"\n",
    "result = test_compute_distances(graph, start_node)"
   ]
  },
  {
   "cell_type": "code",
   "execution_count": 41,
   "metadata": {},
   "outputs": [],
   "source": [
    "def lower_bound_diameter(graph, sample_size=None):\n",
    "    # Initialize the lower bound to 0\n",
    "    lower_bound = 0\n",
    "\n",
    "    # If sample_size is None, use all nodes for BFS, otherwise, use a sample\n",
    "    nodes_to_sample = list(graph.keys())\n",
    "\n",
    "    # If a sample size is specified and greater than 0\n",
    "    if sample_size is not None and sample_size > 0:\n",
    "        # Ensure that the sample size is not greater than the population size\n",
    "        sample_size = min(sample_size, len(nodes_to_sample))\n",
    "        # Randomly sample nodes for BFS\n",
    "        nodes_to_sample = random.sample(nodes_to_sample, sample_size)\n",
    "\n",
    "    # Compute distances for sampled nodes in a single BFS traversal\n",
    "    all_distances = {}\n",
    "    for start_node in nodes_to_sample:\n",
    "        # Use a BFS to compute distances from the start node to all other nodes\n",
    "        distances = compute_distances(graph, start_node)\n",
    "        all_distances[start_node] = distances\n",
    "\n",
    "    # Iterate over each node to determine eccentricity\n",
    "    for start_node, distances in all_distances.items():\n",
    "        # Find the maximum distance, representing the eccentricity of the node\n",
    "        eccentricity = max(distances.values())\n",
    "        # Update the lower bound if the eccentricity is greater\n",
    "        lower_bound = max(lower_bound, eccentricity)\n",
    "\n",
    "    # Return the computed lower bound for the diameter\n",
    "    return lower_bound"
   ]
  },
  {
   "cell_type": "code",
   "execution_count": 42,
   "metadata": {},
   "outputs": [],
   "source": [
    "def test_lower_bound_diameter(graph, sample_size=None):\n",
    "    start_time = time.time()\n",
    "    lower_bound = lower_bound_diameter(graph, sample_size=sample_size)\n",
    "    print(f\"Lower bound for diameter: {lower_bound}\")\n",
    "    print(f\"Calculating lower bound done in {time.time() - start_time:.5f} seconds\")"
   ]
  },
  {
   "cell_type": "code",
   "execution_count": 43,
   "metadata": {},
   "outputs": [
    {
     "name": "stdout",
     "output_type": "stream",
     "text": [
      "Lower bound for diameter: 5\n",
      "Calculating lower bound done in 0.00000 seconds\n"
     ]
    }
   ],
   "source": [
    "graph = test_graph\n",
    "sample_size = 10\n",
    "result = test_lower_bound_diameter(graph, sample_size=sample_size)"
   ]
  },
  {
   "cell_type": "code",
   "execution_count": 44,
   "metadata": {},
   "outputs": [
    {
     "name": "stdout",
     "output_type": "stream",
     "text": [
      "Lower bound for diameter: 11\n",
      "Calculating lower bound done in 9.57043 seconds\n"
     ]
    }
   ],
   "source": [
    "graph = drosophila_graph\n",
    "sample_size = 1500\n",
    "result = test_lower_bound_diameter(graph, sample_size=sample_size)"
   ]
  },
  {
   "cell_type": "code",
   "execution_count": 45,
   "metadata": {},
   "outputs": [
    {
     "name": "stdout",
     "output_type": "stream",
     "text": [
      "Lower bound for diameter: 7\n",
      "Calculating lower bound done in 2.99706 seconds\n"
     ]
    }
   ],
   "source": [
    "graph = email_graph\n",
    "sample_size = 1500\n",
    "result = test_lower_bound_diameter(graph, sample_size=sample_size)"
   ]
  },
  {
   "cell_type": "code",
   "execution_count": 46,
   "metadata": {},
   "outputs": [
    {
     "name": "stdout",
     "output_type": "stream",
     "text": [
      "Lower bound for diameter: 40\n",
      "Calculating lower bound done in 66.02522 seconds\n"
     ]
    }
   ],
   "source": [
    "graph = amazon_graph\n",
    "sample_size = 100\n",
    "result = test_lower_bound_diameter(graph, sample_size=sample_size)"
   ]
  },
  {
   "cell_type": "code",
   "execution_count": 47,
   "metadata": {},
   "outputs": [
    {
     "name": "stdout",
     "output_type": "stream",
     "text": [
      "Lower bound for diameter: 14\n",
      "Calculating lower bound done in 76.08555 seconds\n"
     ]
    }
   ],
   "source": [
    "graph = live_journal\n",
    "sample_size = 3\n",
    "result = test_lower_bound_diameter(graph, sample_size=sample_size)"
   ]
  },
  {
   "cell_type": "markdown",
   "metadata": {},
   "source": [
    "## Exercise 2: Triangles\n",
    "\n",
    "### 2.1 Raw triangle counting\n",
    "\n",
    "- Implement the 2 triangle counting algorithms presented in the course. \n",
    "\n",
    "- Test your program on the 3 graphs and report the number of triangles as well as the running time of your program."
   ]
  },
  {
   "cell_type": "code",
   "execution_count": 48,
   "metadata": {},
   "outputs": [],
   "source": [
    "def naive_triangle_count(graph):\n",
    "    # Initialize a counter for the number of triangles\n",
    "    nb = 0\n",
    "\n",
    "    # Iterate over all nodes in the graph\n",
    "    for v in graph:\n",
    "        # Get the set of neighbors for the current node v\n",
    "        neighbors_v = set(graph[v])\n",
    "        # Iterate over neighbors of v\n",
    "        for u1 in neighbors_v:\n",
    "            # Iterate over neighbors of v (excluding u1)\n",
    "            for u2 in neighbors_v:\n",
    "                # Check if u1 and u2 are distinct neighbors\n",
    "                if u2 != u1:\n",
    "                    # Check if u1 and u2 are also neighbors (forming a triangle)\n",
    "                    if u1 in graph[u2]:\n",
    "                        # Increment the triangle counter\n",
    "                        nb += 1\n",
    "\n",
    "    # Each triangle is counted 3 times (once for each node), so divide by 6 to get the actual count\n",
    "    return nb // 6"
   ]
  },
  {
   "cell_type": "code",
   "execution_count": 49,
   "metadata": {},
   "outputs": [],
   "source": [
    "def test_naive_triangle_count(graph):\n",
    "    start_time = time.time()\n",
    "    result = naive_triangle_count(graph)\n",
    "    print(\"Number of triangles:\", result)\n",
    "    print(f\"Calculating triangle done in {time.time() - start_time:.5f} seconds\")"
   ]
  },
  {
   "cell_type": "code",
   "execution_count": 50,
   "metadata": {},
   "outputs": [
    {
     "name": "stdout",
     "output_type": "stream",
     "text": [
      "Number of triangles: 0\n",
      "Calculating triangle done in 0.00000 seconds\n"
     ]
    }
   ],
   "source": [
    "graph = test_graph\n",
    "result = test_naive_triangle_count(graph)"
   ]
  },
  {
   "cell_type": "code",
   "execution_count": 51,
   "metadata": {},
   "outputs": [
    {
     "name": "stdout",
     "output_type": "stream",
     "text": [
      "Number of triangles: 2994\n",
      "Calculating triangle done in 0.53786 seconds\n"
     ]
    }
   ],
   "source": [
    "graph = drosophila_graph\n",
    "result = test_naive_triangle_count(graph)"
   ]
  },
  {
   "cell_type": "code",
   "execution_count": 52,
   "metadata": {},
   "outputs": [
    {
     "name": "stdout",
     "output_type": "stream",
     "text": [
      "Number of triangles: 114535\n",
      "Calculating triangle done in 6.08621 seconds\n"
     ]
    }
   ],
   "source": [
    "graph = email_graph\n",
    "result = test_naive_triangle_count(graph)"
   ]
  },
  {
   "cell_type": "code",
   "execution_count": 53,
   "metadata": {
    "scrolled": true
   },
   "outputs": [
    {
     "name": "stdout",
     "output_type": "stream",
     "text": [
      "Number of triangles: 667129\n",
      "Calculating triangle done in 6.73310 seconds\n"
     ]
    }
   ],
   "source": [
    "graph = amazon_graph\n",
    "result = test_naive_triangle_count(graph)"
   ]
  },
  {
   "cell_type": "code",
   "execution_count": 54,
   "metadata": {},
   "outputs": [
    {
     "data": {
      "text/plain": [
       "'graph = live_journal\\nresult = test_naive_triangle_count(graph)'"
      ]
     },
     "execution_count": 54,
     "metadata": {},
     "output_type": "execute_result"
    }
   ],
   "source": [
    "# Comment or uncomment this part if you're confident your computer can handle it\n",
    "\"\"\"graph = live_journal\n",
    "result = test_naive_triangle_count(graph)\"\"\"\n",
    "\n",
    "# This is taking way too long"
   ]
  },
  {
   "cell_type": "code",
   "execution_count": 55,
   "metadata": {},
   "outputs": [],
   "source": [
    "def improved_triangle_counting(graph):\n",
    "    # Initialize a counter for the number of triangles\n",
    "    nb = 0\n",
    "\n",
    "    # Iterate over all edges (u, v) where u < v\n",
    "    for u in set(graph):\n",
    "        for v in set(graph[u]):\n",
    "            # Ensure u is less than v to avoid duplicate counts\n",
    "            if u < v:\n",
    "                # Find common neighbors of u and v\n",
    "                common_neighbors = set(graph[u]) & set(graph[v])\n",
    "                # Iterate over common neighbors (w) where v < w\n",
    "                for w in common_neighbors:\n",
    "                    if v < w:\n",
    "                        # Increment the triangle counter\n",
    "                        nb += 1\n",
    "\n",
    "    # Return the total count of triangles\n",
    "    return nb"
   ]
  },
  {
   "cell_type": "code",
   "execution_count": 56,
   "metadata": {},
   "outputs": [],
   "source": [
    "def test_improved_triangle_count(graph):\n",
    "    start_time = time.time()\n",
    "    result = improved_triangle_counting(graph)\n",
    "    print(\"Number of triangles:\", result)\n",
    "    print(f\"Calculating triangle done in {time.time() - start_time:.5f} seconds\")"
   ]
  },
  {
   "cell_type": "code",
   "execution_count": 57,
   "metadata": {},
   "outputs": [
    {
     "name": "stdout",
     "output_type": "stream",
     "text": [
      "Number of triangles: 0\n",
      "Calculating triangle done in 0.00100 seconds\n"
     ]
    }
   ],
   "source": [
    "graph = test_graph\n",
    "result = test_improved_triangle_count(graph)"
   ]
  },
  {
   "cell_type": "code",
   "execution_count": 58,
   "metadata": {},
   "outputs": [
    {
     "name": "stdout",
     "output_type": "stream",
     "text": [
      "Number of triangles: 2179\n",
      "Calculating triangle done in 0.07784 seconds\n"
     ]
    }
   ],
   "source": [
    "graph = drosophila_graph\n",
    "result = test_improved_triangle_count(graph)"
   ]
  },
  {
   "cell_type": "code",
   "execution_count": 59,
   "metadata": {},
   "outputs": [
    {
     "name": "stdout",
     "output_type": "stream",
     "text": [
      "Number of triangles: 105461\n",
      "Calculating triangle done in 0.31666 seconds\n"
     ]
    }
   ],
   "source": [
    "graph = email_graph\n",
    "result = test_improved_triangle_count(graph)"
   ]
  },
  {
   "cell_type": "code",
   "execution_count": 60,
   "metadata": {},
   "outputs": [
    {
     "name": "stdout",
     "output_type": "stream",
     "text": [
      "Number of triangles: 667129\n",
      "Calculating triangle done in 3.07633 seconds\n"
     ]
    }
   ],
   "source": [
    "graph = amazon_graph\n",
    "result = test_improved_triangle_count(graph)"
   ]
  },
  {
   "cell_type": "code",
   "execution_count": 1,
   "metadata": {},
   "outputs": [
    {
     "data": {
      "text/plain": [
       "'graph = live_journal\\nresult = test_improved_triangle_count(graph)'"
      ]
     },
     "execution_count": 1,
     "metadata": {},
     "output_type": "execute_result"
    }
   ],
   "source": [
    "# Comment or uncomment this part if you're confident your computer can handle it\n",
    "\"\"\"graph = live_journal\n",
    "result = test_improved_triangle_count(graph)\"\"\"\n",
    "\n",
    "# Guess what? I'm not confident my i7 and 64GB of RAM can handle this"
   ]
  },
  {
   "cell_type": "markdown",
   "metadata": {},
   "source": [
    "### 2.2 Transitive ratio\n",
    "\n",
    "Use this program to compute the transitive ratio of the graphs. Remember that the transitive ratio is defined as \n",
    "$$ \\frac{3.number \\ of \\ triangles}{number \\ of \\ forks}$$\n",
    "and that the number of forks (or connected triples) of a node of degree $d$ is simply $\\frac{d(d-1)}{2}$."
   ]
  },
  {
   "cell_type": "code",
   "execution_count": 62,
   "metadata": {},
   "outputs": [],
   "source": [
    "def transitive_ratio(graph):\n",
    "    # Count the number of triangles in the graph\n",
    "    num_triangles = improved_triangle_counting(graph)\n",
    "    # Initialize a counter for the number of forks\n",
    "    num_forks = 0\n",
    "\n",
    "    # Iterate over all nodes in the graph\n",
    "    for node in graph:\n",
    "        # Get the degree (number of neighbors) of the current node\n",
    "        degree = len(graph[node])\n",
    "        # Calculate the number of forks (pairs of neighbors of the current node)\n",
    "        num_forks += (degree * (degree - 1)) / 2\n",
    "\n",
    "    # Calculate the transitive ratio, avoiding division by zero\n",
    "    transitive_ratio = (3 * num_triangles) / num_forks if num_forks != 0 else 0\n",
    "\n",
    "    # Return the computed transitive ratio\n",
    "    return transitive_ratio"
   ]
  },
  {
   "cell_type": "code",
   "execution_count": 63,
   "metadata": {},
   "outputs": [],
   "source": [
    "def test_transitive_ratio(graph):\n",
    "    start_time = time.time()\n",
    "    result = transitive_ratio(graph)\n",
    "    print(\"Transitive ratio:\", result)\n",
    "    print(f\"Calculating transitive ratio done in {time.time() - start_time:.5f} seconds\")"
   ]
  },
  {
   "cell_type": "code",
   "execution_count": 64,
   "metadata": {},
   "outputs": [
    {
     "name": "stdout",
     "output_type": "stream",
     "text": [
      "Transitive ratio: 0.0\n",
      "Calculating transitive ratio done in 0.00000 seconds\n"
     ]
    }
   ],
   "source": [
    "# Our test graph should have 0, since there is no triangles in this graph.\n",
    "graph = test_graph\n",
    "result = test_transitive_ratio(graph)"
   ]
  },
  {
   "cell_type": "code",
   "execution_count": 65,
   "metadata": {},
   "outputs": [
    {
     "name": "stdout",
     "output_type": "stream",
     "text": [
      "Transitive ratio: 0.014100487272460585\n",
      "Calculating transitive ratio done in 0.07924 seconds\n"
     ]
    }
   ],
   "source": [
    "graph = drosophila_graph\n",
    "result = test_transitive_ratio(graph)"
   ]
  },
  {
   "cell_type": "code",
   "execution_count": 66,
   "metadata": {},
   "outputs": [
    {
     "name": "stdout",
     "output_type": "stream",
     "text": [
      "Transitive ratio: 0.10231098130040235\n",
      "Calculating transitive ratio done in 0.29592 seconds\n"
     ]
    }
   ],
   "source": [
    "graph = email_graph\n",
    "result = test_transitive_ratio(graph)"
   ]
  },
  {
   "cell_type": "code",
   "execution_count": 67,
   "metadata": {},
   "outputs": [
    {
     "name": "stdout",
     "output_type": "stream",
     "text": [
      "Transitive ratio: 0.20522444916452579\n",
      "Calculating transitive ratio done in 3.18848 seconds\n"
     ]
    }
   ],
   "source": [
    "graph = amazon_graph\n",
    "result = test_transitive_ratio(graph)"
   ]
  },
  {
   "cell_type": "code",
   "execution_count": 68,
   "metadata": {},
   "outputs": [
    {
     "data": {
      "text/plain": [
       "'graph = live_journal\\nresult = test_transitive_ratio(graph)'"
      ]
     },
     "execution_count": 68,
     "metadata": {},
     "output_type": "execute_result"
    }
   ],
   "source": [
    "# Comment or uncomment this part if you're confident your computer can handle it\n",
    "'''graph = live_journal\n",
    "result = test_transitive_ratio(graph)'''\n",
    "\n",
    "# Yeah... even with my computer, this is taking too long"
   ]
  },
  {
   "cell_type": "markdown",
   "metadata": {},
   "source": [
    "## * Exercice 3: Recent Research\n",
    "\n",
    "\\* Star exercice is a little bit advanced but very enriching. The point of this exercice is a little introduction to research paper reading and implementing some simple algorithms. \n",
    "\n",
    "If you do not do this exercice at all and perfectly do the other 2 (Exercice 1 and 2) you will get a good grade. But doing this exercice even only a part of it will help you get the highest marks.\n",
    "\n",
    "**I do not want you to understand all the content of the papers. We are just implementing given algorithms. But of course understanding research papers can help you in your future career.**\n",
    "\n",
    "**Do not hesitate to contact me or email me if you need any help.**\n",
    "\n",
    "### 3.1  Recent research on triangle counting:\n",
    "\n",
    "Take a look at the recent article (published in [Alenex 2023](https://epubs.siam.org/doi/book/10.1137/1.9781611977561)\n",
    ") : https://epubs.siam.org/doi/pdf/10.1137/1.9781611977561.ch7 and implement the algorithms A++ and A+- and compare their running times on the 3 graphs"
   ]
  },
  {
   "cell_type": "code",
   "execution_count": 25,
   "metadata": {},
   "outputs": [],
   "source": [
    "# From page 79 of said article\n",
    "\n",
    "def a_plus_plus(graph):\n",
    "    triangles = set()\n",
    "\n",
    "    # Step 1: Initialize array B with False for each vertex v\n",
    "    B = {v: False for v in graph}\n",
    "\n",
    "    # Step 2: for each vertex w\n",
    "    for w in graph:\n",
    "        # Step 3: for each vertex v in neighbors of w (N - w)\n",
    "        for v in set(graph[w]) - {w}:\n",
    "            B[v] = True\n",
    "\n",
    "        # Step 5: for each vertex u in neighbors of w (N - w)\n",
    "        for u in set(graph[w]) - {w}:\n",
    "            # Step 6: for each vertex v in neighbors of u (N + u)\n",
    "            for v in set(graph[u]):\n",
    "                # Step 7: if B[v] and v > u\n",
    "                if B[v] and v > u:\n",
    "                    # Step 8: output triangle {u, v, w}\n",
    "                    triangle = tuple(sorted((u, v, w)))\n",
    "                    triangles.add(triangle)\n",
    "\n",
    "        # Step 9: for each vertex v in neighbors of w (N - w)\n",
    "        for v in set(graph[w]) - {w}:\n",
    "            B[v] = False\n",
    "\n",
    "    return list(triangles)"
   ]
  },
  {
   "cell_type": "code",
   "execution_count": 26,
   "metadata": {},
   "outputs": [],
   "source": [
    "# Also from page 79\n",
    "\n",
    "def test_a_plus_plus(graph):\n",
    "    start_time = time.time()\n",
    "    result = a_plus_plus(graph)\n",
    "\n",
    "    # Display only the first 5 and last 5 triangles, or all if there are fewer than 10\n",
    "    if not result:\n",
    "        print(\"No triangle found\")\n",
    "    else:\n",
    "        print(\"Triangles:\")\n",
    "        for triangle in result[:5]:\n",
    "            print(f\"Triangle found: {triangle}\")\n",
    "\n",
    "        if len(result) > 5:\n",
    "            print(\"...\")\n",
    "            for triangle in result[-5:]:\n",
    "                print(f\"Triangle found: {triangle}\")\n",
    "    print(f\"Calculating triangle done in {time.time() - start_time:.5f} seconds\")\n",
    "    print(f\"Number of triangles: {len(result)}\")"
   ]
  },
  {
   "cell_type": "code",
   "execution_count": 27,
   "metadata": {},
   "outputs": [
    {
     "name": "stdout",
     "output_type": "stream",
     "text": [
      "No triangle found\n",
      "Calculating triangle done in 0.00000 seconds\n",
      "Number of triangles: 0\n"
     ]
    }
   ],
   "source": [
    "# like previously, it shouldn't find any triangles\n",
    "graph = test_graph\n",
    "result = test_a_plus_plus(graph)"
   ]
  },
  {
   "cell_type": "code",
   "execution_count": 28,
   "metadata": {},
   "outputs": [
    {
     "name": "stdout",
     "output_type": "stream",
     "text": [
      "Triangles:\n",
      "Triangle found: ('11', '278', '618')\n",
      "Triangle found: ('185', '1887', '466')\n",
      "Triangle found: ('207', '284', '50')\n",
      "Triangle found: ('1175', '258', '3052')\n",
      "Triangle found: ('279', '284', '3083')\n",
      "...\n",
      "Triangle found: ('1496', '2078', '4221')\n",
      "Triangle found: ('161', '1885', '334')\n",
      "Triangle found: ('1694', '2546', '645')\n",
      "Triangle found: ('2793', '313', '328')\n",
      "Triangle found: ('267', '884', '900')\n",
      "Calculating triangle done in 0.13147 seconds\n",
      "Number of triangles: 2179\n"
     ]
    }
   ],
   "source": [
    "graph = drosophila_graph\n",
    "result = test_a_plus_plus(graph)"
   ]
  },
  {
   "cell_type": "code",
   "execution_count": 29,
   "metadata": {},
   "outputs": [
    {
     "name": "stdout",
     "output_type": "stream",
     "text": [
      "Triangles:\n",
      "Triangle found: ('211', '281', '82')\n",
      "Triangle found: ('114', '155', '183')\n",
      "Triangle found: ('107', '128', '820')\n",
      "Triangle found: ('365', '377', '490')\n",
      "Triangle found: ('299', '549', '6')\n",
      "...\n",
      "Triangle found: ('160', '484', '87')\n",
      "Triangle found: ('128', '167', '204')\n",
      "Triangle found: ('411', '867', '96')\n",
      "Triangle found: ('142', '183', '367')\n",
      "Triangle found: ('271', '5', '859')\n",
      "Calculating triangle done in 0.52114 seconds\n",
      "Number of triangles: 105461\n"
     ]
    }
   ],
   "source": [
    "graph = email_graph\n",
    "result = test_a_plus_plus(graph)"
   ]
  },
  {
   "cell_type": "code",
   "execution_count": 30,
   "metadata": {},
   "outputs": [
    {
     "name": "stdout",
     "output_type": "stream",
     "text": [
      "Triangles:\n",
      "Triangle found: ('440697', '497836', '524978')\n",
      "Triangle found: ('382087', '405958', '530456')\n",
      "Triangle found: ('141743', '243033', '67834')\n",
      "Triangle found: ('149227', '20804', '502926')\n",
      "Triangle found: ('287933', '390989', '451680')\n",
      "...\n",
      "Triangle found: ('405954', '80343', '80357')\n",
      "Triangle found: ('163846', '475933', '48305')\n",
      "Triangle found: ('402139', '410697', '416381')\n",
      "Triangle found: ('246746', '295005', '386600')\n",
      "Triangle found: ('326455', '337695', '526034')\n",
      "Calculating triangle done in 6.75543 seconds\n",
      "Number of triangles: 667129\n"
     ]
    }
   ],
   "source": [
    "graph = amazon_graph\n",
    "result = test_a_plus_plus(graph)"
   ]
  },
  {
   "cell_type": "code",
   "execution_count": 75,
   "metadata": {},
   "outputs": [
    {
     "data": {
      "text/plain": [
       "'graph = live_journal\\nresult = test_a_plus_plus(graph)'"
      ]
     },
     "execution_count": 75,
     "metadata": {},
     "output_type": "execute_result"
    }
   ],
   "source": [
    "# Only uncomment this if you have a powerhouse of a computer\n",
    "\"\"\"graph = live_journal\n",
    "result = test_a_plus_plus(graph)\"\"\"\n",
    "\n",
    "# Trust me, I tried..."
   ]
  },
  {
   "cell_type": "code",
   "execution_count": 31,
   "metadata": {},
   "outputs": [],
   "source": [
    "def a_plus_minus(graph):\n",
    "    triangles = set()  # Set to store the triangles found in the graph\n",
    "\n",
    "    B = {w: False for w in graph}  # Dictionary to keep track of visited nodes\n",
    "\n",
    "    for u in graph:  # Iterate over each node in the graph\n",
    "        for w in set(graph[u]):  # Set the adjacent nodes of u in B to True\n",
    "            B[w] = True\n",
    "\n",
    "        for v in set(graph[u]):  # Iterate over each adjacent node of u\n",
    "            for w in set(graph[v]):  # Iterate over each adjacent node of v\n",
    "                if B[w] and u < v and v < w:  # Check if triangle is not redundant\n",
    "                    triangle = tuple(sorted((u, v, w)))  # Sort vertices and create a tuple\n",
    "                    triangles.add(triangle)  # Add the triangle to the set\n",
    "\n",
    "        for w in set(graph[u]):  # Reset the visited nodes in B back to False\n",
    "            B[w] = False\n",
    "\n",
    "    return list(triangles)  # Return the list of triangles found in the graph"
   ]
  },
  {
   "cell_type": "code",
   "execution_count": 36,
   "metadata": {},
   "outputs": [],
   "source": [
    "def test_a_plus_minus(graph):\n",
    "    start_time = time.time()\n",
    "    result = a_plus_minus(graph)\n",
    "    \n",
    "    # Display the first 5 triangles and the last 5 (or all if less than 5)\n",
    "    if not result:\n",
    "        print(\"No triangle found\")\n",
    "    else:\n",
    "        print(\"Triangles:\")\n",
    "        for triangle in result[:5]:\n",
    "            print(f\"Triangle found: {triangle}\")\n",
    "            \n",
    "        if len(result) > 5:\n",
    "            print(\"...\")\n",
    "            for triangle in result[-5:]:\n",
    "                print(f\"Triangle found: {triangle}\")\n",
    "    \n",
    "    print(f\"Calculating triangles done in {time.time() - start_time:.5f} seconds\")\n",
    "    print(f\"Number of triangles: {len(result)}\")"
   ]
  },
  {
   "cell_type": "code",
   "execution_count": 37,
   "metadata": {},
   "outputs": [
    {
     "name": "stdout",
     "output_type": "stream",
     "text": [
      "No triangle found\n",
      "Calculating triangles done in 0.00000 seconds\n",
      "Number of triangles: 0\n"
     ]
    }
   ],
   "source": [
    "graph = test_graph\n",
    "result = test_a_plus_minus(graph)"
   ]
  },
  {
   "cell_type": "code",
   "execution_count": 38,
   "metadata": {},
   "outputs": [
    {
     "name": "stdout",
     "output_type": "stream",
     "text": [
      "Triangles:\n",
      "Triangle found: ('11', '278', '618')\n",
      "Triangle found: ('185', '1887', '466')\n",
      "Triangle found: ('207', '284', '50')\n",
      "Triangle found: ('1175', '258', '3052')\n",
      "Triangle found: ('279', '284', '3083')\n",
      "...\n",
      "Triangle found: ('1496', '2078', '4221')\n",
      "Triangle found: ('161', '1885', '334')\n",
      "Triangle found: ('1694', '2546', '645')\n",
      "Triangle found: ('2793', '313', '328')\n",
      "Triangle found: ('267', '884', '900')\n",
      "Calculating triangles done in 0.13148 seconds\n",
      "Number of triangles: 2179\n"
     ]
    }
   ],
   "source": [
    "graph = drosophila_graph\n",
    "result = test_a_plus_minus(graph)"
   ]
  },
  {
   "cell_type": "code",
   "execution_count": 39,
   "metadata": {},
   "outputs": [
    {
     "name": "stdout",
     "output_type": "stream",
     "text": [
      "Triangles:\n",
      "Triangle found: ('114', '155', '183')\n",
      "Triangle found: ('211', '281', '82')\n",
      "Triangle found: ('107', '128', '820')\n",
      "Triangle found: ('365', '377', '490')\n",
      "Triangle found: ('210', '255', '363')\n",
      "...\n",
      "Triangle found: ('160', '484', '87')\n",
      "Triangle found: ('128', '167', '204')\n",
      "Triangle found: ('411', '867', '96')\n",
      "Triangle found: ('142', '183', '367')\n",
      "Triangle found: ('209', '233', '494')\n",
      "Calculating triangles done in 0.43825 seconds\n",
      "Number of triangles: 105461\n"
     ]
    }
   ],
   "source": [
    "graph = email_graph\n",
    "result = test_a_plus_minus(graph)"
   ]
  },
  {
   "cell_type": "code",
   "execution_count": 40,
   "metadata": {},
   "outputs": [
    {
     "name": "stdout",
     "output_type": "stream",
     "text": [
      "Triangles:\n",
      "Triangle found: ('440697', '497836', '524978')\n",
      "Triangle found: ('382087', '405958', '530456')\n",
      "Triangle found: ('149227', '20804', '502926')\n",
      "Triangle found: ('141743', '243033', '67834')\n",
      "Triangle found: ('287933', '390989', '451680')\n",
      "...\n",
      "Triangle found: ('405954', '80343', '80357')\n",
      "Triangle found: ('163846', '475933', '48305')\n",
      "Triangle found: ('402139', '410697', '416381')\n",
      "Triangle found: ('246746', '295005', '386600')\n",
      "Triangle found: ('326455', '337695', '526034')\n",
      "Calculating triangles done in 5.91117 seconds\n",
      "Number of triangles: 667129\n"
     ]
    }
   ],
   "source": [
    "graph = amazon_graph\n",
    "result = test_a_plus_minus(graph)"
   ]
  },
  {
   "cell_type": "code",
   "execution_count": null,
   "metadata": {},
   "outputs": [],
   "source": [
    "# Only uncomment this if you have a powerhouse of a computer\n",
    "\"\"\"graph = live_journal\n",
    "result = test_a_plus_minus(graph)\"\"\""
   ]
  },
  {
   "cell_type": "markdown",
   "metadata": {},
   "source": [
    "### 3.2  Recent research on Clustering Coefficient:\n",
    "\n",
    "Take a look at the recent article (published in [LATIN 2022](https://pakal.cs.cinvestav.mx/latin2022/)\n",
    ") : https://www.inf.ufpr.br/vignatti/v/papers/2022-latin.pdf and implement the algorithm of local clustering coefficient estimation with relative errors of $ \\epsilon = 1, 0.5, 0.1$ with probability $ p = 0.25$ and $\\delta = 0.8$"
   ]
  },
  {
   "cell_type": "code",
   "execution_count": 45,
   "metadata": {},
   "outputs": [],
   "source": [
    "# From paragraph 3.2 of the article above\n",
    "\n",
    "def localClusteringEstimation(G, epsilon, delta, p):\n",
    "    # Input: Graph G = {V, E} represented as a dictionary, parameters 0 < epsilon, delta, p < 1\n",
    "    # Output: Clustering coefficient estimation l(v) for each vertex v ∈ V such that l(v) ≥ sigma_v(p)\n",
    "    \n",
    "    # Calculate the number of samples\n",
    "    r = int((1/epsilon**2 * p) * (math.log(len(G) - 1) + 1) * (math.log(1/p) + math.log(1/delta)))\n",
    "    \n",
    "    # Initialize the clustering coefficient estimation dictionary\n",
    "    clustering_estimation = {}\n",
    "    \n",
    "    for i in range(r):\n",
    "        # Sample a vertex v from V\n",
    "        v = random.choice(list(G.keys()))\n",
    "        \n",
    "        # Sample a neighbor of v\n",
    "        neighbor = random.choice(G[v])\n",
    "        \n",
    "        # Update the clustering coefficient estimation for vertices v and its neighbor\n",
    "        if v not in clustering_estimation:\n",
    "            clustering_estimation[v] = 0\n",
    "        if neighbor not in clustering_estimation:\n",
    "            clustering_estimation[neighbor] = 0\n",
    "        \n",
    "        clustering_estimation[v] += 1\n",
    "        clustering_estimation[neighbor] += 1\n",
    "    \n",
    "    # Calculate the final clustering coefficient estimation for each vertex\n",
    "    for v in G.keys():\n",
    "        if v in clustering_estimation:\n",
    "            clustering_estimation[v] /= r\n",
    "    \n",
    "    return clustering_estimation"
   ]
  },
  {
   "cell_type": "code",
   "execution_count": 46,
   "metadata": {},
   "outputs": [],
   "source": [
    "def average_localClusteringEstimation(G, epsilon, delta, p):\n",
    "    # Input: Graph G = {V, E} represented as a dictionary, parameters 0 < epsilon, delta, p < 1\n",
    "    # Output: Average clustering coefficient estimation for the graph\n",
    "    \n",
    "    # Calculate the number of samples\n",
    "    r = int((1/epsilon**2 * p) * (math.log(len(G) - 1) + 1) * (math.log(1/p) + math.log(1/delta)))\n",
    "    \n",
    "    # Initialize the clustering coefficient estimation dictionary\n",
    "    clustering_estimation = {}\n",
    "    \n",
    "    for i in range(r):\n",
    "        # Sample a vertex v from V\n",
    "        v = random.choice(list(G.keys()))\n",
    "        \n",
    "        # Sample a neighbor of v\n",
    "        neighbor = random.choice(G[v])\n",
    "        \n",
    "        # Update the clustering coefficient estimation for vertices v and its neighbor\n",
    "        if v not in clustering_estimation:\n",
    "            clustering_estimation[v] = 0\n",
    "        if neighbor not in clustering_estimation:\n",
    "            clustering_estimation[neighbor] = 0\n",
    "        \n",
    "        clustering_estimation[v] += 1\n",
    "        clustering_estimation[neighbor] += 1\n",
    "    \n",
    "    # Calculate the final clustering coefficient estimation for each vertex\n",
    "    for v in G.keys():\n",
    "        if v in clustering_estimation:\n",
    "            clustering_estimation[v] /= r\n",
    "    \n",
    "    # Calculate the average clustering coefficient\n",
    "    average_clustering = sum(clustering_estimation.values()) / len(clustering_estimation)\n",
    "    \n",
    "    return average_clustering"
   ]
  },
  {
   "cell_type": "code",
   "execution_count": 47,
   "metadata": {},
   "outputs": [],
   "source": [
    "def test_localClusteringEstimation(G, epsilon, delta, p):\n",
    "    start_time = time.time()\n",
    "    result = localClusteringEstimation(G, epsilon, delta, p)\n",
    "    average_result = average_localClusteringEstimation(G, epsilon, delta, p)\n",
    "    print(\"Clustering coefficient estimation:\", result)\n",
    "    print(\"Average clustering coefficient estimation:\", average_result)\n",
    "    print(f\"Calculating clustering coefficient estimation done in {time.time() - start_time:.5f} seconds\")"
   ]
  },
  {
   "cell_type": "code",
   "execution_count": 48,
   "metadata": {},
   "outputs": [
    {
     "name": "stdout",
     "output_type": "stream",
     "text": [
      "Clustering coefficient estimation: {'9': 0.4166666666666667, '7': 0.4166666666666667, '5': 0.3333333333333333, '2': 0.5833333333333334, '1': 0.16666666666666666, '4': 0.08333333333333333}\n",
      "Average clustering coefficient estimation: 0.25\n",
      "Calculating clustering coefficient estimation done in 0.00000 seconds\n"
     ]
    }
   ],
   "source": [
    "result = test_localClusteringEstimation(test_graph, 0.25, 0.8, 0.1)"
   ]
  },
  {
   "cell_type": "code",
   "execution_count": 49,
   "metadata": {},
   "outputs": [
    {
     "name": "stdout",
     "output_type": "stream",
     "text": [
      "Clustering coefficient estimation: {'5': 0.2727272727272727, '2': 0.4090909090909091, '6': 0.2727272727272727, '3': 0.3181818181818182, '8': 0.22727272727272727, '7': 0.3181818181818182, '4': 0.045454545454545456, '9': 0.045454545454545456, '1': 0.09090909090909091}\n",
      "Average clustering coefficient estimation: 0.22222222222222218\n",
      "Calculating clustering coefficient estimation done in 0.00000 seconds\n"
     ]
    }
   ],
   "source": [
    "result = test_localClusteringEstimation(test_graph, 0.25, 0.8, 0.5)"
   ]
  },
  {
   "cell_type": "code",
   "execution_count": 50,
   "metadata": {},
   "outputs": [
    {
     "name": "stdout",
     "output_type": "stream",
     "text": [
      "Clustering coefficient estimation: {'3': 0.5, '6': 0.5, '4': 0.1, '2': 0.2, '9': 0.2, '7': 0.3, '5': 0.1, '8': 0.1}\n",
      "Average clustering coefficient estimation: 0.25\n",
      "Calculating clustering coefficient estimation done in 0.00000 seconds\n"
     ]
    }
   ],
   "source": [
    "result = test_localClusteringEstimation(test_graph, 0.25, 0.8, 1)"
   ]
  },
  {
   "cell_type": "code",
   "execution_count": 51,
   "metadata": {},
   "outputs": [
    {
     "name": "stdout",
     "output_type": "stream",
     "text": [
      "Clustering coefficient estimation: {'5510': 0.02564102564102564, '3840': 0.02564102564102564, '4525': 0.02564102564102564, '61': 0.02564102564102564, '1933': 0.02564102564102564, '3508': 0.02564102564102564, '4602': 0.02564102564102564, '9': 0.02564102564102564, '6899': 0.02564102564102564, '7054': 0.02564102564102564, '5149': 0.02564102564102564, '279': 0.02564102564102564, '1423': 0.02564102564102564, '1424': 0.02564102564102564, '2662': 0.02564102564102564, '264': 0.02564102564102564, '6974': 0.02564102564102564, '98': 0.02564102564102564, '6382': 0.02564102564102564, '6383': 0.02564102564102564, '5007': 0.02564102564102564, '3299': 0.02564102564102564, '2199': 0.02564102564102564, '787': 0.02564102564102564, '5490': 0.02564102564102564, '5489': 0.02564102564102564, '907': 0.02564102564102564, '338': 0.02564102564102564, '6773': 0.02564102564102564, '3816': 0.02564102564102564, '5923': 0.02564102564102564, '646': 0.02564102564102564, '4487': 0.02564102564102564, '163': 0.02564102564102564, '2990': 0.02564102564102564, '4380': 0.02564102564102564, '387': 0.02564102564102564, '388': 0.02564102564102564, '4224': 0.02564102564102564, '660': 0.02564102564102564, '800': 0.02564102564102564, '3625': 0.02564102564102564, '3956': 0.02564102564102564, '297': 0.02564102564102564, '1815': 0.02564102564102564, '1809': 0.02564102564102564, '5100': 0.02564102564102564, '2995': 0.02564102564102564, '1733': 0.02564102564102564, '2313': 0.02564102564102564, '629': 0.02564102564102564, '4330': 0.02564102564102564, '4580': 0.02564102564102564, '276': 0.02564102564102564, '4521': 0.02564102564102564, '1577': 0.02564102564102564, '3346': 0.02564102564102564, '3348': 0.02564102564102564, '6173': 0.02564102564102564, '5030': 0.02564102564102564, '795': 0.02564102564102564, '1274': 0.02564102564102564, '6828': 0.02564102564102564, '213': 0.02564102564102564, '1895': 0.02564102564102564, '104': 0.02564102564102564, '6656': 0.02564102564102564, '909': 0.02564102564102564, '3866': 0.02564102564102564, '540': 0.05128205128205128, '3862': 0.02564102564102564, '5454': 0.02564102564102564, '5055': 0.02564102564102564, '7210': 0.02564102564102564, '1621': 0.02564102564102564, '3742': 0.02564102564102564, '1007': 0.02564102564102564}\n",
      "Average clustering coefficient estimation: 0.02631578947368417\n",
      "Calculating clustering coefficient estimation done in 0.00807 seconds\n"
     ]
    }
   ],
   "source": [
    "result = test_localClusteringEstimation(drosophila_graph, 0.25, 0.8, 0.1)"
   ]
  },
  {
   "cell_type": "code",
   "execution_count": 52,
   "metadata": {},
   "outputs": [
    {
     "name": "stdout",
     "output_type": "stream",
     "text": [
      "Clustering coefficient estimation: {'3473': 0.013888888888888888, '61': 0.013888888888888888, '3522': 0.013888888888888888, '2955': 0.013888888888888888, '6458': 0.013888888888888888, '53': 0.027777777777777776, '2061': 0.013888888888888888, '2723': 0.013888888888888888, '2722': 0.013888888888888888, '2153': 0.013888888888888888, '819': 0.013888888888888888, '820': 0.013888888888888888, '154': 0.013888888888888888, '1': 0.013888888888888888, '1903': 0.013888888888888888, '1049': 0.013888888888888888, '3675': 0.013888888888888888, '2207': 0.013888888888888888, '3333': 0.013888888888888888, '3334': 0.013888888888888888, '4656': 0.013888888888888888, '4657': 0.013888888888888888, '6196': 0.013888888888888888, '149': 0.013888888888888888, '3691': 0.013888888888888888, '100': 0.013888888888888888, '6623': 0.013888888888888888, '3113': 0.013888888888888888, '1343': 0.013888888888888888, '2691': 0.013888888888888888, '2440': 0.013888888888888888, '3737': 0.013888888888888888, '4524': 0.013888888888888888, '5668': 0.013888888888888888, '148': 0.013888888888888888, '6906': 0.013888888888888888, '216': 0.013888888888888888, '6682': 0.013888888888888888, '207': 0.013888888888888888, '2160': 0.013888888888888888, '1129': 0.013888888888888888, '1125': 0.013888888888888888, '483': 0.013888888888888888, '468': 0.013888888888888888, '1965': 0.013888888888888888, '5010': 0.013888888888888888, '4183': 0.013888888888888888, '5924': 0.013888888888888888, '361': 0.013888888888888888, '1362': 0.013888888888888888, '1361': 0.013888888888888888, '5091': 0.013888888888888888, '3240': 0.013888888888888888, '2604': 0.013888888888888888, '5096': 0.013888888888888888, '4072': 0.013888888888888888, '3741': 0.013888888888888888, '3570': 0.013888888888888888, '1975': 0.013888888888888888, '1547': 0.027777777777777776, '3232': 0.013888888888888888, '214': 0.013888888888888888, '5842': 0.013888888888888888, '5886': 0.013888888888888888, '1153': 0.013888888888888888, '811': 0.013888888888888888, '808': 0.013888888888888888, '1437': 0.013888888888888888, '506': 0.013888888888888888, '921': 0.013888888888888888, '721': 0.013888888888888888, '1400': 0.013888888888888888, '86': 0.013888888888888888, '4343': 0.013888888888888888, '638': 0.013888888888888888, '5190': 0.013888888888888888, '165': 0.013888888888888888, '3215': 0.013888888888888888, '803': 0.013888888888888888, '6866': 0.013888888888888888, '6865': 0.013888888888888888, '1512': 0.013888888888888888, '1507': 0.013888888888888888, '660': 0.013888888888888888, '266': 0.013888888888888888, '4388': 0.013888888888888888, '2535': 0.013888888888888888, '6639': 0.013888888888888888, '7182': 0.013888888888888888, '7011': 0.013888888888888888, '2880': 0.013888888888888888, '5759': 0.013888888888888888, '450': 0.013888888888888888, '1894': 0.013888888888888888, '287': 0.013888888888888888, '2912': 0.013888888888888888, '2913': 0.013888888888888888, '4609': 0.013888888888888888, '2195': 0.013888888888888888, '4340': 0.013888888888888888, '1218': 0.013888888888888888, '1272': 0.013888888888888888, '1273': 0.013888888888888888, '4284': 0.013888888888888888, '1776': 0.013888888888888888, '6044': 0.013888888888888888, '4699': 0.013888888888888888, '1062': 0.013888888888888888, '1130': 0.013888888888888888, '885': 0.013888888888888888, '6525': 0.013888888888888888, '2358': 0.013888888888888888, '4848': 0.013888888888888888, '194': 0.013888888888888888, '3881': 0.013888888888888888, '1051': 0.013888888888888888, '4786': 0.013888888888888888, '1065': 0.013888888888888888, '1677': 0.013888888888888888, '3012': 0.013888888888888888, '2733': 0.013888888888888888, '3759': 0.013888888888888888, '5059': 0.013888888888888888, '37': 0.013888888888888888, '4216': 0.013888888888888888, '805': 0.013888888888888888, '3525': 0.013888888888888888, '3527': 0.013888888888888888, '5828': 0.013888888888888888, '5829': 0.013888888888888888, '7179': 0.013888888888888888, '164': 0.013888888888888888, '2204': 0.013888888888888888, '202': 0.013888888888888888, '584': 0.013888888888888888, '578': 0.013888888888888888, '6549': 0.013888888888888888, '572': 0.013888888888888888, '0': 0.013888888888888888, '5': 0.013888888888888888, '225': 0.013888888888888888, '1792': 0.013888888888888888}\n",
      "Average clustering coefficient estimation: 0.014084507042253485\n",
      "Calculating clustering coefficient estimation done in 0.00590 seconds\n"
     ]
    }
   ],
   "source": [
    "result = test_localClusteringEstimation(drosophila_graph, 0.25, 0.8, 0.5)"
   ]
  },
  {
   "cell_type": "code",
   "execution_count": 53,
   "metadata": {},
   "outputs": [
    {
     "name": "stdout",
     "output_type": "stream",
     "text": [
      "Clustering coefficient estimation: {'6733': 0.02857142857142857, '2206': 0.02857142857142857, '2675': 0.02857142857142857, '32': 0.02857142857142857, '1960': 0.02857142857142857, '80': 0.02857142857142857, '4473': 0.02857142857142857, '1463': 0.02857142857142857, '5188': 0.02857142857142857, '2283': 0.02857142857142857, '3550': 0.02857142857142857, '3548': 0.02857142857142857, '118': 0.02857142857142857, '3359': 0.02857142857142857, '4884': 0.02857142857142857, '2150': 0.02857142857142857, '1709': 0.02857142857142857, '727': 0.02857142857142857, '1255': 0.02857142857142857, '103': 0.05714285714285714, '6964': 0.02857142857142857, '1212': 0.02857142857142857, '4397': 0.02857142857142857, '4398': 0.02857142857142857, '2738': 0.02857142857142857, '2732': 0.02857142857142857, '97': 0.02857142857142857, '4345': 0.02857142857142857, '1617': 0.02857142857142857, '4782': 0.02857142857142857, '4370': 0.02857142857142857, '3467': 0.02857142857142857, '1250': 0.02857142857142857, '469': 0.02857142857142857, '1238': 0.02857142857142857, '508': 0.02857142857142857, '273': 0.02857142857142857, '6230': 0.02857142857142857, '2970': 0.02857142857142857, '1585': 0.02857142857142857, '1593': 0.02857142857142857, '4396': 0.02857142857142857, '3858': 0.02857142857142857, '5874': 0.02857142857142857, '1106': 0.02857142857142857, '4734': 0.02857142857142857, '2672': 0.02857142857142857, '455': 0.02857142857142857, '1551': 0.02857142857142857, '6781': 0.02857142857142857, '212': 0.02857142857142857, '5321': 0.02857142857142857, '577': 0.02857142857142857, '2797': 0.02857142857142857, '18': 0.02857142857142857, '6076': 0.02857142857142857, '2471': 0.02857142857142857, '190': 0.02857142857142857, '43': 0.02857142857142857, '700': 0.02857142857142857, '219': 0.02857142857142857, '5802': 0.02857142857142857, '196': 0.02857142857142857, '6362': 0.02857142857142857, '1144': 0.02857142857142857, '5578': 0.02857142857142857, '5579': 0.02857142857142857, '4774': 0.02857142857142857, '4775': 0.02857142857142857}\n",
      "Average clustering coefficient estimation: 0.029411764705882304\n",
      "Calculating clustering coefficient estimation done in 0.00638 seconds\n"
     ]
    }
   ],
   "source": [
    "result = test_localClusteringEstimation(drosophila_graph, 0.25, 0.8, 1)"
   ]
  },
  {
   "cell_type": "code",
   "execution_count": 92,
   "metadata": {},
   "outputs": [
    {
     "name": "stdout",
     "output_type": "stream",
     "text": [
      "Clustering coefficient estimation: {'166': 0.03225806451612903, '283': 0.03225806451612903, '469': 0.03225806451612903, '477': 0.03225806451612903, '646': 0.03225806451612903, '131': 0.03225806451612903, '490': 0.03225806451612903, '209': 0.03225806451612903, '640': 0.03225806451612903, '185': 0.03225806451612903, '432': 0.03225806451612903, '162': 0.03225806451612903, '431': 0.06451612903225806, '84': 0.03225806451612903, '245': 0.03225806451612903, '329': 0.06451612903225806, '517': 0.03225806451612903, '5': 0.03225806451612903, '22': 0.06451612903225806, '92': 0.03225806451612903, '689': 0.03225806451612903, '198': 0.03225806451612903, '120': 0.03225806451612903, '218': 0.03225806451612903, '799': 0.03225806451612903, '447': 0.03225806451612903, '37': 0.03225806451612903, '123': 0.03225806451612903, '0': 0.03225806451612903, '148': 0.03225806451612903, '996': 0.03225806451612903, '12': 0.03225806451612903, '506': 0.03225806451612903, '502': 0.03225806451612903, '430': 0.03225806451612903, '129': 0.03225806451612903, '742': 0.03225806451612903, '614': 0.03225806451612903, '635': 0.03225806451612903, '4': 0.03225806451612903, '652': 0.03225806451612903, '208': 0.03225806451612903, '155': 0.03225806451612903, '920': 0.03225806451612903, '230': 0.03225806451612903, '647': 0.03225806451612903, '458': 0.03225806451612903, '720': 0.03225806451612903, '700': 0.03225806451612903, '273': 0.03225806451612903, '322': 0.03225806451612903, '573': 0.03225806451612903, '44': 0.03225806451612903, '418': 0.03225806451612903, '107': 0.03225806451612903, '71': 0.03225806451612903, '301': 0.03225806451612903, '792': 0.03225806451612903, '121': 0.03225806451612903}\n",
      "Average clustering coefficient estimation: 0.03448275862068963\n",
      "Calculating clustering coefficient estimation done in 0.00100 seconds\n"
     ]
    }
   ],
   "source": [
    "result = test_localClusteringEstimation(email_graph, 0.25, 0.8, 0.1)"
   ]
  },
  {
   "cell_type": "code",
   "execution_count": 93,
   "metadata": {},
   "outputs": [
    {
     "name": "stdout",
     "output_type": "stream",
     "text": [
      "Clustering coefficient estimation: {'567': 0.017543859649122806, '290': 0.017543859649122806, '835': 0.017543859649122806, '789': 0.017543859649122806, '681': 0.017543859649122806, '345': 0.017543859649122806, '983': 0.017543859649122806, '113': 0.017543859649122806, '948': 0.017543859649122806, '381': 0.017543859649122806, '580': 0.03508771929824561, '597': 0.017543859649122806, '756': 0.017543859649122806, '377': 0.03508771929824561, '167': 0.017543859649122806, '354': 0.017543859649122806, '97': 0.017543859649122806, '356': 0.017543859649122806, '366': 0.017543859649122806, '247': 0.017543859649122806, '525': 0.017543859649122806, '661': 0.03508771929824561, '13': 0.017543859649122806, '814': 0.017543859649122806, '262': 0.017543859649122806, '209': 0.017543859649122806, '235': 0.017543859649122806, '944': 0.017543859649122806, '748': 0.03508771929824561, '522': 0.017543859649122806, '523': 0.017543859649122806, '759': 0.017543859649122806, '121': 0.017543859649122806, '437': 0.017543859649122806, '135': 0.017543859649122806, '294': 0.05263157894736842, '322': 0.017543859649122806, '139': 0.017543859649122806, '700': 0.017543859649122806, '993': 0.017543859649122806, '408': 0.017543859649122806, '888': 0.017543859649122806, '412': 0.017543859649122806, '11': 0.017543859649122806, '19': 0.017543859649122806, '728': 0.017543859649122806, '400': 0.017543859649122806, '548': 0.017543859649122806, '116': 0.017543859649122806, '68': 0.017543859649122806, '420': 0.017543859649122806, '480': 0.017543859649122806, '20': 0.017543859649122806, '872': 0.017543859649122806, '61': 0.017543859649122806, '848': 0.017543859649122806, '445': 0.017543859649122806, '279': 0.017543859649122806, '106': 0.017543859649122806, '704': 0.03508771929824561, '908': 0.017543859649122806, '917': 0.03508771929824561, '493': 0.017543859649122806, '999': 0.017543859649122806, '145': 0.017543859649122806, '308': 0.017543859649122806, '218': 0.017543859649122806, '442': 0.017543859649122806, '115': 0.017543859649122806, '572': 0.017543859649122806, '204': 0.017543859649122806, '200': 0.017543859649122806, '329': 0.017543859649122806, '474': 0.017543859649122806, '974': 0.017543859649122806, '82': 0.017543859649122806, '497': 0.017543859649122806, '79': 0.017543859649122806, '388': 0.017543859649122806, '394': 0.017543859649122806, '555': 0.017543859649122806, '754': 0.017543859649122806, '666': 0.017543859649122806, '62': 0.017543859649122806, '243': 0.017543859649122806, '930': 0.017543859649122806, '190': 0.017543859649122806, '509': 0.017543859649122806, '629': 0.03508771929824561, '178': 0.03508771929824561, '579': 0.017543859649122806, '334': 0.017543859649122806, '182': 0.017543859649122806, '296': 0.017543859649122806, '216': 0.017543859649122806, '64': 0.017543859649122806, '176': 0.017543859649122806, '181': 0.017543859649122806, '316': 0.017543859649122806, '793': 0.017543859649122806, '713': 0.017543859649122806, '81': 0.017543859649122806, '689': 0.03508771929824561}\n",
      "Average clustering coefficient estimation: 0.019801980198019837\n",
      "Calculating clustering coefficient estimation done in 0.00200 seconds\n"
     ]
    }
   ],
   "source": [
    "result = test_localClusteringEstimation(email_graph, 0.25, 0.8, 0.5)"
   ]
  },
  {
   "cell_type": "code",
   "execution_count": 94,
   "metadata": {},
   "outputs": [
    {
     "name": "stdout",
     "output_type": "stream",
     "text": [
      "Clustering coefficient estimation: {'208': 0.07142857142857142, '422': 0.03571428571428571, '513': 0.07142857142857142, '318': 0.03571428571428571, '283': 0.03571428571428571, '227': 0.03571428571428571, '537': 0.03571428571428571, '355': 0.03571428571428571, '16': 0.03571428571428571, '747': 0.03571428571428571, '586': 0.03571428571428571, '4': 0.03571428571428571, '564': 0.03571428571428571, '686': 0.03571428571428571, '770': 0.03571428571428571, '353': 0.03571428571428571, '214': 0.03571428571428571, '284': 0.03571428571428571, '918': 0.03571428571428571, '908': 0.03571428571428571, '937': 0.03571428571428571, '99': 0.03571428571428571, '788': 0.07142857142857142, '92': 0.03571428571428571, '480': 0.03571428571428571, '475': 0.03571428571428571, '300': 0.03571428571428571, '156': 0.03571428571428571, '344': 0.03571428571428571, '247': 0.03571428571428571, '707': 0.03571428571428571, '940': 0.03571428571428571, '128': 0.07142857142857142, '22': 0.03571428571428571, '155': 0.03571428571428571, '476': 0.03571428571428571, '474': 0.03571428571428571, '319': 0.03571428571428571, '236': 0.03571428571428571, '438': 0.07142857142857142, '29': 0.03571428571428571, '288': 0.03571428571428571, '571': 0.03571428571428571, '445': 0.03571428571428571, '36': 0.03571428571428571, '219': 0.03571428571428571, '181': 0.03571428571428571, '396': 0.03571428571428571, '390': 0.03571428571428571, '10': 0.03571428571428571, '173': 0.03571428571428571}\n",
      "Average clustering coefficient estimation: 0.03773584905660381\n",
      "Calculating clustering coefficient estimation done in 0.00252 seconds\n"
     ]
    }
   ],
   "source": [
    "result = test_localClusteringEstimation(email_graph, 0.25, 0.8, 1)"
   ]
  },
  {
   "cell_type": "code",
   "execution_count": 95,
   "metadata": {},
   "outputs": [
    {
     "name": "stdout",
     "output_type": "stream",
     "text": [
      "Clustering coefficient estimation: {'501535': 0.01818181818181818, '380282': 0.01818181818181818, '545725': 0.01818181818181818, '516130': 0.01818181818181818, '227015': 0.01818181818181818, '359309': 0.01818181818181818, '409746': 0.01818181818181818, '424340': 0.01818181818181818, '56834': 0.01818181818181818, '375020': 0.01818181818181818, '42511': 0.01818181818181818, '112256': 0.01818181818181818, '301901': 0.01818181818181818, '14853': 0.01818181818181818, '218443': 0.01818181818181818, '320053': 0.01818181818181818, '385234': 0.01818181818181818, '229012': 0.01818181818181818, '31392': 0.01818181818181818, '520843': 0.01818181818181818, '22738': 0.01818181818181818, '252192': 0.01818181818181818, '312475': 0.01818181818181818, '414514': 0.01818181818181818, '35198': 0.01818181818181818, '168955': 0.01818181818181818, '535544': 0.01818181818181818, '342449': 0.01818181818181818, '259603': 0.01818181818181818, '162881': 0.01818181818181818, '474175': 0.01818181818181818, '246234': 0.01818181818181818, '125384': 0.01818181818181818, '81107': 0.01818181818181818, '257045': 0.01818181818181818, '241040': 0.01818181818181818, '394695': 0.01818181818181818, '531812': 0.01818181818181818, '176762': 0.01818181818181818, '6934': 0.01818181818181818, '419077': 0.01818181818181818, '75429': 0.01818181818181818, '456738': 0.01818181818181818, '223207': 0.01818181818181818, '371194': 0.01818181818181818, '231267': 0.01818181818181818, '427989': 0.01818181818181818, '71956': 0.01818181818181818, '136730': 0.01818181818181818, '379327': 0.01818181818181818, '102805': 0.01818181818181818, '11130': 0.01818181818181818, '476412': 0.01818181818181818, '74417': 0.01818181818181818, '530475': 0.01818181818181818, '47404': 0.01818181818181818, '15553': 0.01818181818181818, '287954': 0.01818181818181818, '148960': 0.01818181818181818, '404609': 0.01818181818181818, '240860': 0.01818181818181818, '255103': 0.01818181818181818, '423729': 0.01818181818181818, '483876': 0.01818181818181818, '458808': 0.01818181818181818, '83204': 0.01818181818181818, '187819': 0.01818181818181818, '272251': 0.01818181818181818, '157451': 0.01818181818181818, '272992': 0.01818181818181818, '152708': 0.01818181818181818, '221058': 0.01818181818181818, '11483': 0.01818181818181818, '548013': 0.01818181818181818, '541329': 0.01818181818181818, '353509': 0.01818181818181818, '82270': 0.01818181818181818, '292413': 0.01818181818181818, '399134': 0.01818181818181818, '78734': 0.01818181818181818, '284396': 0.01818181818181818, '519614': 0.01818181818181818, '204284': 0.01818181818181818, '336909': 0.01818181818181818, '292006': 0.01818181818181818, '142405': 0.01818181818181818, '544171': 0.01818181818181818, '547309': 0.01818181818181818, '28317': 0.01818181818181818, '309916': 0.01818181818181818, '261755': 0.01818181818181818, '256547': 0.01818181818181818, '52464': 0.01818181818181818, '518102': 0.01818181818181818, '70305': 0.01818181818181818, '419281': 0.01818181818181818, '545370': 0.01818181818181818, '547517': 0.01818181818181818, '224647': 0.01818181818181818, '39904': 0.01818181818181818, '513264': 0.01818181818181818, '102278': 0.01818181818181818, '280410': 0.01818181818181818, '396297': 0.01818181818181818, '497742': 0.01818181818181818, '94717': 0.01818181818181818, '538910': 0.01818181818181818, '392410': 0.01818181818181818, '64318': 0.01818181818181818, '199563': 0.01818181818181818}\n",
      "Average clustering coefficient estimation: 0.018181818181818132\n",
      "Calculating clustering coefficient estimation done in 1.70034 seconds\n"
     ]
    }
   ],
   "source": [
    "result = test_localClusteringEstimation(amazon_graph, 0.25, 0.8, 0.1)"
   ]
  },
  {
   "cell_type": "code",
   "execution_count": 96,
   "metadata": {},
   "outputs": [
    {
     "name": "stdout",
     "output_type": "stream",
     "text": [
      "Clustering coefficient estimation: {'184312': 0.01, '263925': 0.01, '300111': 0.01, '1585': 0.01, '240088': 0.01, '443894': 0.01, '473032': 0.01, '79203': 0.01, '442379': 0.01, '413860': 0.01, '2176': 0.01, '141883': 0.01, '376928': 0.01, '295950': 0.01, '223679': 0.01, '56445': 0.01, '184632': 0.01, '526275': 0.01, '165846': 0.01, '176593': 0.01, '150896': 0.01, '207645': 0.01, '76196': 0.01, '239327': 0.01, '88067': 0.01, '63433': 0.01, '57599': 0.01, '11240': 0.01, '390146': 0.01, '55665': 0.01, '6782': 0.01, '547690': 0.01, '173322': 0.01, '396726': 0.01, '428310': 0.01, '233491': 0.01, '188218': 0.01, '287979': 0.01, '474902': 0.01, '407340': 0.01, '335753': 0.01, '479492': 0.01, '265718': 0.01, '449493': 0.01, '480882': 0.01, '269240': 0.01, '239379': 0.01, '374046': 0.01, '301868': 0.01, '211268': 0.01, '438975': 0.01, '135735': 0.01, '384319': 0.01, '67566': 0.01, '185454': 0.01, '164765': 0.01, '498282': 0.01, '266485': 0.01, '468085': 0.01, '193153': 0.01, '170636': 0.01, '491313': 0.01, '43466': 0.01, '175867': 0.01, '36398': 0.01, '395155': 0.01, '535246': 0.01, '84564': 0.01, '348645': 0.01, '291229': 0.01, '423877': 0.01, '194743': 0.01, '535397': 0.01, '220054': 0.01, '486881': 0.01, '252633': 0.01, '283498': 0.01, '476678': 0.01, '518419': 0.01, '45735': 0.01, '99316': 0.01, '275714': 0.01, '409740': 0.01, '307273': 0.01, '280938': 0.01, '150653': 0.01, '95956': 0.01, '252308': 0.01, '99222': 0.01, '109112': 0.01, '409489': 0.01, '92295': 0.01, '541015': 0.01, '501994': 0.01, '234011': 0.01, '326389': 0.01, '157923': 0.01, '401528': 0.01, '283982': 0.01, '545740': 0.01, '229056': 0.01, '212810': 0.01, '515533': 0.01, '392135': 0.01, '76757': 0.01, '352155': 0.01, '208123': 0.01, '490473': 0.01, '37549': 0.01, '484455': 0.01, '309918': 0.01, '257377': 0.01, '314290': 0.01, '468655': 0.01, '459067': 0.01, '543303': 0.01, '426884': 0.01, '11719': 0.01, '449762': 0.01, '539470': 0.01, '247387': 0.01, '17798': 0.01, '523201': 0.01, '424824': 0.01, '366253': 0.01, '74023': 0.01, '519374': 0.01, '469220': 0.01, '120071': 0.01, '294736': 0.01, '177064': 0.01, '335009': 0.01, '361172': 0.01, '306634': 0.01, '502061': 0.01, '275030': 0.01, '498500': 0.01, '492328': 0.01, '205301': 0.01, '125719': 0.01, '366490': 0.01, '390296': 0.01, '313594': 0.01, '483490': 0.01, '417426': 0.01, '483448': 0.01, '520194': 0.01, '101324': 0.01, '197727': 0.01, '332903': 0.01, '499903': 0.01, '319796': 0.01, '121121': 0.01, '121475': 0.01, '520415': 0.01, '420327': 0.01, '37881': 0.01, '34166': 0.01, '446003': 0.01, '208189': 0.01, '137003': 0.01, '44296': 0.01, '545698': 0.01, '69114': 0.01, '212486': 0.01, '39702': 0.01, '218376': 0.01, '415660': 0.01, '153077': 0.01, '438860': 0.01, '312582': 0.01, '271972': 0.01, '537670': 0.01, '546814': 0.01, '520294': 0.01, '249040': 0.01, '39001': 0.01, '114622': 0.01, '26524': 0.01, '534373': 0.01, '398335': 0.01, '72356': 0.01, '254955': 0.01, '123826': 0.01, '442169': 0.01, '31864': 0.01, '380534': 0.01, '484993': 0.01, '26267': 0.01, '444866': 0.01, '326750': 0.01, '316856': 0.01, '477236': 0.01, '317511': 0.01, '274198': 0.01, '547926': 0.01, '361664': 0.01, '344769': 0.01, '113383': 0.01, '447352': 0.01}\n",
      "Average clustering coefficient estimation: 0.010000000000000007\n",
      "Calculating clustering coefficient estimation done in 2.63476 seconds\n"
     ]
    }
   ],
   "source": [
    "result = test_localClusteringEstimation(amazon_graph, 0.25, 0.8, 0.5)"
   ]
  },
  {
   "cell_type": "code",
   "execution_count": 97,
   "metadata": {},
   "outputs": [
    {
     "name": "stdout",
     "output_type": "stream",
     "text": [
      "Clustering coefficient estimation: {'234025': 0.020833333333333332, '268932': 0.020833333333333332, '136809': 0.020833333333333332, '160698': 0.020833333333333332, '249933': 0.020833333333333332, '10411': 0.020833333333333332, '416171': 0.020833333333333332, '132511': 0.020833333333333332, '391627': 0.020833333333333332, '391625': 0.020833333333333332, '296047': 0.020833333333333332, '348888': 0.020833333333333332, '504034': 0.020833333333333332, '99861': 0.020833333333333332, '484725': 0.020833333333333332, '433504': 0.020833333333333332, '3439': 0.020833333333333332, '87540': 0.020833333333333332, '405433': 0.020833333333333332, '273791': 0.020833333333333332, '355320': 0.020833333333333332, '239583': 0.020833333333333332, '246855': 0.020833333333333332, '28389': 0.020833333333333332, '466162': 0.020833333333333332, '527588': 0.020833333333333332, '109679': 0.020833333333333332, '97361': 0.020833333333333332, '25081': 0.020833333333333332, '189283': 0.020833333333333332, '137185': 0.020833333333333332, '548259': 0.020833333333333332, '58234': 0.020833333333333332, '31105': 0.020833333333333332, '521552': 0.020833333333333332, '485325': 0.020833333333333332, '116434': 0.020833333333333332, '368315': 0.020833333333333332, '193851': 0.020833333333333332, '372690': 0.020833333333333332, '1974': 0.020833333333333332, '61288': 0.020833333333333332, '494649': 0.020833333333333332, '167287': 0.020833333333333332, '457212': 0.020833333333333332, '191844': 0.020833333333333332, '47098': 0.020833333333333332, '483307': 0.020833333333333332, '497004': 0.020833333333333332, '57417': 0.020833333333333332, '265623': 0.020833333333333332, '150033': 0.020833333333333332, '16108': 0.020833333333333332, '544699': 0.020833333333333332, '437219': 0.020833333333333332, '269978': 0.020833333333333332, '232422': 0.020833333333333332, '538781': 0.020833333333333332, '494189': 0.020833333333333332, '6699': 0.020833333333333332, '69230': 0.020833333333333332, '539702': 0.020833333333333332, '376275': 0.020833333333333332, '489116': 0.020833333333333332, '53363': 0.020833333333333332, '516166': 0.020833333333333332, '57076': 0.020833333333333332, '273629': 0.020833333333333332, '49675': 0.020833333333333332, '275258': 0.020833333333333332, '35912': 0.020833333333333332, '153638': 0.020833333333333332, '176367': 0.020833333333333332, '354685': 0.020833333333333332, '493784': 0.020833333333333332, '529600': 0.020833333333333332, '22843': 0.020833333333333332, '136297': 0.020833333333333332, '376629': 0.020833333333333332, '101192': 0.020833333333333332, '466124': 0.020833333333333332, '251012': 0.020833333333333332, '369553': 0.020833333333333332, '104179': 0.020833333333333332, '540603': 0.020833333333333332, '248207': 0.020833333333333332, '68398': 0.020833333333333332, '545235': 0.020833333333333332, '44948': 0.020833333333333332, '189156': 0.020833333333333332, '460073': 0.020833333333333332, '123681': 0.020833333333333332, '214857': 0.020833333333333332, '156390': 0.020833333333333332, '341382': 0.020833333333333332, '402439': 0.020833333333333332}\n",
      "Average clustering coefficient estimation: 0.020833333333333304\n",
      "Calculating clustering coefficient estimation done in 1.30864 seconds\n"
     ]
    }
   ],
   "source": [
    "result = test_localClusteringEstimation(amazon_graph, 0.25, 0.8, 1)"
   ]
  },
  {
   "cell_type": "code",
   "execution_count": 98,
   "metadata": {},
   "outputs": [
    {
     "name": "stdout",
     "output_type": "stream",
     "text": [
      "Clustering coefficient estimation: {'1485404': 0.015384615384615385, '33845': 0.015384615384615385, '3488592': 0.015384615384615385, '1183310': 0.015384615384615385, '2856922': 0.015384615384615385, '1576851': 0.015384615384615385, '3765109': 0.015384615384615385, '3765103': 0.015384615384615385, '3970528': 0.015384615384615385, '3970519': 0.015384615384615385, '97918': 0.015384615384615385, '72517': 0.015384615384615385, '1479318': 0.015384615384615385, '1038943': 0.015384615384615385, '2866461': 0.015384615384615385, '2313404': 0.015384615384615385, '356151': 0.015384615384615385, '43602': 0.015384615384615385, '1997178': 0.015384615384615385, '2193985': 0.015384615384615385, '2537494': 0.015384615384615385, '22643': 0.015384615384615385, '2099956': 0.015384615384615385, '553237': 0.015384615384615385, '1433064': 0.015384615384615385, '1881331': 0.015384615384615385, '140532': 0.015384615384615385, '127172': 0.015384615384615385, '3568684': 0.015384615384615385, '3235279': 0.015384615384615385, '3026394': 0.015384615384615385, '2320766': 0.015384615384615385, '2496267': 0.015384615384615385, '1505553': 0.015384615384615385, '3588588': 0.015384615384615385, '3588587': 0.015384615384615385, '229511': 0.015384615384615385, '54468': 0.015384615384615385, '1597799': 0.015384615384615385, '2096414': 0.015384615384615385, '639898': 0.015384615384615385, '280283': 0.015384615384615385, '1887828': 0.015384615384615385, '981826': 0.015384615384615385, '1789915': 0.015384615384615385, '2622407': 0.015384615384615385, '2751510': 0.015384615384615385, '1781510': 0.015384615384615385, '1633128': 0.015384615384615385, '1633042': 0.015384615384615385, '776509': 0.015384615384615385, '263983': 0.015384615384615385, '4029648': 0.015384615384615385, '424947': 0.015384615384615385, '2200240': 0.015384615384615385, '2200214': 0.015384615384615385, '1254613': 0.015384615384615385, '1489835': 0.015384615384615385, '1874889': 0.015384615384615385, '998567': 0.015384615384615385, '3632197': 0.015384615384615385, '331495': 0.015384615384615385, '2000424': 0.015384615384615385, '411271': 0.015384615384615385, '2262443': 0.015384615384615385, '3811811': 0.015384615384615385, '1912200': 0.015384615384615385, '1268308': 0.015384615384615385, '2787284': 0.015384615384615385, '445132': 0.015384615384615385, '3563393': 0.015384615384615385, '2166198': 0.015384615384615385, '2903843': 0.015384615384615385, '1569021': 0.015384615384615385, '1560115': 0.015384615384615385, '2498348': 0.015384615384615385, '2612042': 0.015384615384615385, '2612165': 0.015384615384615385, '3556458': 0.015384615384615385, '37423': 0.015384615384615385, '328669': 0.015384615384615385, '330803': 0.015384615384615385, '162107': 0.015384615384615385, '159634': 0.015384615384615385, '2881485': 0.015384615384615385, '335147': 0.015384615384615385, '285361': 0.015384615384615385, '1882296': 0.015384615384615385, '746015': 0.015384615384615385, '251124': 0.015384615384615385, '3833544': 0.015384615384615385, '361414': 0.015384615384615385, '2098170': 0.015384615384615385, '509089': 0.015384615384615385, '3777865': 0.015384615384615385, '3198338': 0.015384615384615385, '3492320': 0.015384615384615385, '2347586': 0.015384615384615385, '1884976': 0.015384615384615385, '1400172': 0.015384615384615385, '2527738': 0.015384615384615385, '1501001': 0.015384615384615385, '1166687': 0.015384615384615385, '416673': 0.015384615384615385, '1630633': 0.015384615384615385, '317637': 0.015384615384615385, '2072484': 0.015384615384615385, '29106': 0.015384615384615385, '3043689': 0.015384615384615385, '3080570': 0.015384615384615385, '3437536': 0.015384615384615385, '3632836': 0.015384615384615385, '633329': 0.015384615384615385, '369939': 0.015384615384615385, '1697975': 0.015384615384615385, '1593779': 0.015384615384615385, '2836075': 0.015384615384615385, '2865114': 0.015384615384615385, '2599898': 0.015384615384615385, '2600084': 0.015384615384615385, '360582': 0.015384615384615385, '43230': 0.015384615384615385, '991425': 0.015384615384615385, '1401753': 0.015384615384615385, '3965972': 0.015384615384615385, '2327820': 0.015384615384615385, '2202071': 0.015384615384615385, '1794454': 0.015384615384615385, '3149265': 0.015384615384615385, '2358613': 0.015384615384615385}\n",
      "Average clustering coefficient estimation: 0.015384615384615344\n",
      "Calculating clustering coefficient estimation done in 24.12472 seconds\n"
     ]
    }
   ],
   "source": [
    "result = test_localClusteringEstimation(live_journal, 0.25, 0.8, 0.1)"
   ]
  },
  {
   "cell_type": "code",
   "execution_count": 99,
   "metadata": {},
   "outputs": [
    {
     "name": "stdout",
     "output_type": "stream",
     "text": [
      "Clustering coefficient estimation: {'1368535': 0.00847457627118644, '996590': 0.00847457627118644, '2943440': 0.00847457627118644, '662626': 0.00847457627118644, '3146040': 0.00847457627118644, '353318': 0.00847457627118644, '1280350': 0.00847457627118644, '1280611': 0.00847457627118644, '317395': 0.00847457627118644, '317228': 0.00847457627118644, '1809771': 0.00847457627118644, '557386': 0.00847457627118644, '3404239': 0.00847457627118644, '1396914': 0.00847457627118644, '991990': 0.00847457627118644, '3108573': 0.00847457627118644, '228184': 0.00847457627118644, '68517': 0.00847457627118644, '3988601': 0.00847457627118644, '2295589': 0.00847457627118644, '948469': 0.00847457627118644, '291301': 0.00847457627118644, '1619194': 0.00847457627118644, '46595': 0.00847457627118644, '1374036': 0.00847457627118644, '1357786': 0.00847457627118644, '454991': 0.00847457627118644, '24844': 0.00847457627118644, '3349685': 0.00847457627118644, '1857380': 0.00847457627118644, '2371030': 0.00847457627118644, '236855': 0.00847457627118644, '1899427': 0.00847457627118644, '344083': 0.00847457627118644, '1685035': 0.00847457627118644, '298625': 0.00847457627118644, '2392263': 0.00847457627118644, '1390210': 0.00847457627118644, '3879901': 0.00847457627118644, '3280988': 0.00847457627118644, '3310597': 0.00847457627118644, '1840367': 0.00847457627118644, '1006679': 0.00847457627118644, '747034': 0.00847457627118644, '2460989': 0.00847457627118644, '438534': 0.00847457627118644, '230368': 0.00847457627118644, '3971688': 0.00847457627118644, '1797981': 0.00847457627118644, '666324': 0.00847457627118644, '3305849': 0.00847457627118644, '1509491': 0.00847457627118644, '3943630': 0.00847457627118644, '52062': 0.00847457627118644, '951425': 0.00847457627118644, '3332958': 0.00847457627118644, '4021324': 0.00847457627118644, '1455152': 0.00847457627118644, '3027728': 0.00847457627118644, '1749169': 0.00847457627118644, '3600218': 0.00847457627118644, '671471': 0.00847457627118644, '2762110': 0.00847457627118644, '1573188': 0.00847457627118644, '2552975': 0.00847457627118644, '1720109': 0.00847457627118644, '3723475': 0.00847457627118644, '2678177': 0.00847457627118644, '2278215': 0.00847457627118644, '883815': 0.00847457627118644, '1567957': 0.00847457627118644, '1567860': 0.00847457627118644, '2708433': 0.00847457627118644, '271906': 0.00847457627118644, '4032071': 0.00847457627118644, '13744': 0.00847457627118644, '1591267': 0.00847457627118644, '1591266': 0.00847457627118644, '702865': 0.00847457627118644, '226436': 0.00847457627118644, '1701707': 0.00847457627118644, '1655993': 0.00847457627118644, '2441248': 0.00847457627118644, '2057333': 0.00847457627118644, '1299136': 0.00847457627118644, '558876': 0.00847457627118644, '1411554': 0.00847457627118644, '609493': 0.00847457627118644, '2624396': 0.00847457627118644, '712910': 0.00847457627118644, '2533088': 0.00847457627118644, '3709571': 0.00847457627118644, '526728': 0.00847457627118644, '248885': 0.00847457627118644, '3084071': 0.00847457627118644, '443747': 0.00847457627118644, '2953809': 0.00847457627118644, '2953820': 0.00847457627118644, '2948931': 0.00847457627118644, '2686113': 0.00847457627118644, '2376854': 0.00847457627118644, '1232475': 0.00847457627118644, '3919679': 0.00847457627118644, '3443086': 0.00847457627118644, '1557474': 0.00847457627118644, '3215484': 0.00847457627118644, '1461793': 0.00847457627118644, '879542': 0.00847457627118644, '1088029': 0.00847457627118644, '1472401': 0.00847457627118644, '2129135': 0.00847457627118644, '2129143': 0.00847457627118644, '2931433': 0.00847457627118644, '661821': 0.00847457627118644, '447786': 0.00847457627118644, '447762': 0.00847457627118644, '2099803': 0.00847457627118644, '1735490': 0.00847457627118644, '2762661': 0.00847457627118644, '315188': 0.00847457627118644, '1767126': 0.00847457627118644, '1154647': 0.00847457627118644, '649336': 0.00847457627118644, '203773': 0.00847457627118644, '740157': 0.00847457627118644, '740123': 0.00847457627118644, '2931875': 0.00847457627118644, '838342': 0.00847457627118644, '3662089': 0.00847457627118644, '1267748': 0.00847457627118644, '1656194': 0.00847457627118644, '497831': 0.00847457627118644, '574291': 0.00847457627118644, '17222': 0.00847457627118644, '45271': 0.00847457627118644, '34403': 0.00847457627118644, '1558585': 0.00847457627118644, '1281860': 0.00847457627118644, '904148': 0.00847457627118644, '904147': 0.00847457627118644, '3951769': 0.00847457627118644, '740208': 0.00847457627118644, '2372180': 0.00847457627118644, '2372181': 0.00847457627118644, '2038449': 0.00847457627118644, '2038447': 0.00847457627118644, '3463747': 0.00847457627118644, '1158395': 0.00847457627118644, '3707235': 0.00847457627118644, '3707236': 0.00847457627118644, '1331497': 0.00847457627118644, '3462': 0.00847457627118644, '412867': 0.00847457627118644, '1277214': 0.00847457627118644, '1441044': 0.00847457627118644, '463456': 0.00847457627118644, '2507035': 0.00847457627118644, '824388': 0.00847457627118644, '2388018': 0.00847457627118644, '1573619': 0.00847457627118644, '1977128': 0.00847457627118644, '2430993': 0.00847457627118644, '2331933': 0.00847457627118644, '816599': 0.00847457627118644, '994128': 0.00847457627118644, '1122690': 0.00847457627118644, '111063': 0.00847457627118644, '69151': 0.00847457627118644, '2534113': 0.00847457627118644, '2534108': 0.00847457627118644, '1198829': 0.00847457627118644, '1198827': 0.00847457627118644, '3707299': 0.00847457627118644, '3704223': 0.00847457627118644, '3161670': 0.00847457627118644, '978341': 0.00847457627118644, '1764941': 0.00847457627118644, '5181': 0.00847457627118644, '2938664': 0.00847457627118644, '370639': 0.00847457627118644, '2980477': 0.00847457627118644, '1735811': 0.00847457627118644, '2535298': 0.00847457627118644, '1070218': 0.00847457627118644, '2286409': 0.00847457627118644, '3229389': 0.00847457627118644, '812796': 0.00847457627118644, '3613344': 0.00847457627118644, '565814': 0.00847457627118644, '218679': 0.00847457627118644, '1300324': 0.00847457627118644, '840845': 0.00847457627118644, '1408901': 0.00847457627118644, '663705': 0.00847457627118644, '2560612': 0.00847457627118644, '318333': 0.00847457627118644, '335696': 0.00847457627118644, '853885': 0.00847457627118644, '3524082': 0.00847457627118644, '2745426': 0.00847457627118644, '2329916': 0.00847457627118644, '627772': 0.00847457627118644, '444542': 0.00847457627118644, '852560': 0.00847457627118644, '138389': 0.00847457627118644, '130255': 0.00847457627118644, '2666444': 0.00847457627118644, '633255': 0.00847457627118644, '2063342': 0.00847457627118644, '2063340': 0.00847457627118644, '242814': 0.00847457627118644, '105697': 0.00847457627118644, '514636': 0.00847457627118644, '2473205': 0.00847457627118644, '1046306': 0.00847457627118644, '1043401': 0.00847457627118644, '2497653': 0.00847457627118644, '2497733': 0.00847457627118644, '1710108': 0.00847457627118644, '913686': 0.00847457627118644, '1614828': 0.00847457627118644, '2996851': 0.00847457627118644, '2168747': 0.00847457627118644, '779786': 0.00847457627118644, '1328439': 0.00847457627118644, '561150': 0.00847457627118644, '2240790': 0.00847457627118644, '1743815': 0.00847457627118644, '2442170': 0.00847457627118644, '427846': 0.00847457627118644, '1194702': 0.00847457627118644, '597625': 0.00847457627118644, '2616597': 0.00847457627118644, '560229': 0.00847457627118644, '2155730': 0.00847457627118644, '602129': 0.00847457627118644}\n",
      "Average clustering coefficient estimation: 0.008474576271186422\n",
      "Calculating clustering coefficient estimation done in 42.14496 seconds\n"
     ]
    }
   ],
   "source": [
    "result = test_localClusteringEstimation(live_journal, 0.25, 0.8, 0.5)"
   ]
  },
  {
   "cell_type": "code",
   "execution_count": 100,
   "metadata": {},
   "outputs": [
    {
     "name": "stdout",
     "output_type": "stream",
     "text": [
      "Clustering coefficient estimation: {'2092286': 0.017543859649122806, '321124': 0.017543859649122806, '1421338': 0.017543859649122806, '189230': 0.017543859649122806, '2153449': 0.017543859649122806, '2153450': 0.017543859649122806, '2726513': 0.017543859649122806, '761541': 0.017543859649122806, '1089608': 0.017543859649122806, '1088716': 0.017543859649122806, '417727': 0.017543859649122806, '408677': 0.017543859649122806, '588340': 0.017543859649122806, '584526': 0.017543859649122806, '3233426': 0.017543859649122806, '1456354': 0.017543859649122806, '3236571': 0.017543859649122806, '3150433': 0.017543859649122806, '46552': 0.017543859649122806, '40752': 0.017543859649122806, '518865': 0.017543859649122806, '1819487': 0.017543859649122806, '1733657': 0.017543859649122806, '654775': 0.017543859649122806, '1159509': 0.017543859649122806, '1159643': 0.017543859649122806, '2157070': 0.017543859649122806, '2133576': 0.017543859649122806, '2974823': 0.017543859649122806, '1079620': 0.017543859649122806, '2209777': 0.017543859649122806, '659724': 0.017543859649122806, '1639931': 0.017543859649122806, '1639986': 0.017543859649122806, '3567579': 0.017543859649122806, '1264679': 0.017543859649122806, '1406063': 0.017543859649122806, '3845908': 0.017543859649122806, '770969': 0.017543859649122806, '770970': 0.017543859649122806, '2530521': 0.017543859649122806, '2193323': 0.017543859649122806, '1979585': 0.017543859649122806, '2666662': 0.017543859649122806, '1848526': 0.017543859649122806, '4011514': 0.017543859649122806, '3185596': 0.017543859649122806, '1113186': 0.017543859649122806, '3680831': 0.017543859649122806, '3530265': 0.017543859649122806, '2539995': 0.017543859649122806, '1399617': 0.017543859649122806, '2567247': 0.017543859649122806, '681848': 0.017543859649122806, '3544802': 0.017543859649122806, '818302': 0.017543859649122806, '2042433': 0.017543859649122806, '1081712': 0.017543859649122806, '3473495': 0.017543859649122806, '813518': 0.017543859649122806, '154656': 0.017543859649122806, '52452': 0.017543859649122806, '2821636': 0.017543859649122806, '309090': 0.017543859649122806, '2844590': 0.017543859649122806, '792487': 0.017543859649122806, '902089': 0.017543859649122806, '657522': 0.017543859649122806, '787794': 0.017543859649122806, '415643': 0.017543859649122806, '2746613': 0.017543859649122806, '27512': 0.017543859649122806, '885460': 0.017543859649122806, '575359': 0.017543859649122806, '1570651': 0.017543859649122806, '198849': 0.017543859649122806, '362487': 0.017543859649122806, '1224739': 0.017543859649122806, '3483503': 0.017543859649122806, '1950043': 0.017543859649122806, '3603339': 0.017543859649122806, '495089': 0.017543859649122806, '1189334': 0.017543859649122806, '37258': 0.017543859649122806, '2155568': 0.017543859649122806, '3471131': 0.017543859649122806, '2121092': 0.017543859649122806, '523122': 0.017543859649122806, '2536445': 0.017543859649122806, '678533': 0.017543859649122806, '3731646': 0.017543859649122806, '721111': 0.017543859649122806, '298513': 0.017543859649122806, '2479189': 0.017543859649122806, '2895463': 0.017543859649122806, '458897': 0.017543859649122806, '1969575': 0.017543859649122806, '2765362': 0.017543859649122806, '1967696': 0.017543859649122806, '3107300': 0.017543859649122806, '2639961': 0.017543859649122806, '820987': 0.017543859649122806, '2322478': 0.017543859649122806, '816038': 0.017543859649122806, '1774565': 0.017543859649122806, '108107': 0.017543859649122806, '735524': 0.017543859649122806, '510595': 0.017543859649122806, '59994': 0.017543859649122806, '228776': 0.017543859649122806, '406910': 0.017543859649122806, '420387': 0.017543859649122806, '1247882': 0.017543859649122806, '2424919': 0.017543859649122806}\n",
      "Average clustering coefficient estimation: 0.017543859649122848\n",
      "Calculating clustering coefficient estimation done in 20.50920 seconds\n"
     ]
    }
   ],
   "source": [
    "result = test_localClusteringEstimation(live_journal, 0.25, 0.8, 1)"
   ]
  }
 ],
 "metadata": {
  "kernelspec": {
   "display_name": "Python 3 (ipykernel)",
   "language": "python",
   "name": "python3"
  },
  "language_info": {
   "codemirror_mode": {
    "name": "ipython",
    "version": 3
   },
   "file_extension": ".py",
   "mimetype": "text/x-python",
   "name": "python",
   "nbconvert_exporter": "python",
   "pygments_lexer": "ipython3",
   "version": "3.7.11"
  }
 },
 "nbformat": 4,
 "nbformat_minor": 4
}

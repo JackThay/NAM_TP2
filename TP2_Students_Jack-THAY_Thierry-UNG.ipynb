{
 "cells": [
  {
   "cell_type": "markdown",
   "metadata": {},
   "source": [
    "# Lab3 (Student version)\n",
    "## Students:\n",
    "## Jack Thay - 21201079\n",
    "## Thierry Ung - 3804472"
   ]
  },
  {
   "cell_type": "code",
   "execution_count": 1,
   "metadata": {},
   "outputs": [],
   "source": [
    "import random\n",
    "import matplotlib.pyplot as plt\n",
    "import sys\n",
    "import time # Replaced timeit with time to measure execution time from our code\n",
    "import math\n",
    "\n",
    "from IPython.display import Image # Used to display image in this notebook\n",
    "from collections import defaultdict, deque # Used as dict and queue"
   ]
  },
  {
   "cell_type": "markdown",
   "metadata": {},
   "source": [
    "Download the three following graphs:\n",
    "- http://lioneltabourier.fr/documents/drosophila.txt\n",
    "- http://snap.stanford.edu/data/com-LiveJournal.html    \n",
    "- http://snap.stanford.edu/data/com-Amazon.html\n",
    "- http://snap.stanford.edu/data/email-Eu-core.html (optional, might be too large)\n",
    "\n",
    "### Sidenote:\n",
    "Using \"amazon\" graph (added in the above links) instead of \"live journal\" for faster loading on low-end computer.\n",
    "\n",
    "It is also useful to consider some toy graphs (e.g. manually created graphs with a dozen nodes) to test your programs."
   ]
  },
  {
   "cell_type": "markdown",
   "metadata": {},
   "source": [
    "## Exercise 0: preliminaries\n",
    "\n",
    "Using the codes of Lab1, load the graphs in memory as dictionary of lists and check their number of nodes and links."
   ]
  },
  {
   "cell_type": "code",
   "execution_count": 2,
   "metadata": {},
   "outputs": [],
   "source": [
    "# Code taken from our TP1\n",
    "\n",
    "def count_nodes_edges(filename):\n",
    "    # Initialize an empty set to store unique nodes\n",
    "    nodes = set()\n",
    "    # Initialize a variable to count the number of edges\n",
    "    edges = 0\n",
    "\n",
    "    # Open the specified file in read ('read only') mode\n",
    "    with open(filename, 'r') as file:\n",
    "        # Iterate through each line in the file\n",
    "        for line in file:\n",
    "            # Remove leading and trailing whitespace and split the line into parts\n",
    "            edge_info = line.strip().split()\n",
    "            # Check if the line does not contain exactly two values (node identifiers)\n",
    "            if len(edge_info) != 2:\n",
    "                # Skip lines that don't have two values, they might be comments or errors\n",
    "                continue\n",
    "            # Add both node identifiers to the 'nodes' set\n",
    "            nodes.update(edge_info)\n",
    "            # Increment the edge count\n",
    "            edges += 1\n",
    "\n",
    "    # Calculate the number of unique nodes by finding the length of the 'nodes' set\n",
    "    num_nodes = len(nodes)\n",
    "    # final count for edges\n",
    "    num_edges = edges\n",
    "\n",
    "    # Return the counts of nodes and edges as a tuple\n",
    "    return num_nodes, num_edges"
   ]
  },
  {
   "cell_type": "code",
   "execution_count": 3,
   "metadata": {},
   "outputs": [],
   "source": [
    "def optimized_count_nodes_edges(filename):\n",
    "    # Initialize an empty set to store unique nodes\n",
    "    nodes = set()\n",
    "    # Initialize an empty set to store unique edges\n",
    "    unique_edges = set()\n",
    "\n",
    "    # Open the specified file in read ('r') mode\n",
    "    with open(filename, 'r') as file:\n",
    "        # Iterate through each line in the file\n",
    "        for line in file:\n",
    "            # Skip lines starting with '#' (comments)\n",
    "            if line.startswith('#'):\n",
    "                continue\n",
    "            # Remove leading and trailing whitespace and split the line into parts\n",
    "            edge_info = line.strip().split()\n",
    "            # Check if the line does not contain exactly two values (node identifiers)\n",
    "            if len(edge_info) != 2:\n",
    "                # Skip lines that don't have two values\n",
    "                continue\n",
    "            # Sort the edge_info to ensure order independence and convert it to a tuple\n",
    "            edge = tuple(sorted(edge_info))\n",
    "            # Check if the edge is not already in the set of unique_edges\n",
    "            if edge not in unique_edges:\n",
    "                # Add the edge to the set of unique_edges\n",
    "                unique_edges.add(edge)\n",
    "                # Add both node identifiers to the 'nodes' set\n",
    "                nodes.update(edge_info)\n",
    "\n",
    "    # Calculate the number of unique nodes by finding the length of the 'nodes' set\n",
    "    num_nodes = len(nodes)\n",
    "    # The total number of unique edges has already been counted in the 'unique_edges' set\n",
    "    num_edges = len(unique_edges)\n",
    "\n",
    "    # Return the counts of nodes and edges as a tuple\n",
    "    return num_nodes, num_edges"
   ]
  },
  {
   "cell_type": "code",
   "execution_count": 4,
   "metadata": {},
   "outputs": [],
   "source": [
    "# Code taken from our TP1\n",
    "\n",
    "def load_graph(filename):\n",
    "    # Initialize an empty dictionary for the adjacency list.\n",
    "    adjacency_list = {}\n",
    "    \n",
    "    # Open the specified file for reading.\n",
    "    with open(filename, 'r') as file:\n",
    "        # Loop through each line in the file.\n",
    "        for line in file:\n",
    "            # Check if the line does not start with '#' (comments)\n",
    "            if not line.startswith('#'):\n",
    "                # Split the line into two nodes representing an edge.\n",
    "                edge_info = line.strip().split()\n",
    "                node1, node2 = edge_info[0], edge_info[1]\n",
    "                # Check if node1 is not already in the adjacency list.\n",
    "                if node1 not in adjacency_list:\n",
    "                    # Initialize an empty list for node1 in the adjacency list.\n",
    "                    adjacency_list[node1] = []\n",
    "                # Check if node2 is not already in the adjacency list.\n",
    "                if node2 not in adjacency_list:\n",
    "                    # Initialize an empty list for node2 in the adjacency list.\n",
    "                    adjacency_list[node2] = []\n",
    "                # Add node2 to the adjacency list of node1 (representing an undirected edge).\n",
    "                adjacency_list[node1].append(node2)\n",
    "                # Add node1 to the adjacency list of node2 (since it's an undirected edge).\n",
    "                adjacency_list[node2].append(node1)\n",
    "\n",
    "    # Return the adjacency list representing the undirected graph.\n",
    "    return adjacency_list"
   ]
  },
  {
   "cell_type": "code",
   "execution_count": 5,
   "metadata": {},
   "outputs": [],
   "source": [
    "# Code written to help us check our results\n",
    "\n",
    "def test_count_nodes_edges(filename):\n",
    "    start_time = time.time()\n",
    "    num_nodes, num_edges = count_nodes_edges(filename)\n",
    "    print(f\"Number of nodes: {num_nodes}\")\n",
    "    print(f\"Number of edges: {num_edges}\")\n",
    "    print(f\"Nodes and edges counted in {time.time() - start_time:.5f} seconds\")"
   ]
  },
  {
   "cell_type": "code",
   "execution_count": 6,
   "metadata": {},
   "outputs": [],
   "source": [
    "# Code written to help us check our results\n",
    "\n",
    "def test_optimized_count_nodes_edges(filename):\n",
    "    start_time = time.time()\n",
    "    num_nodes, num_edges = optimized_count_nodes_edges(filename)\n",
    "    print(f\"Number of nodes: {num_nodes}\")\n",
    "    print(f\"Number of edges: {num_edges}\")\n",
    "    print(f\"Nodes and edges counted in {time.time() - start_time:.5f} seconds\")"
   ]
  },
  {
   "cell_type": "code",
   "execution_count": 7,
   "metadata": {},
   "outputs": [
    {
     "data": {
      "image/png": "[encoded data removed]",
      "text/plain": [
       "<IPython.core.display.Image object>"
      ]
     },
     "execution_count": 7,
     "metadata": {},
     "output_type": "execute_result"
    }
   ],
   "source": [
    "# Displaying our test_graph, it should have 9 nodes and 8 edges\n",
    "Image(filename=\"./test_graph.png\")"
   ]
  },
  {
   "cell_type": "code",
   "execution_count": 8,
   "metadata": {},
   "outputs": [
    {
     "name": "stdout",
     "output_type": "stream",
     "text": [
      "Number of nodes: 9\n",
      "Number of edges: 8\n",
      "Nodes and edges counted in 0.00200 seconds\n"
     ]
    }
   ],
   "source": [
    "# Checking our test_graph\n",
    "filename = 'test_graph.txt'\n",
    "result = test_count_nodes_edges(filename)"
   ]
  },
  {
   "cell_type": "code",
   "execution_count": 9,
   "metadata": {},
   "outputs": [
    {
     "name": "stdout",
     "output_type": "stream",
     "text": [
      "Graph loaded in 0.00102 seconds\n"
     ]
    }
   ],
   "source": [
    "# Loading our test_graph.txt into a variable for easier use down the line\n",
    "filename = 'test_graph.txt'\n",
    "start_time = time.time()\n",
    "test_graph = load_graph(filename)\n",
    "print(f\"Graph loaded in {time.time() - start_time:.5f} seconds\")"
   ]
  },
  {
   "cell_type": "code",
   "execution_count": 10,
   "metadata": {},
   "outputs": [
    {
     "name": "stdout",
     "output_type": "stream",
     "text": [
      "Number of nodes: 7236\n",
      "Number of edges: 22425\n",
      "Nodes and edges counted in 0.01319 seconds\n"
     ]
    }
   ],
   "source": [
    "# Testing drosophila graph\n",
    "filename = 'drosophila.txt'\n",
    "result = test_count_nodes_edges(filename)"
   ]
  },
  {
   "cell_type": "code",
   "execution_count": 11,
   "metadata": {},
   "outputs": [
    {
     "name": "stdout",
     "output_type": "stream",
     "text": [
      "Graph loaded in 0.02044 seconds\n"
     ]
    }
   ],
   "source": [
    "# Loading droshophila.txt into a variable for easier use down the line\n",
    "filename = 'drosophila.txt'\n",
    "start_time = time.time()\n",
    "drosophila_graph = load_graph(filename)\n",
    "print(f\"Graph loaded in {time.time() - start_time:.5f} seconds\")"
   ]
  },
  {
   "cell_type": "code",
   "execution_count": 12,
   "metadata": {},
   "outputs": [
    {
     "name": "stdout",
     "output_type": "stream",
     "text": [
      "Number of nodes: 1005\n",
      "Number of edges: 25571\n",
      "Nodes and edges counted in 0.01634 seconds\n"
     ]
    }
   ],
   "source": [
    "# Testing email-Eu-core graph\n",
    "filename = 'email-Eu-core.txt'\n",
    "result = test_count_nodes_edges(filename)"
   ]
  },
  {
   "cell_type": "code",
   "execution_count": 13,
   "metadata": {},
   "outputs": [
    {
     "name": "stdout",
     "output_type": "stream",
     "text": [
      "Graph loaded in 0.02192 seconds\n"
     ]
    }
   ],
   "source": [
    "# Loading our email-Eu-core.txt into a variable for easier use down the line\n",
    "filename = 'email-Eu-core.txt'\n",
    "start_time = time.time()\n",
    "email_graph = load_graph(filename)\n",
    "print(f\"Graph loaded in {time.time() - start_time:.5f} seconds\")"
   ]
  },
  {
   "cell_type": "code",
   "execution_count": 14,
   "metadata": {},
   "outputs": [
    {
     "name": "stdout",
     "output_type": "stream",
     "text": [
      "Number of nodes: 334863\n",
      "Number of edges: 925872\n",
      "Nodes and edges counted in 1.50957 seconds\n"
     ]
    }
   ],
   "source": [
    "# Testing amazon graph\n",
    "filename = 'com-amazon.ungraph.txt'\n",
    "result = test_optimized_count_nodes_edges(filename)"
   ]
  },
  {
   "cell_type": "code",
   "execution_count": 15,
   "metadata": {},
   "outputs": [
    {
     "name": "stdout",
     "output_type": "stream",
     "text": [
      "Graph loaded in 1.47459 seconds\n"
     ]
    }
   ],
   "source": [
    "# Loading our com-amazon.ungraph.txt into a variable for easier use down the line\n",
    "filename = 'com-amazon.ungraph.txt'\n",
    "start_time = time.time()\n",
    "amazon_graph = load_graph(filename)\n",
    "print(f\"Graph loaded in {time.time() - start_time:.5f} seconds\")"
   ]
  },
  {
   "cell_type": "code",
   "execution_count": 16,
   "metadata": {},
   "outputs": [
    {
     "name": "stdout",
     "output_type": "stream",
     "text": [
      "Number of nodes: 3997962\n",
      "Number of edges: 34681189\n",
      "Nodes and edges counted in 56.91983 seconds\n"
     ]
    }
   ],
   "source": [
    "# Testing Live journal graph\n",
    "filename = 'com-lj.ungraph.txt'\n",
    "result = test_optimized_count_nodes_edges(filename)"
   ]
  },
  {
   "cell_type": "code",
   "execution_count": 17,
   "metadata": {},
   "outputs": [
    {
     "name": "stdout",
     "output_type": "stream",
     "text": [
      "Graph loaded in 49.03737 seconds\n"
     ]
    }
   ],
   "source": [
    "# Loading com-lj.ungraph.txt into a variable for easier use down the line\n",
    "filename = 'com-lj.ungraph.txt'\n",
    "start_time = time.time()\n",
    "live_journal = load_graph(filename)\n",
    "print(f\"Graph loaded in {time.time() - start_time:.5f} seconds\")"
   ]
  },
  {
   "cell_type": "markdown",
   "metadata": {},
   "source": [
    "### Sidenote: \n",
    "We might skip the \"live journal\" graph, as this graph is huge, unless we're using a high-end computer, working on this graph will take too long."
   ]
  },
  {
   "cell_type": "markdown",
   "metadata": {},
   "source": [
    "## Exercise 1: BFS\n",
    "\n",
    "### 1.1 Components\n",
    "\n",
    "- Implement a BFS algorithm.  \n",
    "\n",
    "- Use it on each of the graphs to evaluate the size of the largest connected component of these graphs.\n",
    "- Use it to identify all connected components.\n",
    "\n",
    "Warning: if your BFS is not well coded, it can be very long, so if it doesn't work on Amazon or LiveJournal in less than a few minutes, either improve your code, or test only on smaller graphs. "
   ]
  },
  {
   "cell_type": "code",
   "execution_count": 18,
   "metadata": {},
   "outputs": [],
   "source": [
    "def bfs(graph, start_node):\n",
    "    # Initialize a set to keep track of visited nodes\n",
    "    visited = set()\n",
    "    # Initialize a deque (double-ended queue) with the starting node\n",
    "    queue = deque([start_node])\n",
    "    # Initialize a list to store the connected component (nodes visited during BFS)\n",
    "    component = []\n",
    "\n",
    "    # Main BFS loop\n",
    "    while queue:\n",
    "        # Get the current node from the front of the queue\n",
    "        current = queue.popleft()\n",
    "        # Check if the current node has not been visited\n",
    "        if current not in visited:\n",
    "            # Mark the current node as visited\n",
    "            visited.add(current)\n",
    "            # Add the current node to the connected component\n",
    "            component.append(current)\n",
    "            # Extend the queue with unvisited neighbors of the current node\n",
    "            queue.extend(node for node in graph[current] if node not in visited)\n",
    "\n",
    "    # Return the connected component\n",
    "    return component"
   ]
  },
  {
   "cell_type": "code",
   "execution_count": 19,
   "metadata": {},
   "outputs": [],
   "source": [
    "def bfs_with_print(graph, start_node):\n",
    "    # Check if the starting node exists in the graph\n",
    "    if start_node not in graph: # In case someone decides to be funny and use a non-existing node\n",
    "        print(f\"<!>Error<!>: The starting node '{start_node}' not found in the graph.\")\n",
    "        print(f\"<!>Error<!>: Are you sure you didn't make a typo?\")\n",
    "        return\n",
    "    \n",
    "    # Initialize a set to keep track of visited nodes\n",
    "    visited = set()\n",
    "    # Initialize a deque (double-ended queue) with the starting node\n",
    "    queue = deque([start_node])\n",
    "    # Initialize a list to store the connected component (nodes visited during BFS)\n",
    "    component = []\n",
    "    # Initialize counters for nodes visited and all nodes traversed\n",
    "    nodes_visited = 0\n",
    "    all_nodes = []\n",
    "\n",
    "    # Main BFS loop\n",
    "    while queue:\n",
    "        # Get the current node from the front of the queue\n",
    "        current = queue.popleft()\n",
    "        # Check if the current node has not been visited\n",
    "        if current not in visited:\n",
    "            # Mark the current node as visited\n",
    "            visited.add(current)\n",
    "            # Add the current node to the connected component\n",
    "            component.append(current)\n",
    "            # Increment the nodes_visited counter and add the node to the all_nodes list\n",
    "            nodes_visited += 1\n",
    "            all_nodes.append(current)\n",
    "            # Extend the queue with unvisited neighbors of the current node\n",
    "            queue.extend(node for node in graph[current] if node not in visited)\n",
    "    print(\"=>BFS completed\")\n",
    "\n",
    "    # Print the nodes visited, showing either all or the first and last 10, since we have so crazy big graphs in this lab\n",
    "    if nodes_visited <= 10:\n",
    "        print(*all_nodes, end=' ')\n",
    "        print(\"\\nPrinted all nodes.\")\n",
    "    else:\n",
    "        print(*all_nodes[:10], end=' ')\n",
    "        print(*all_nodes[-10:], end=' ')\n",
    "        print(\"\\nPrinted the first and last 10 for better readability.\")\n",
    "\n",
    "    # Return the connected component\n",
    "    return component"
   ]
  },
  {
   "cell_type": "code",
   "execution_count": 20,
   "metadata": {},
   "outputs": [],
   "source": [
    "def test_bfs(graph, start_node):\n",
    "    start_time = time.time()\n",
    "    print(f\"BFS starting from vertex {start_node}:\")\n",
    "    result = bfs_with_print(graph, start_node)\n",
    "    print(f\"\\nBFS done in {time.time() - start_time:.5f} seconds\")"
   ]
  },
  {
   "cell_type": "code",
   "execution_count": 21,
   "metadata": {},
   "outputs": [
    {
     "data": {
      "image/png": "[encoded data removed]",
      "text/plain": [
       "<IPython.core.display.Image object>"
      ]
     },
     "execution_count": 21,
     "metadata": {},
     "output_type": "execute_result"
    }
   ],
   "source": [
    "# Displaying Test_graph, with BFS algorithm applied for node 7, for visual confirmation\n",
    "Image(filename=\"./test_graph_BFS.png\")"
   ]
  },
  {
   "cell_type": "code",
   "execution_count": 22,
   "metadata": {},
   "outputs": [
    {
     "name": "stdout",
     "output_type": "stream",
     "text": [
      "BFS starting from vertex 7:\n",
      "=>BFS completed\n",
      "7 3 8 9 1 6 2 4 5 \n",
      "Printed all nodes.\n",
      "\n",
      "BFS done in 0.00000 seconds\n"
     ]
    }
   ],
   "source": [
    "graph = test_graph\n",
    "start_node = \"7\"\n",
    "result = test_bfs(graph, start_node)"
   ]
  },
  {
   "cell_type": "code",
   "execution_count": 23,
   "metadata": {},
   "outputs": [
    {
     "name": "stdout",
     "output_type": "stream",
     "text": [
      "BFS starting from vertex 0:\n",
      "=>BFS completed\n",
      "0 1 2 3 4 5 6 7 8 9 3985 65 2428 5688 5213 7183 6249 6269 6754 7052 \n",
      "Printed the first and last 10 for better readability.\n",
      "\n",
      "BFS done in 0.01711 seconds\n"
     ]
    }
   ],
   "source": [
    "graph = drosophila_graph\n",
    "start_node = \"0\"\n",
    "result = test_bfs(graph, start_node)"
   ]
  },
  {
   "cell_type": "code",
   "execution_count": 24,
   "metadata": {},
   "outputs": [
    {
     "name": "stdout",
     "output_type": "stream",
     "text": [
      "BFS starting from vertex 0:\n",
      "=>BFS completed\n",
      "0 1 17 316 146 581 268 221 218 18 995 583 794 876 915 846 634 449 603 916 \n",
      "Printed the first and last 10 for better readability.\n",
      "\n",
      "BFS done in 0.01050 seconds\n"
     ]
    }
   ],
   "source": [
    "graph = email_graph\n",
    "start_node = \"0\"\n",
    "result = test_bfs(graph, start_node)"
   ]
  },
  {
   "cell_type": "code",
   "execution_count": 25,
   "metadata": {},
   "outputs": [
    {
     "name": "stdout",
     "output_type": "stream",
     "text": [
      "BFS starting from vertex 1:\n",
      "=>BFS completed\n",
      "1 88160 118052 161555 244916 346495 444232 447165 500600 48724 500867 532649 121514 482622 271203 276695 321818 321821 262774 150736 \n",
      "Printed the first and last 10 for better readability.\n",
      "\n",
      "BFS done in 0.85448 seconds\n"
     ]
    }
   ],
   "source": [
    "graph = amazon_graph\n",
    "start_node = \"1\"\n",
    "result = test_bfs(graph, start_node)"
   ]
  },
  {
   "cell_type": "code",
   "execution_count": 26,
   "metadata": {},
   "outputs": [
    {
     "name": "stdout",
     "output_type": "stream",
     "text": [
      "BFS starting from vertex 1:\n",
      "=>BFS completed\n",
      "1 0 2 3 4 5 6 7 8 9 3864109 3875339 3847906 3847911 3988338 3988339 3373887 3965135 3911578 3847908 \n",
      "Printed the first and last 10 for better readability.\n",
      "\n",
      "BFS done in 27.89127 seconds\n"
     ]
    }
   ],
   "source": [
    "# Comment or uncomment this part if you're confident your computer can handle it\n",
    "graph = live_journal\n",
    "start_node = \"1\"\n",
    "result = test_bfs(graph, start_node)"
   ]
  },
  {
   "cell_type": "markdown",
   "metadata": {},
   "source": [
    "### Sidenote:\n",
    "Our code was able to do a BFS algorithm in less than 30 seconds with the \"live journal\" graph with a high-end computer with 64GB of RAM.   \n",
    "    We can safely conclude that our code is optimized enough."
   ]
  },
  {
   "cell_type": "code",
   "execution_count": 27,
   "metadata": {},
   "outputs": [],
   "source": [
    "def connected_components(graph):\n",
    "    # Initialize a set to keep track of visited nodes\n",
    "    visited = set()\n",
    "    # Initialize a list to store connected components\n",
    "    components = []\n",
    "\n",
    "    # Iterate through all vertices in the graph\n",
    "    for node in graph:\n",
    "        # Check if the node has not been visited\n",
    "        if node not in visited:\n",
    "            # Use BFS to find the connected component starting from the current node\n",
    "            component = bfs(graph, node)\n",
    "            # Append the connected component to the list of components\n",
    "            components.append(component)\n",
    "            # Mark all nodes in the component as visited\n",
    "            visited.update(component)\n",
    "\n",
    "    # Return the list of connected components\n",
    "    return components"
   ]
  },
  {
   "cell_type": "code",
   "execution_count": 28,
   "metadata": {},
   "outputs": [],
   "source": [
    "def process_graph(graph):\n",
    "    start_time = time.time()\n",
    "    # Find the largest connected component\n",
    "    components = connected_components(graph)\n",
    "    largest_component = max(components, key=len)\n",
    "    \n",
    "    # Display the largest connected component\n",
    "    if len(largest_component) > 10:\n",
    "        print(f\"Largest connected component: {largest_component[:10]}...{largest_component[-10:]}\")\n",
    "    else:\n",
    "        print(f\"Largest connected component: {largest_component}\")\n",
    "    \n",
    "    print(f\"\\nSize of the largest connected component: {len(largest_component)}\")\n",
    "    print(\"\\nAll connected components:\")\n",
    "    \n",
    "    # Display all connected components\n",
    "    for i, component in enumerate(components, 1):\n",
    "        if len(component) > 10:\n",
    "            print(f\"Component {i}: {component[:10]}...{component[-10:]}\")\n",
    "        else:\n",
    "            print(f\"Component {i}: {component}\")\n",
    "    \n",
    "    print(f\"\\nConnected components found in {time.time() - start_time:.5f} seconds\")"
   ]
  },
  {
   "cell_type": "code",
   "execution_count": 29,
   "metadata": {},
   "outputs": [
    {
     "name": "stdout",
     "output_type": "stream",
     "text": [
      "Largest connected component: ['2', '1', '4', '5', '3', '6', '7', '8', '9']\n",
      "\n",
      "Size of the largest connected component: 9\n",
      "\n",
      "All connected components:\n",
      "Component 1: ['2', '1', '4', '5', '3', '6', '7', '8', '9']\n",
      "\n",
      "Connected components found in 0.00000 seconds\n"
     ]
    }
   ],
   "source": [
    "graph = test_graph\n",
    "result = process_graph(graph)"
   ]
  },
  {
   "cell_type": "code",
   "execution_count": 30,
   "metadata": {},
   "outputs": [
    {
     "name": "stdout",
     "output_type": "stream",
     "text": [
      "Largest connected component: ['0', '1', '2', '3', '4', '5', '6', '7', '8', '9']...['3985', '65', '2428', '5688', '5213', '7183', '6249', '6269', '6754', '7052']\n",
      "\n",
      "Size of the largest connected component: 7236\n",
      "\n",
      "All connected components:\n",
      "Component 1: ['0', '1', '2', '3', '4', '5', '6', '7', '8', '9']...['3985', '65', '2428', '5688', '5213', '7183', '6249', '6269', '6754', '7052']\n",
      "\n",
      "Connected components found in 0.01686 seconds\n"
     ]
    }
   ],
   "source": [
    "graph = drosophila_graph\n",
    "result = process_graph(graph)"
   ]
  },
  {
   "cell_type": "code",
   "execution_count": 31,
   "metadata": {},
   "outputs": [
    {
     "name": "stdout",
     "output_type": "stream",
     "text": [
      "Largest connected component: ['0', '1', '17', '316', '146', '581', '268', '221', '218', '18']...['995', '583', '794', '876', '915', '846', '634', '449', '603', '916']\n",
      "\n",
      "Size of the largest connected component: 986\n",
      "\n",
      "All connected components:\n",
      "Component 1: ['0', '1', '17', '316', '146', '581', '268', '221', '218', '18']...['995', '583', '794', '876', '915', '846', '634', '449', '603', '916']\n",
      "Component 2: ['580']\n",
      "Component 3: ['633']\n",
      "Component 4: ['648']\n",
      "Component 5: ['653']\n",
      "Component 6: ['658']\n",
      "Component 7: ['660']\n",
      "Component 8: ['670']\n",
      "Component 9: ['675']\n",
      "Component 10: ['684']\n",
      "Component 11: ['691']\n",
      "Component 12: ['703']\n",
      "Component 13: ['711']\n",
      "Component 14: ['731']\n",
      "Component 15: ['732']\n",
      "Component 16: ['744']\n",
      "Component 17: ['746']\n",
      "Component 18: ['772']\n",
      "Component 19: ['798']\n",
      "Component 20: ['808']\n",
      "\n",
      "Connected components found in 0.00958 seconds\n"
     ]
    }
   ],
   "source": [
    "graph = email_graph\n",
    "result = process_graph(graph)"
   ]
  },
  {
   "cell_type": "code",
   "execution_count": 32,
   "metadata": {},
   "outputs": [
    {
     "name": "stdout",
     "output_type": "stream",
     "text": [
      "Largest connected component: ['1', '88160', '118052', '161555', '244916', '346495', '444232', '447165', '500600', '48724']...['500867', '532649', '121514', '482622', '271203', '276695', '321818', '321821', '262774', '150736']\n",
      "\n",
      "Size of the largest connected component: 334863\n",
      "\n",
      "All connected components:\n",
      "Component 1: ['1', '88160', '118052', '161555', '244916', '346495', '444232', '447165', '500600', '48724']...['500867', '532649', '121514', '482622', '271203', '276695', '321818', '321821', '262774', '150736']\n",
      "\n",
      "Connected components found in 0.96988 seconds\n"
     ]
    }
   ],
   "source": [
    "graph = amazon_graph\n",
    "result = process_graph(graph)"
   ]
  },
  {
   "cell_type": "code",
   "execution_count": 33,
   "metadata": {},
   "outputs": [
    {
     "name": "stdout",
     "output_type": "stream",
     "text": [
      "Largest connected component: ['0', '1', '2', '31', '73', '80', '113619', '2468556', '2823829', '2823833']...['3864109', '3875339', '3373887', '3847906', '3847911', '3965135', '3988338', '3988339', '3911578', '3847908']\n",
      "\n",
      "Size of the largest connected component: 3997962\n",
      "\n",
      "All connected components:\n",
      "Component 1: ['0', '1', '2', '31', '73', '80', '113619', '2468556', '2823829', '2823833']...['3864109', '3875339', '3373887', '3847906', '3847911', '3965135', '3988338', '3988339', '3911578', '3847908']\n",
      "\n",
      "Connected components found in 28.57948 seconds\n"
     ]
    }
   ],
   "source": [
    "# Comment or uncomment this part if you're confident your computer can handle it\n",
    "graph = live_journal\n",
    "result = process_graph(graph)"
   ]
  },
  {
   "cell_type": "markdown",
   "metadata": {},
   "source": [
    "### 1.2 Distances\n",
    "\n",
    "- Modify the BFS above to have it compute the distance to the source node.\n",
    "\n",
    "- Using the fact that the diameter is necessarily larger than any distance measured, use your distance computation code to get a lower bound of the diameter. The higher the bound, the better."
   ]
  },
  {
   "cell_type": "code",
   "execution_count": 34,
   "metadata": {},
   "outputs": [],
   "source": [
    "def compute_distances(graph, start_node):\n",
    "    # Check if the starting node exists in the graph\n",
    "    if start_node not in graph: # In case someone decides to be funny and use a non-existing node\n",
    "        print(f\"<!>Error<!>: The starting node '{start_node}' not found in the graph.\")\n",
    "        print(f\"<!>Error<!>: Are you sure you didn't make a typo?\")\n",
    "        return\n",
    "    \n",
    "    # Initialize a dictionary to store distances from the start node to other nodes\n",
    "    distances = {}\n",
    "    # Initialize a deque (double-ended queue) and add the starting node\n",
    "    queue = deque()\n",
    "    queue.append(start_node)\n",
    "    # Set the distance from the start node to itself to be 0\n",
    "    distances[start_node] = 0\n",
    "\n",
    "    # Main BFS loop to compute distances\n",
    "    while queue:\n",
    "        # Get the current node from the front of the queue\n",
    "        current_node = queue.popleft()\n",
    "        # Iterate through neighbors of the current node\n",
    "        for neighbor in graph[current_node]:\n",
    "            # Check if the neighbor has not been assigned a distance\n",
    "            if neighbor not in distances:\n",
    "                # Add the neighbor to the queue\n",
    "                queue.append(neighbor)\n",
    "                # Set the distance from the start node to the neighbor\n",
    "                distances[neighbor] = distances[current_node] + 1\n",
    "\n",
    "    # Return the computed distances\n",
    "    return distances"
   ]
  },
  {
   "cell_type": "code",
   "execution_count": 35,
   "metadata": {},
   "outputs": [],
   "source": [
    "def test_compute_distances(graph, start_node):\n",
    "    start_time = time.time()\n",
    "    distances = compute_distances(graph, start_node)\n",
    "    # Displaying only the 10 first and last if more than 10, else display all\n",
    "    if len(distances) > 10:\n",
    "        first_10 = list(distances.items())[:10]\n",
    "        last_10 = list(distances.items())[-10:]\n",
    "        display_distances = dict(first_10 + last_10)\n",
    "    else:\n",
    "        display_distances = distances\n",
    "    \n",
    "    print(\"Distances:\", display_distances)\n",
    "    print(f\"Calculating distance done in {time.time() - start_time:.5f} seconds\")"
   ]
  },
  {
   "cell_type": "code",
   "execution_count": 36,
   "metadata": {},
   "outputs": [
    {
     "name": "stdout",
     "output_type": "stream",
     "text": [
      "Distances: {'7': 0, '3': 1, '8': 1, '9': 1, '1': 2, '6': 2, '2': 3, '4': 4, '5': 4}\n",
      "Calculating distance done in 0.00000 seconds\n"
     ]
    }
   ],
   "source": [
    "graph = test_graph\n",
    "start_node = \"7\"\n",
    "result = test_compute_distances(graph, start_node)"
   ]
  },
  {
   "cell_type": "code",
   "execution_count": 37,
   "metadata": {},
   "outputs": [
    {
     "name": "stdout",
     "output_type": "stream",
     "text": [
      "Distances: {'0': 0, '1': 1, '2': 1, '3': 1, '4': 1, '5': 1, '6': 1, '7': 1, '8': 1, '9': 1, '3985': 7, '65': 7, '2428': 7, '5688': 7, '5213': 7, '7183': 7, '6249': 7, '6269': 7, '6754': 7, '7052': 8}\n",
      "Calculating distance done in 0.01168 seconds\n"
     ]
    }
   ],
   "source": [
    "graph = drosophila_graph\n",
    "start_node = \"0\"\n",
    "result = test_compute_distances(graph, start_node)"
   ]
  },
  {
   "cell_type": "code",
   "execution_count": 38,
   "metadata": {},
   "outputs": [
    {
     "name": "stdout",
     "output_type": "stream",
     "text": [
      "Distances: {'0': 0, '1': 1, '17': 1, '316': 1, '146': 1, '581': 1, '268': 1, '221': 1, '218': 1, '18': 1, '995': 4, '583': 4, '794': 4, '876': 4, '915': 4, '846': 4, '634': 4, '449': 4, '603': 4, '916': 4}\n",
      "Calculating distance done in 0.00439 seconds\n"
     ]
    }
   ],
   "source": [
    "graph = email_graph\n",
    "start_node = \"0\"\n",
    "result = test_compute_distances(graph, start_node)"
   ]
  },
  {
   "cell_type": "code",
   "execution_count": 39,
   "metadata": {},
   "outputs": [
    {
     "name": "stdout",
     "output_type": "stream",
     "text": [
      "Distances: {'1': 0, '88160': 1, '118052': 1, '161555': 1, '244916': 1, '346495': 1, '444232': 1, '447165': 1, '500600': 1, '48724': 2, '500867': 31, '532649': 31, '121514': 31, '482622': 31, '271203': 31, '276695': 31, '321818': 32, '321821': 32, '262774': 32, '150736': 33}\n",
      "Calculating distance done in 0.73447 seconds\n"
     ]
    }
   ],
   "source": [
    "graph = amazon_graph\n",
    "start_node = \"1\"\n",
    "result = test_compute_distances(graph, start_node)"
   ]
  },
  {
   "cell_type": "code",
   "execution_count": 40,
   "metadata": {},
   "outputs": [
    {
     "name": "stdout",
     "output_type": "stream",
     "text": [
      "Distances: {'1': 0, '0': 1, '2': 1, '3': 1, '4': 1, '5': 1, '6': 1, '7': 1, '8': 1, '9': 1, '3864109': 11, '3875339': 11, '3847906': 12, '3847911': 12, '3988338': 12, '3988339': 12, '3373887': 12, '3965135': 12, '3911578': 12, '3847908': 13}\n",
      "Calculating distance done in 23.72466 seconds\n"
     ]
    }
   ],
   "source": [
    "# Comment or uncomment this part if you're confident your computer can handle it\n",
    "graph = live_journal\n",
    "start_node = \"1\"\n",
    "result = test_compute_distances(graph, start_node)"
   ]
  },
  {
   "cell_type": "code",
   "execution_count": 41,
   "metadata": {},
   "outputs": [],
   "source": [
    "def lower_bound_diameter(graph, sample_size=None):\n",
    "    # Initialize the lower bound to 0\n",
    "    lower_bound = 0\n",
    "\n",
    "    # If sample_size is None, use all nodes for BFS, otherwise, use a sample\n",
    "    nodes_to_sample = list(graph.keys())\n",
    "\n",
    "    # If a sample size is specified and greater than 0\n",
    "    if sample_size is not None and sample_size > 0:\n",
    "        # Ensure that the sample size is not greater than the population size\n",
    "        sample_size = min(sample_size, len(nodes_to_sample))\n",
    "        # Randomly sample nodes for BFS\n",
    "        nodes_to_sample = random.sample(nodes_to_sample, sample_size)\n",
    "\n",
    "    # Compute distances for sampled nodes in a single BFS traversal\n",
    "    all_distances = {}\n",
    "    for start_node in nodes_to_sample:\n",
    "        # Use a BFS to compute distances from the start node to all other nodes\n",
    "        distances = compute_distances(graph, start_node)\n",
    "        all_distances[start_node] = distances\n",
    "\n",
    "    # Iterate over each node to determine eccentricity\n",
    "    for start_node, distances in all_distances.items():\n",
    "        # Find the maximum distance, representing the eccentricity of the node\n",
    "        eccentricity = max(distances.values())\n",
    "        # Update the lower bound if the eccentricity is greater\n",
    "        lower_bound = max(lower_bound, eccentricity)\n",
    "\n",
    "    # Return the computed lower bound for the diameter\n",
    "    return lower_bound"
   ]
  },
  {
   "cell_type": "code",
   "execution_count": 42,
   "metadata": {},
   "outputs": [],
   "source": [
    "def test_lower_bound_diameter(graph, sample_size=None):\n",
    "    start_time = time.time()\n",
    "    lower_bound = lower_bound_diameter(graph, sample_size=sample_size)\n",
    "    print(f\"Lower bound for diameter: {lower_bound}\")\n",
    "    print(f\"Calculating lower bound done in {time.time() - start_time:.5f} seconds\")"
   ]
  },
  {
   "cell_type": "code",
   "execution_count": 43,
   "metadata": {},
   "outputs": [
    {
     "name": "stdout",
     "output_type": "stream",
     "text": [
      "Lower bound for diameter: 5\n",
      "Calculating lower bound done in 0.00000 seconds\n"
     ]
    }
   ],
   "source": [
    "graph = test_graph\n",
    "sample_size = 10\n",
    "result = test_lower_bound_diameter(graph, sample_size=sample_size)"
   ]
  },
  {
   "cell_type": "code",
   "execution_count": 44,
   "metadata": {},
   "outputs": [
    {
     "name": "stdout",
     "output_type": "stream",
     "text": [
      "Lower bound for diameter: 11\n",
      "Calculating lower bound done in 10.47686 seconds\n"
     ]
    }
   ],
   "source": [
    "graph = drosophila_graph\n",
    "sample_size = 2000\n",
    "result = test_lower_bound_diameter(graph, sample_size=sample_size)"
   ]
  },
  {
   "cell_type": "code",
   "execution_count": 45,
   "metadata": {},
   "outputs": [
    {
     "name": "stdout",
     "output_type": "stream",
     "text": [
      "Lower bound for diameter: 7\n",
      "Calculating lower bound done in 2.73486 seconds\n"
     ]
    }
   ],
   "source": [
    "graph = email_graph\n",
    "sample_size = 2000\n",
    "result = test_lower_bound_diameter(graph, sample_size=sample_size)"
   ]
  },
  {
   "cell_type": "code",
   "execution_count": 46,
   "metadata": {},
   "outputs": [
    {
     "name": "stdout",
     "output_type": "stream",
     "text": [
      "Lower bound for diameter: 37\n",
      "Calculating lower bound done in 55.61658 seconds\n"
     ]
    }
   ],
   "source": [
    "graph = amazon_graph\n",
    "sample_size = 100\n",
    "result = test_lower_bound_diameter(graph, sample_size=sample_size)"
   ]
  },
  {
   "cell_type": "code",
   "execution_count": 47,
   "metadata": {},
   "outputs": [
    {
     "name": "stdout",
     "output_type": "stream",
     "text": [
      "Lower bound for diameter: 14\n",
      "Calculating lower bound done in 70.31430 seconds\n"
     ]
    }
   ],
   "source": [
    "# Comment or uncomment this part if you're confident your computer can handle it\n",
    "graph = live_journal\n",
    "sample_size = 3\n",
    "result = test_lower_bound_diameter(graph, sample_size=sample_size)"
   ]
  },
  {
   "cell_type": "markdown",
   "metadata": {},
   "source": [
    "## Exercise 2: Triangles\n",
    "\n",
    "### 2.1 Raw triangle counting\n",
    "\n",
    "- Implement the 2 triangle counting algorithms presented in the course. \n",
    "\n",
    "- Test your program on the 3 graphs and report the number of triangles as well as the running time of your program."
   ]
  },
  {
   "cell_type": "code",
   "execution_count": 48,
   "metadata": {},
   "outputs": [],
   "source": [
    "def naive_triangle_count(graph):\n",
    "    # Initialize a counter for the number of triangles\n",
    "    nb = 0\n",
    "\n",
    "    # Iterate over all nodes in the graph\n",
    "    for v in graph:\n",
    "        # Get the set of neighbors for the current node v\n",
    "        neighbors_v = set(graph[v])\n",
    "        # Iterate over neighbors of v\n",
    "        for u1 in neighbors_v:\n",
    "            # Iterate over neighbors of v (excluding u1)\n",
    "            for u2 in neighbors_v:\n",
    "                # Check if u1 and u2 are distinct neighbors\n",
    "                if u2 != u1:\n",
    "                    # Check if u1 and u2 are also neighbors (forming a triangle)\n",
    "                    if u1 in graph[u2]:\n",
    "                        # Increment the triangle counter\n",
    "                        nb += 1\n",
    "\n",
    "    # Each triangle is counted 3 times (once for each node), so divide by 6 to get the actual count\n",
    "    return nb // 6"
   ]
  },
  {
   "cell_type": "code",
   "execution_count": 49,
   "metadata": {},
   "outputs": [],
   "source": [
    "def test_naive_triangle_count(graph):\n",
    "    start_time = time.time()\n",
    "    result = naive_triangle_count(graph)\n",
    "    print(\"Number of triangles:\", result)\n",
    "    print(f\"Calculating triangle done in {time.time() - start_time:.5f} seconds\")"
   ]
  },
  {
   "cell_type": "code",
   "execution_count": 50,
   "metadata": {},
   "outputs": [
    {
     "name": "stdout",
     "output_type": "stream",
     "text": [
      "Number of triangles: 0\n",
      "Calculating triangle done in 0.00000 seconds\n"
     ]
    }
   ],
   "source": [
    "graph = test_graph\n",
    "result = test_naive_triangle_count(graph)"
   ]
  },
  {
   "cell_type": "code",
   "execution_count": 51,
   "metadata": {},
   "outputs": [
    {
     "name": "stdout",
     "output_type": "stream",
     "text": [
      "Number of triangles: 2994\n",
      "Calculating triangle done in 0.52165 seconds\n"
     ]
    }
   ],
   "source": [
    "graph = drosophila_graph\n",
    "result = test_naive_triangle_count(graph)"
   ]
  },
  {
   "cell_type": "code",
   "execution_count": 52,
   "metadata": {},
   "outputs": [
    {
     "name": "stdout",
     "output_type": "stream",
     "text": [
      "Number of triangles: 114535\n",
      "Calculating triangle done in 5.17861 seconds\n"
     ]
    }
   ],
   "source": [
    "graph = email_graph\n",
    "result = test_naive_triangle_count(graph)"
   ]
  },
  {
   "cell_type": "code",
   "execution_count": 53,
   "metadata": {
    "scrolled": true
   },
   "outputs": [
    {
     "name": "stdout",
     "output_type": "stream",
     "text": [
      "Number of triangles: 667129\n",
      "Calculating triangle done in 6.31314 seconds\n"
     ]
    }
   ],
   "source": [
    "graph = amazon_graph\n",
    "result = test_naive_triangle_count(graph)"
   ]
  },
  {
   "cell_type": "code",
   "execution_count": 54,
   "metadata": {},
   "outputs": [
    {
     "data": {
      "text/plain": [
       "'graph = live_journal\\nresult = test_naive_triangle_count(graph)'"
      ]
     },
     "execution_count": 54,
     "metadata": {},
     "output_type": "execute_result"
    }
   ],
   "source": [
    "# Comment or uncomment this part if you're confident your computer can handle it\n",
    "\"\"\"graph = live_journal\n",
    "result = test_naive_triangle_count(graph)\"\"\"\n",
    "\n",
    "# This is taking way too long"
   ]
  },
  {
   "cell_type": "code",
   "execution_count": 55,
   "metadata": {},
   "outputs": [],
   "source": [
    "def improved_triangle_counting(graph):\n",
    "    # Initialize a counter for the number of triangles\n",
    "    nb = 0\n",
    "\n",
    "    # Iterate over all edges (u, v) where u < v\n",
    "    for u in set(graph):\n",
    "        for v in set(graph[u]):\n",
    "            # Ensure u is less than v to avoid duplicate counts\n",
    "            if u < v:\n",
    "                # Find common neighbors of u and v\n",
    "                common_neighbors = set(graph[u]) & set(graph[v])\n",
    "                # Iterate over common neighbors (w) where v < w\n",
    "                for w in common_neighbors:\n",
    "                    if v < w:\n",
    "                        # Increment the triangle counter\n",
    "                        nb += 1\n",
    "\n",
    "    # Return the total count of triangles\n",
    "    return nb"
   ]
  },
  {
   "cell_type": "code",
   "execution_count": 56,
   "metadata": {},
   "outputs": [],
   "source": [
    "def test_improved_triangle_count(graph):\n",
    "    start_time = time.time()\n",
    "    result = improved_triangle_counting(graph)\n",
    "    print(\"Number of triangles:\", result)\n",
    "    print(f\"Calculating triangle done in {time.time() - start_time:.5f} seconds\")"
   ]
  },
  {
   "cell_type": "code",
   "execution_count": 57,
   "metadata": {},
   "outputs": [
    {
     "name": "stdout",
     "output_type": "stream",
     "text": [
      "Number of triangles: 0\n",
      "Calculating triangle done in 0.00000 seconds\n"
     ]
    }
   ],
   "source": [
    "graph = test_graph\n",
    "result = test_improved_triangle_count(graph)"
   ]
  },
  {
   "cell_type": "code",
   "execution_count": 58,
   "metadata": {},
   "outputs": [
    {
     "name": "stdout",
     "output_type": "stream",
     "text": [
      "Number of triangles: 2179\n",
      "Calculating triangle done in 0.08856 seconds\n"
     ]
    }
   ],
   "source": [
    "graph = drosophila_graph\n",
    "result = test_improved_triangle_count(graph)"
   ]
  },
  {
   "cell_type": "code",
   "execution_count": 59,
   "metadata": {},
   "outputs": [
    {
     "name": "stdout",
     "output_type": "stream",
     "text": [
      "Number of triangles: 105461\n",
      "Calculating triangle done in 0.28702 seconds\n"
     ]
    }
   ],
   "source": [
    "graph = email_graph\n",
    "result = test_improved_triangle_count(graph)"
   ]
  },
  {
   "cell_type": "code",
   "execution_count": 60,
   "metadata": {},
   "outputs": [
    {
     "name": "stdout",
     "output_type": "stream",
     "text": [
      "Number of triangles: 667129\n",
      "Calculating triangle done in 2.84894 seconds\n"
     ]
    }
   ],
   "source": [
    "graph = amazon_graph\n",
    "result = test_improved_triangle_count(graph)"
   ]
  },
  {
   "cell_type": "code",
   "execution_count": 61,
   "metadata": {},
   "outputs": [
    {
     "data": {
      "text/plain": [
       "'graph = live_journal\\nresult = test_improved_triangle_count(graph)'"
      ]
     },
     "execution_count": 61,
     "metadata": {},
     "output_type": "execute_result"
    }
   ],
   "source": [
    "# Comment or uncomment this part if you're confident your computer can handle it\n",
    "\"\"\"graph = live_journal\n",
    "result = test_improved_triangle_count(graph)\"\"\"\n",
    "\n",
    "# Guess what? I'm not confident my i7 and 64GB of RAM can handle this"
   ]
  },
  {
   "cell_type": "markdown",
   "metadata": {},
   "source": [
    "### 2.2 Transitive ratio\n",
    "\n",
    "Use this program to compute the transitive ratio of the graphs. Remember that the transitive ratio is defined as \n",
    "$$ \\frac{3.number \\ of \\ triangles}{number \\ of \\ forks}$$\n",
    "and that the number of forks (or connected triples) of a node of degree $d$ is simply $\\frac{d(d-1)}{2}$."
   ]
  },
  {
   "cell_type": "code",
   "execution_count": 62,
   "metadata": {},
   "outputs": [],
   "source": [
    "def transitive_ratio(graph):\n",
    "    # Count the number of triangles in the graph\n",
    "    num_triangles = improved_triangle_counting(graph)\n",
    "    # Initialize a counter for the number of forks\n",
    "    num_forks = 0\n",
    "\n",
    "    # Iterate over all nodes in the graph\n",
    "    for node in graph:\n",
    "        # Get the degree (number of neighbors) of the current node\n",
    "        degree = len(graph[node])\n",
    "        # Calculate the number of forks (pairs of neighbors of the current node)\n",
    "        num_forks += (degree * (degree - 1)) / 2\n",
    "\n",
    "    # Calculate the transitive ratio, avoiding division by zero\n",
    "    transitive_ratio = (3 * num_triangles) / num_forks if num_forks != 0 else 0\n",
    "\n",
    "    # Return the computed transitive ratio\n",
    "    return transitive_ratio"
   ]
  },
  {
   "cell_type": "code",
   "execution_count": 63,
   "metadata": {},
   "outputs": [],
   "source": [
    "def test_transitive_ratio(graph):\n",
    "    start_time = time.time()\n",
    "    result = transitive_ratio(graph)\n",
    "    print(\"Transitive ratio:\", result)\n",
    "    print(f\"Calculating transitive ratio done in {time.time() - start_time:.5f} seconds\")"
   ]
  },
  {
   "cell_type": "code",
   "execution_count": 64,
   "metadata": {},
   "outputs": [
    {
     "name": "stdout",
     "output_type": "stream",
     "text": [
      "Transitive ratio: 0.0\n",
      "Calculating transitive ratio done in 0.00000 seconds\n"
     ]
    }
   ],
   "source": [
    "# Our test graph should have 0, since there is no triangles in this graph.\n",
    "graph = test_graph\n",
    "result = test_transitive_ratio(graph)"
   ]
  },
  {
   "cell_type": "code",
   "execution_count": 65,
   "metadata": {},
   "outputs": [
    {
     "name": "stdout",
     "output_type": "stream",
     "text": [
      "Transitive ratio: 0.014100487272460585\n",
      "Calculating transitive ratio done in 0.07403 seconds\n"
     ]
    }
   ],
   "source": [
    "graph = drosophila_graph\n",
    "result = test_transitive_ratio(graph)"
   ]
  },
  {
   "cell_type": "code",
   "execution_count": 66,
   "metadata": {},
   "outputs": [
    {
     "name": "stdout",
     "output_type": "stream",
     "text": [
      "Transitive ratio: 0.10231098130040235\n",
      "Calculating transitive ratio done in 0.21237 seconds\n"
     ]
    }
   ],
   "source": [
    "graph = email_graph\n",
    "result = test_transitive_ratio(graph)"
   ]
  },
  {
   "cell_type": "code",
   "execution_count": 67,
   "metadata": {},
   "outputs": [
    {
     "name": "stdout",
     "output_type": "stream",
     "text": [
      "Transitive ratio: 0.20522444916452579\n",
      "Calculating transitive ratio done in 2.91853 seconds\n"
     ]
    }
   ],
   "source": [
    "graph = amazon_graph\n",
    "result = test_transitive_ratio(graph)"
   ]
  },
  {
   "cell_type": "code",
   "execution_count": 68,
   "metadata": {},
   "outputs": [
    {
     "data": {
      "text/plain": [
       "'graph = live_journal\\nresult = test_transitive_ratio(graph)'"
      ]
     },
     "execution_count": 68,
     "metadata": {},
     "output_type": "execute_result"
    }
   ],
   "source": [
    "# Comment or uncomment this part if you're confident your computer can handle it\n",
    "'''graph = live_journal\n",
    "result = test_transitive_ratio(graph)'''\n",
    "\n",
    "# Yeah... even with my computer, this is taking too long"
   ]
  },
  {
   "cell_type": "markdown",
   "metadata": {},
   "source": [
    "## * Exercice 3: Recent Research\n",
    "\n",
    "\\* Star exercice is a little bit advanced but very enriching. The point of this exercice is a little introduction to research paper reading and implementing some simple algorithms. \n",
    "\n",
    "If you do not do this exercice at all and perfectly do the other 2 (Exercice 1 and 2) you will get a good grade. But doing this exercice even only a part of it will help you get the highest marks.\n",
    "\n",
    "**I do not want you to understand all the content of the papers. We are just implementing given algorithms. But of course understanding research papers can help you in your future career.**\n",
    "\n",
    "**Do not hesitate to contact me or email me if you need any help.**\n",
    "\n",
    "### 3.1  Recent research on triangle counting:\n",
    "\n",
    "Take a look at the recent article (published in [Alenex 2023](https://epubs.siam.org/doi/book/10.1137/1.9781611977561)\n",
    ") : https://epubs.siam.org/doi/pdf/10.1137/1.9781611977561.ch7 and implement the algorithms A++ and A+- and compare their running times on the 3 graphs"
   ]
  },
  {
   "cell_type": "code",
   "execution_count": 69,
   "metadata": {},
   "outputs": [],
   "source": [
    "# From page 79 of said article\n",
    "\n",
    "def a_plus_plus(graph):\n",
    "    triangles = set()\n",
    "\n",
    "    # Step 1: Initialize array B with False for each vertex v\n",
    "    B = {v: False for v in graph}\n",
    "\n",
    "    # Step 2: for each vertex w\n",
    "    for w in graph:\n",
    "        # Step 3: for each vertex v in neighbors of w (N - w)\n",
    "        for v in set(graph[w]) - {w}:\n",
    "            B[v] = True\n",
    "\n",
    "        # Step 5: for each vertex u in neighbors of w (N - w)\n",
    "        for u in set(graph[w]) - {w}:\n",
    "            # Step 6: for each vertex v in neighbors of u (N + u)\n",
    "            for v in set(graph[u]):\n",
    "                # Step 7: if B[v] and v > u\n",
    "                if B[v] and v > u:\n",
    "                    # Step 8: output triangle {u, v, w}\n",
    "                    triangle = tuple(sorted((u, v, w)))\n",
    "                    triangles.add(triangle)\n",
    "\n",
    "        # Step 9: for each vertex v in neighbors of w (N - w)\n",
    "        for v in set(graph[w]) - {w}:\n",
    "            B[v] = False\n",
    "\n",
    "    return list(triangles)"
   ]
  },
  {
   "cell_type": "code",
   "execution_count": 70,
   "metadata": {},
   "outputs": [],
   "source": [
    "def test_a_plus_plus(graph):\n",
    "    start_time = time.time()\n",
    "    result = a_plus_plus(graph)\n",
    "\n",
    "    # Display only the first 5 and last 5 triangles, or all if there are fewer than 10\n",
    "    if not result:\n",
    "        print(\"No triangle found\")\n",
    "    else:\n",
    "        print(\"Triangles:\")\n",
    "        for triangle in result[:5]:\n",
    "            print(f\"Triangle found: {triangle}\")\n",
    "\n",
    "        if len(result) > 5:\n",
    "            print(\"...\")\n",
    "            for triangle in result[-5:]:\n",
    "                print(f\"Triangle found: {triangle}\")\n",
    "    print(f\"Calculating triangle done in {time.time() - start_time:.5f} seconds\")\n",
    "    print(f\"Number of triangles: {len(result)}\")"
   ]
  },
  {
   "cell_type": "code",
   "execution_count": 71,
   "metadata": {},
   "outputs": [
    {
     "name": "stdout",
     "output_type": "stream",
     "text": [
      "No triangle found\n",
      "Calculating triangle done in 0.00000 seconds\n",
      "Number of triangles: 0\n"
     ]
    }
   ],
   "source": [
    "# like previously, it shouldn't find any triangles\n",
    "graph = test_graph\n",
    "result = test_a_plus_plus(graph)"
   ]
  },
  {
   "cell_type": "code",
   "execution_count": 72,
   "metadata": {},
   "outputs": [
    {
     "name": "stdout",
     "output_type": "stream",
     "text": [
      "Triangles:\n",
      "Triangle found: ('262', '279', '286')\n",
      "Triangle found: ('3891', '638', '91')\n",
      "Triangle found: ('266', '279', '3')\n",
      "Triangle found: ('2332', '2775', '357')\n",
      "Triangle found: ('276', '87', '900')\n",
      "...\n",
      "Triangle found: ('109', '24', '64')\n",
      "Triangle found: ('366', '88', '985')\n",
      "Triangle found: ('275', '284', '3')\n",
      "Triangle found: ('618', '637', '744')\n",
      "Triangle found: ('15', '536', '654')\n",
      "Calculating triangle done in 0.19886 seconds\n",
      "Number of triangles: 2179\n"
     ]
    }
   ],
   "source": [
    "graph = drosophila_graph\n",
    "result = test_a_plus_plus(graph)"
   ]
  },
  {
   "cell_type": "code",
   "execution_count": 73,
   "metadata": {},
   "outputs": [
    {
     "name": "stdout",
     "output_type": "stream",
     "text": [
      "Triangles:\n",
      "Triangle found: ('11', '504', '7')\n",
      "Triangle found: ('182', '295', '390')\n",
      "Triangle found: ('154', '183', '252')\n",
      "Triangle found: ('215', '248', '341')\n",
      "Triangle found: ('107', '173', '306')\n",
      "...\n",
      "Triangle found: ('163', '170', '82')\n",
      "Triangle found: ('142', '333', '493')\n",
      "Triangle found: ('158', '2', '4')\n",
      "Triangle found: ('129', '188', '473')\n",
      "Triangle found: ('407', '466', '856')\n",
      "Calculating triangle done in 0.58551 seconds\n",
      "Number of triangles: 105461\n"
     ]
    }
   ],
   "source": [
    "graph = email_graph\n",
    "result = test_a_plus_plus(graph)"
   ]
  },
  {
   "cell_type": "code",
   "execution_count": 74,
   "metadata": {},
   "outputs": [
    {
     "name": "stdout",
     "output_type": "stream",
     "text": [
      "Triangles:\n",
      "Triangle found: ('106029', '413045', '58011')\n",
      "Triangle found: ('218834', '24457', '545026')\n",
      "Triangle found: ('148755', '248442', '68225')\n",
      "Triangle found: ('126721', '194946', '99624')\n",
      "Triangle found: ('275865', '28036', '369975')\n",
      "...\n",
      "Triangle found: ('189303', '261029', '520909')\n",
      "Triangle found: ('176594', '355321', '459912')\n",
      "Triangle found: ('444677', '506410', '91788')\n",
      "Triangle found: ('194830', '370504', '92029')\n",
      "Triangle found: ('40637', '475628', '75297')\n",
      "Calculating triangle done in 7.98291 seconds\n",
      "Number of triangles: 667129\n"
     ]
    }
   ],
   "source": [
    "graph = amazon_graph\n",
    "result = test_a_plus_plus(graph)"
   ]
  },
  {
   "cell_type": "code",
   "execution_count": 75,
   "metadata": {},
   "outputs": [
    {
     "data": {
      "text/plain": [
       "'graph = live_journal\\nresult = test_a_plus_plus(graph)'"
      ]
     },
     "execution_count": 75,
     "metadata": {},
     "output_type": "execute_result"
    }
   ],
   "source": [
    "# Only uncomment this if you have a powerhouse of a computer\n",
    "\"\"\"graph = live_journal\n",
    "result = test_a_plus_plus(graph)\"\"\"\n",
    "\n",
    "# Trust me, I tried..."
   ]
  },
  {
   "cell_type": "code",
   "execution_count": 76,
   "metadata": {},
   "outputs": [],
   "source": [
    "# From page 79 of said article\n",
    "\n",
    "def a_plus_minus(graph):\n",
    "    triangles = set()  # Set to store the triangles found in the graph\n",
    "\n",
    "    B = {w: False for w in graph}  # Dictionary to keep track of visited nodes\n",
    "\n",
    "    for u in graph:  # Iterate over each node in the graph\n",
    "        for w in set(graph[u]):  # Set the adjacent nodes of u in B to True\n",
    "            B[w] = True\n",
    "\n",
    "        for v in set(graph[u]):  # Iterate over each adjacent node of u\n",
    "            for w in set(graph[v]):  # Iterate over each adjacent node of v\n",
    "                if B[w] and u < v and v < w:  # Check if triangle is not redundant\n",
    "                    triangle = tuple(sorted((u, v, w)))  # Sort vertices and create a tuple\n",
    "                    triangles.add(triangle)  # Add the triangle to the set\n",
    "\n",
    "        for w in set(graph[u]):  # Reset the visited nodes in B back to False\n",
    "            B[w] = False\n",
    "\n",
    "    return list(triangles)  # Return the list of triangles found in the graph"
   ]
  },
  {
   "cell_type": "code",
   "execution_count": 77,
   "metadata": {},
   "outputs": [],
   "source": [
    "def test_a_plus_minus(graph):\n",
    "    start_time = time.time()\n",
    "    result = a_plus_minus(graph)\n",
    "    \n",
    "    # Display the first 5 triangles and the last 5 (or all if less than 5)\n",
    "    if not result:\n",
    "        print(\"No triangle found\")\n",
    "    else:\n",
    "        print(\"Triangles:\")\n",
    "        for triangle in result[:5]:\n",
    "            print(f\"Triangle found: {triangle}\")\n",
    "            \n",
    "        if len(result) > 5:\n",
    "            print(\"...\")\n",
    "            for triangle in result[-5:]:\n",
    "                print(f\"Triangle found: {triangle}\")\n",
    "    \n",
    "    print(f\"Calculating triangles done in {time.time() - start_time:.5f} seconds\")\n",
    "    print(f\"Number of triangles: {len(result)}\")"
   ]
  },
  {
   "cell_type": "code",
   "execution_count": 78,
   "metadata": {},
   "outputs": [
    {
     "name": "stdout",
     "output_type": "stream",
     "text": [
      "No triangle found\n",
      "Calculating triangles done in 0.00000 seconds\n",
      "Number of triangles: 0\n"
     ]
    }
   ],
   "source": [
    "graph = test_graph\n",
    "result = test_a_plus_minus(graph)"
   ]
  },
  {
   "cell_type": "code",
   "execution_count": 79,
   "metadata": {},
   "outputs": [
    {
     "name": "stdout",
     "output_type": "stream",
     "text": [
      "Triangles:\n",
      "Triangle found: ('262', '279', '286')\n",
      "Triangle found: ('3891', '638', '91')\n",
      "Triangle found: ('266', '279', '3')\n",
      "Triangle found: ('2332', '2775', '357')\n",
      "Triangle found: ('276', '87', '900')\n",
      "...\n",
      "Triangle found: ('109', '24', '64')\n",
      "Triangle found: ('366', '88', '985')\n",
      "Triangle found: ('275', '284', '3')\n",
      "Triangle found: ('618', '637', '744')\n",
      "Triangle found: ('15', '536', '654')\n",
      "Calculating triangles done in 0.20682 seconds\n",
      "Number of triangles: 2179\n"
     ]
    }
   ],
   "source": [
    "graph = drosophila_graph\n",
    "result = test_a_plus_minus(graph)"
   ]
  },
  {
   "cell_type": "code",
   "execution_count": 80,
   "metadata": {},
   "outputs": [
    {
     "name": "stdout",
     "output_type": "stream",
     "text": [
      "Triangles:\n",
      "Triangle found: ('11', '504', '7')\n",
      "Triangle found: ('182', '295', '390')\n",
      "Triangle found: ('154', '183', '252')\n",
      "Triangle found: ('215', '248', '341')\n",
      "Triangle found: ('107', '173', '306')\n",
      "...\n",
      "Triangle found: ('163', '170', '82')\n",
      "Triangle found: ('142', '333', '493')\n",
      "Triangle found: ('158', '2', '4')\n",
      "Triangle found: ('129', '188', '473')\n",
      "Triangle found: ('407', '466', '856')\n",
      "Calculating triangles done in 0.48389 seconds\n",
      "Number of triangles: 105461\n"
     ]
    }
   ],
   "source": [
    "graph = email_graph\n",
    "result = test_a_plus_minus(graph)"
   ]
  },
  {
   "cell_type": "code",
   "execution_count": 81,
   "metadata": {},
   "outputs": [
    {
     "name": "stdout",
     "output_type": "stream",
     "text": [
      "Triangles:\n",
      "Triangle found: ('106029', '413045', '58011')\n",
      "Triangle found: ('218834', '24457', '545026')\n",
      "Triangle found: ('148755', '248442', '68225')\n",
      "Triangle found: ('126721', '194946', '99624')\n",
      "Triangle found: ('275865', '28036', '369975')\n",
      "...\n",
      "Triangle found: ('245614', '303374', '467057')\n",
      "Triangle found: ('176594', '355321', '459912')\n",
      "Triangle found: ('444677', '506410', '91788')\n",
      "Triangle found: ('194830', '370504', '92029')\n",
      "Triangle found: ('40637', '475628', '75297')\n",
      "Calculating triangles done in 7.08822 seconds\n",
      "Number of triangles: 667129\n"
     ]
    }
   ],
   "source": [
    "graph = amazon_graph\n",
    "result = test_a_plus_minus(graph)"
   ]
  },
  {
   "cell_type": "code",
   "execution_count": 82,
   "metadata": {},
   "outputs": [
    {
     "data": {
      "text/plain": [
       "'graph = live_journal\\nresult = test_a_plus_minus(graph)'"
      ]
     },
     "execution_count": 82,
     "metadata": {},
     "output_type": "execute_result"
    }
   ],
   "source": [
    "# Only uncomment this if you have a powerhouse of a computer\n",
    "\"\"\"graph = live_journal\n",
    "result = test_a_plus_minus(graph)\"\"\""
   ]
  },
  {
   "cell_type": "markdown",
   "metadata": {},
   "source": [
    "### 3.2  Recent research on Clustering Coefficient:\n",
    "\n",
    "Take a look at the recent article (published in [LATIN 2022](https://pakal.cs.cinvestav.mx/latin2022/)\n",
    ") : https://www.inf.ufpr.br/vignatti/v/papers/2022-latin.pdf and implement the algorithm of local clustering coefficient estimation with relative errors of $ \\epsilon = 1, 0.5, 0.1$ with probability $ p = 0.25$ and $\\delta = 0.8$"
   ]
  },
  {
   "cell_type": "code",
   "execution_count": 83,
   "metadata": {},
   "outputs": [],
   "source": [
    "# From paragraph 3.2 of the article above\n",
    "\n",
    "def localClusteringEstimation(G, epsilon, delta, p):\n",
    "    # Input: Graph G = {V, E} represented as a dictionary, parameters 0 < epsilon, delta, p < 1\n",
    "    # Output: Clustering coefficient estimation l(v) for each vertex v ∈ V such that l(v) ≥ sigma_v(p)\n",
    "    \n",
    "    # Calculate the number of samples\n",
    "    r = int((1/epsilon**2 * p) * (math.log(len(G) - 1) + 1) * (math.log(1/p) + math.log(1/delta)))\n",
    "    \n",
    "    # Initialize the clustering coefficient estimation dictionary\n",
    "    clustering_estimation = {}\n",
    "    \n",
    "    for i in range(r):\n",
    "        # Sample a vertex v from V\n",
    "        v = random.choice(list(G.keys()))\n",
    "        \n",
    "        # Sample a neighbor of v\n",
    "        neighbor = random.choice(G[v])\n",
    "        \n",
    "        # Update the clustering coefficient estimation for vertices v and its neighbor\n",
    "        if v not in clustering_estimation:\n",
    "            clustering_estimation[v] = 0\n",
    "        if neighbor not in clustering_estimation:\n",
    "            clustering_estimation[neighbor] = 0\n",
    "        \n",
    "        clustering_estimation[v] += 1\n",
    "        clustering_estimation[neighbor] += 1\n",
    "    \n",
    "    # Calculate the final clustering coefficient estimation for each vertex\n",
    "    for v in G.keys():\n",
    "        if v in clustering_estimation:\n",
    "            clustering_estimation[v] /= r\n",
    "    \n",
    "    return clustering_estimation"
   ]
  },
  {
   "cell_type": "code",
   "execution_count": 84,
   "metadata": {},
   "outputs": [],
   "source": [
    "def average_localClusteringEstimation(G, epsilon, delta, p):\n",
    "    # Input: Graph G = {V, E} represented as a dictionary, parameters 0 < epsilon, delta, p < 1\n",
    "    # Output: Average clustering coefficient estimation for the graph\n",
    "    \n",
    "    # Calculate the number of samples\n",
    "    r = int((1/epsilon**2 * p) * (math.log(len(G) - 1) + 1) * (math.log(1/p) + math.log(1/delta)))\n",
    "    \n",
    "    # Initialize the clustering coefficient estimation dictionary\n",
    "    clustering_estimation = {}\n",
    "    \n",
    "    for i in range(r):\n",
    "        # Sample a vertex v from V\n",
    "        v = random.choice(list(G.keys()))\n",
    "        \n",
    "        # Sample a neighbor of v\n",
    "        neighbor = random.choice(G[v])\n",
    "        \n",
    "        # Update the clustering coefficient estimation for vertices v and its neighbor\n",
    "        if v not in clustering_estimation:\n",
    "            clustering_estimation[v] = 0\n",
    "        if neighbor not in clustering_estimation:\n",
    "            clustering_estimation[neighbor] = 0\n",
    "        \n",
    "        clustering_estimation[v] += 1\n",
    "        clustering_estimation[neighbor] += 1\n",
    "    \n",
    "    # Calculate the final clustering coefficient estimation for each vertex\n",
    "    for v in G.keys():\n",
    "        if v in clustering_estimation:\n",
    "            clustering_estimation[v] /= r\n",
    "    \n",
    "    # Calculate the average clustering coefficient\n",
    "    average_clustering = sum(clustering_estimation.values()) / len(clustering_estimation)\n",
    "    \n",
    "    return average_clustering"
   ]
  },
  {
   "cell_type": "code",
   "execution_count": 85,
   "metadata": {},
   "outputs": [],
   "source": [
    "def test_localClusteringEstimation(G, epsilon, delta, p):\n",
    "    start_time = time.time()\n",
    "    result = localClusteringEstimation(G, epsilon, delta, p)\n",
    "    average_result = average_localClusteringEstimation(G, epsilon, delta, p)\n",
    "    print(\"Clustering coefficient estimation:\", result)\n",
    "    print(\"Average clustering coefficient estimation:\", average_result)\n",
    "    print(f\"Calculating clustering coefficient estimation done in {time.time() - start_time:.5f} seconds\")"
   ]
  },
  {
   "cell_type": "code",
   "execution_count": 86,
   "metadata": {},
   "outputs": [
    {
     "name": "stdout",
     "output_type": "stream",
     "text": [
      "Clustering coefficient estimation: {'3': 0.4166666666666667, '1': 0.08333333333333333, '7': 0.25, '9': 0.08333333333333333, '4': 0.25, '2': 0.5, '5': 0.25, '6': 0.16666666666666666}\n",
      "Average clustering coefficient estimation: 0.2857142857142857\n",
      "Calculating clustering coefficient estimation done in 0.00094 seconds\n"
     ]
    }
   ],
   "source": [
    "result = test_localClusteringEstimation(test_graph, 0.25, 0.8, 0.1)"
   ]
  },
  {
   "cell_type": "code",
   "execution_count": 87,
   "metadata": {},
   "outputs": [
    {
     "name": "stdout",
     "output_type": "stream",
     "text": [
      "Clustering coefficient estimation: {'5': 0.13636363636363635, '2': 0.4090909090909091, '6': 0.13636363636363635, '3': 0.2727272727272727, '7': 0.36363636363636365, '9': 0.18181818181818182, '1': 0.2727272727272727, '8': 0.13636363636363635, '4': 0.09090909090909091}\n",
      "Average clustering coefficient estimation: 0.2222222222222222\n",
      "Calculating clustering coefficient estimation done in 0.00101 seconds\n"
     ]
    }
   ],
   "source": [
    "result = test_localClusteringEstimation(test_graph, 0.25, 0.8, 0.5)"
   ]
  },
  {
   "cell_type": "code",
   "execution_count": 88,
   "metadata": {},
   "outputs": [
    {
     "name": "stdout",
     "output_type": "stream",
     "text": [
      "Clustering coefficient estimation: {'9': 0.2, '7': 0.4, '2': 0.5, '1': 0.1, '8': 0.1, '5': 0.2, '6': 0.1, '3': 0.2, '4': 0.2}\n",
      "Average clustering coefficient estimation: 0.2857142857142857\n",
      "Calculating clustering coefficient estimation done in 0.00100 seconds\n"
     ]
    }
   ],
   "source": [
    "result = test_localClusteringEstimation(test_graph, 0.25, 0.8, 1)"
   ]
  },
  {
   "cell_type": "code",
   "execution_count": 89,
   "metadata": {},
   "outputs": [
    {
     "name": "stdout",
     "output_type": "stream",
     "text": [
      "Clustering coefficient estimation: {'4891': 0.02564102564102564, '2160': 0.02564102564102564, '4552': 0.02564102564102564, '3101': 0.02564102564102564, '5604': 0.02564102564102564, '1082': 0.02564102564102564, '5041': 0.02564102564102564, '801': 0.02564102564102564, '1713': 0.02564102564102564, '917': 0.02564102564102564, '7191': 0.05128205128205128, '3580': 0.02564102564102564, '1814': 0.02564102564102564, '1545': 0.02564102564102564, '3750': 0.02564102564102564, '71': 0.02564102564102564, '4527': 0.02564102564102564, '4526': 0.02564102564102564, '6386': 0.02564102564102564, '633': 0.02564102564102564, '1390': 0.02564102564102564, '1396': 0.02564102564102564, '2866': 0.02564102564102564, '209': 0.02564102564102564, '5615': 0.02564102564102564, '635': 0.02564102564102564, '6659': 0.02564102564102564, '3085': 0.02564102564102564, '960': 0.02564102564102564, '965': 0.02564102564102564, '993': 0.02564102564102564, '1061': 0.02564102564102564, '2573': 0.02564102564102564, '2506': 0.02564102564102564, '3804': 0.02564102564102564, '80': 0.02564102564102564, '5236': 0.02564102564102564, '1036': 0.02564102564102564, '1608': 0.02564102564102564, '513': 0.02564102564102564, '2455': 0.02564102564102564, '440': 0.02564102564102564, '456': 0.02564102564102564, '2250': 0.02564102564102564, '4731': 0.02564102564102564, '5407': 0.02564102564102564, '1119': 0.02564102564102564, '1565': 0.02564102564102564, '5967': 0.02564102564102564, '5521': 0.02564102564102564, '1176': 0.02564102564102564, '1170': 0.02564102564102564, '7062': 0.02564102564102564, '3807': 0.02564102564102564, '3985': 0.02564102564102564, '3986': 0.02564102564102564, '7149': 0.02564102564102564, '140': 0.02564102564102564, '2127': 0.02564102564102564, '1429': 0.02564102564102564, '361': 0.02564102564102564, '1660': 0.02564102564102564, '980': 0.05128205128205128, '3760': 0.02564102564102564, '923': 0.02564102564102564, '1657': 0.02564102564102564, '7030': 0.02564102564102564, '3854': 0.02564102564102564, '6087': 0.02564102564102564, '231': 0.02564102564102564, '4671': 0.02564102564102564, '2397': 0.02564102564102564, '6074': 0.02564102564102564, '2657': 0.02564102564102564, '2695': 0.02564102564102564, '1356': 0.02564102564102564}\n",
      "Average clustering coefficient estimation: 0.025641025641025602\n",
      "Calculating clustering coefficient estimation done in 0.00804 seconds\n"
     ]
    }
   ],
   "source": [
    "result = test_localClusteringEstimation(drosophila_graph, 0.25, 0.8, 0.1)"
   ]
  },
  {
   "cell_type": "code",
   "execution_count": 90,
   "metadata": {},
   "outputs": [
    {
     "name": "stdout",
     "output_type": "stream",
     "text": [
      "Clustering coefficient estimation: {'5588': 0.013888888888888888, '1956': 0.013888888888888888, '3578': 0.013888888888888888, '623': 0.013888888888888888, '4803': 0.013888888888888888, '3361': 0.013888888888888888, '3081': 0.013888888888888888, '1946': 0.013888888888888888, '6755': 0.013888888888888888, '489': 0.013888888888888888, '6895': 0.013888888888888888, '1907': 0.013888888888888888, '6101': 0.013888888888888888, '319': 0.013888888888888888, '2235': 0.013888888888888888, '3712': 0.013888888888888888, '4019': 0.013888888888888888, '4021': 0.013888888888888888, '2693': 0.013888888888888888, '1356': 0.013888888888888888, '1994': 0.013888888888888888, '1995': 0.013888888888888888, '5412': 0.013888888888888888, '3604': 0.013888888888888888, '6379': 0.013888888888888888, '6378': 0.013888888888888888, '3907': 0.027777777777777776, '2836': 0.013888888888888888, '3294': 0.013888888888888888, '1097': 0.013888888888888888, '123': 0.013888888888888888, '2263': 0.013888888888888888, '994': 0.013888888888888888, '2141': 0.013888888888888888, '4901': 0.013888888888888888, '274': 0.013888888888888888, '414': 0.013888888888888888, '243': 0.013888888888888888, '1833': 0.013888888888888888, '337': 0.013888888888888888, '446': 0.013888888888888888, '2172': 0.013888888888888888, '2987': 0.013888888888888888, '854': 0.013888888888888888, '3409': 0.013888888888888888, '1694': 0.013888888888888888, '6025': 0.013888888888888888, '6026': 0.013888888888888888, '5593': 0.013888888888888888, '449': 0.013888888888888888, '2806': 0.013888888888888888, '18': 0.013888888888888888, '1209': 0.013888888888888888, '4543': 0.013888888888888888, '6024': 0.013888888888888888, '786': 0.013888888888888888, '2482': 0.013888888888888888, '116': 0.013888888888888888, '6865': 0.013888888888888888, '6866': 0.013888888888888888, '640': 0.027777777777777776, '3434': 0.013888888888888888, '5928': 0.013888888888888888, '2168': 0.013888888888888888, '4979': 0.013888888888888888, '2031': 0.013888888888888888, '4623': 0.013888888888888888, '5041': 0.013888888888888888, '133': 0.013888888888888888, '55': 0.013888888888888888, '2390': 0.013888888888888888, '39': 0.013888888888888888, '1593': 0.013888888888888888, '3428': 0.013888888888888888, '5433': 0.013888888888888888, '454': 0.013888888888888888, '3182': 0.013888888888888888, '4187': 0.013888888888888888, '443': 0.013888888888888888, '4726': 0.013888888888888888, '1483': 0.013888888888888888, '2565': 0.013888888888888888, '692': 0.013888888888888888, '6095': 0.013888888888888888, '1015': 0.013888888888888888, '6287': 0.013888888888888888, '3928': 0.013888888888888888, '234': 0.013888888888888888, '7068': 0.013888888888888888, '2462': 0.013888888888888888, '2885': 0.013888888888888888, '595': 0.013888888888888888, '6266': 0.013888888888888888, '1766': 0.013888888888888888, '3474': 0.013888888888888888, '303': 0.013888888888888888, '4792': 0.013888888888888888, '388': 0.013888888888888888, '35': 0.013888888888888888, '3363': 0.013888888888888888, '3563': 0.013888888888888888, '2791': 0.013888888888888888, '5904': 0.013888888888888888, '1953': 0.013888888888888888, '5586': 0.013888888888888888, '577': 0.027777777777777776, '3582': 0.013888888888888888, '3581': 0.013888888888888888, '6960': 0.013888888888888888, '6959': 0.013888888888888888, '887': 0.013888888888888888, '1169': 0.013888888888888888, '7073': 0.013888888888888888, '2423': 0.013888888888888888, '5274': 0.013888888888888888, '128': 0.013888888888888888, '6540': 0.013888888888888888, '1813': 0.013888888888888888, '5431': 0.013888888888888888, '2320': 0.013888888888888888, '6029': 0.013888888888888888, '2697': 0.013888888888888888, '1532': 0.013888888888888888, '1526': 0.013888888888888888, '4365': 0.013888888888888888, '212': 0.013888888888888888, '4030': 0.013888888888888888, '2471': 0.013888888888888888, '3444': 0.013888888888888888, '1070': 0.013888888888888888, '2084': 0.013888888888888888, '480': 0.013888888888888888, '367': 0.013888888888888888, '376': 0.013888888888888888, '4395': 0.013888888888888888, '944': 0.013888888888888888, '5685': 0.013888888888888888, '1147': 0.013888888888888888, '7227': 0.013888888888888888, '6133': 0.013888888888888888, '73': 0.013888888888888888}\n",
      "Average clustering coefficient estimation: 0.01428571428571425\n",
      "Calculating clustering coefficient estimation done in 0.01059 seconds\n"
     ]
    }
   ],
   "source": [
    "result = test_localClusteringEstimation(drosophila_graph, 0.25, 0.8, 0.5)"
   ]
  },
  {
   "cell_type": "code",
   "execution_count": 91,
   "metadata": {},
   "outputs": [
    {
     "name": "stdout",
     "output_type": "stream",
     "text": [
      "Clustering coefficient estimation: {'1977': 0.02857142857142857, '2391': 0.02857142857142857, '1514': 0.02857142857142857, '1507': 0.02857142857142857, '3740': 0.02857142857142857, '2072': 0.02857142857142857, '3984': 0.02857142857142857, '199': 0.02857142857142857, '6357': 0.02857142857142857, '1274': 0.02857142857142857, '1224': 0.02857142857142857, '3459': 0.02857142857142857, '4914': 0.02857142857142857, '5067': 0.02857142857142857, '5897': 0.02857142857142857, '164': 0.02857142857142857, '7014': 0.02857142857142857, '3404': 0.02857142857142857, '4876': 0.02857142857142857, '2880': 0.02857142857142857, '3944': 0.05714285714285714, '133': 0.02857142857142857, '3364': 0.02857142857142857, '1006': 0.02857142857142857, '5474': 0.02857142857142857, '1281': 0.02857142857142857, '5301': 0.02857142857142857, '1715': 0.02857142857142857, '861': 0.02857142857142857, '877': 0.02857142857142857, '824': 0.02857142857142857, '794': 0.02857142857142857, '4389': 0.02857142857142857, '104': 0.02857142857142857, '3287': 0.02857142857142857, '581': 0.02857142857142857, '299': 0.02857142857142857, '2213': 0.02857142857142857, '2945': 0.02857142857142857, '2318': 0.02857142857142857, '3644': 0.02857142857142857, '1121': 0.02857142857142857, '954': 0.02857142857142857, '40': 0.02857142857142857, '4956': 0.02857142857142857, '1445': 0.02857142857142857, '296': 0.02857142857142857, '942': 0.02857142857142857, '2985': 0.02857142857142857, '854': 0.02857142857142857, '6677': 0.02857142857142857, '5783': 0.02857142857142857, '599': 0.02857142857142857, '542': 0.02857142857142857, '2097': 0.02857142857142857, '201': 0.02857142857142857, '3348': 0.02857142857142857, '3346': 0.02857142857142857, '6936': 0.02857142857142857, '319': 0.02857142857142857, '1433': 0.02857142857142857, '1496': 0.02857142857142857, '6617': 0.02857142857142857, '2380': 0.02857142857142857, '161': 0.02857142857142857, '602': 0.02857142857142857, '1325': 0.02857142857142857, '4851': 0.02857142857142857, '139': 0.02857142857142857}\n",
      "Average clustering coefficient estimation: 0.028985507246376763\n",
      "Calculating clustering coefficient estimation done in 0.00652 seconds\n"
     ]
    }
   ],
   "source": [
    "result = test_localClusteringEstimation(drosophila_graph, 0.25, 0.8, 1)"
   ]
  },
  {
   "cell_type": "code",
   "execution_count": 92,
   "metadata": {},
   "outputs": [
    {
     "name": "stdout",
     "output_type": "stream",
     "text": [
      "Clustering coefficient estimation: {'234': 0.03225806451612903, '82': 0.06451612903225806, '701': 0.03225806451612903, '462': 0.03225806451612903, '591': 0.03225806451612903, '142': 0.03225806451612903, '661': 0.03225806451612903, '211': 0.03225806451612903, '293': 0.03225806451612903, '856': 0.03225806451612903, '735': 0.03225806451612903, '322': 0.03225806451612903, '673': 0.03225806451612903, '495': 0.03225806451612903, '875': 0.03225806451612903, '170': 0.06451612903225806, '589': 0.03225806451612903, '459': 0.03225806451612903, '943': 0.03225806451612903, '295': 0.03225806451612903, '855': 0.03225806451612903, '299': 0.03225806451612903, '197': 0.03225806451612903, '908': 0.03225806451612903, '400': 0.03225806451612903, '105': 0.03225806451612903, '144': 0.03225806451612903, '434': 0.03225806451612903, '863': 0.03225806451612903, '57': 0.06451612903225806, '940': 0.03225806451612903, '93': 0.03225806451612903, '188': 0.03225806451612903, '42': 0.03225806451612903, '315': 0.03225806451612903, '519': 0.03225806451612903, '294': 0.03225806451612903, '291': 0.03225806451612903, '474': 0.03225806451612903, '932': 0.03225806451612903, '898': 0.06451612903225806, '628': 0.03225806451612903, '181': 0.03225806451612903, '497': 0.03225806451612903, '153': 0.03225806451612903, '283': 0.03225806451612903, '719': 0.03225806451612903, '393': 0.03225806451612903, '407': 0.03225806451612903, '499': 0.03225806451612903, '533': 0.03225806451612903, '19': 0.03225806451612903, '849': 0.03225806451612903, '164': 0.03225806451612903, '579': 0.03225806451612903, '487': 0.03225806451612903, '332': 0.03225806451612903, '540': 0.03225806451612903}\n",
      "Average clustering coefficient estimation: 0.033898305084745735\n",
      "Calculating clustering coefficient estimation done in 0.00101 seconds\n"
     ]
    }
   ],
   "source": [
    "result = test_localClusteringEstimation(email_graph, 0.25, 0.8, 0.1)"
   ]
  },
  {
   "cell_type": "code",
   "execution_count": 93,
   "metadata": {},
   "outputs": [
    {
     "name": "stdout",
     "output_type": "stream",
     "text": [
      "Clustering coefficient estimation: {'692': 0.017543859649122806, '231': 0.017543859649122806, '966': 0.017543859649122806, '21': 0.017543859649122806, '103': 0.017543859649122806, '53': 0.017543859649122806, '24': 0.017543859649122806, '23': 0.017543859649122806, '221': 0.017543859649122806, '549': 0.017543859649122806, '975': 0.017543859649122806, '971': 0.017543859649122806, '896': 0.017543859649122806, '107': 0.03508771929824561, '265': 0.017543859649122806, '529': 0.03508771929824561, '313': 0.017543859649122806, '17': 0.017543859649122806, '159': 0.017543859649122806, '215': 0.017543859649122806, '410': 0.03508771929824561, '203': 0.03508771929824561, '277': 0.017543859649122806, '360': 0.03508771929824561, '658': 0.03508771929824561, '466': 0.017543859649122806, '506': 0.017543859649122806, '642': 0.017543859649122806, '513': 0.017543859649122806, '525': 0.017543859649122806, '920': 0.017543859649122806, '230': 0.017543859649122806, '821': 0.017543859649122806, '160': 0.03508771929824561, '533': 0.017543859649122806, '269': 0.03508771929824561, '880': 0.017543859649122806, '815': 0.017543859649122806, '718': 0.017543859649122806, '5': 0.03508771929824561, '258': 0.017543859649122806, '760': 0.017543859649122806, '546': 0.017543859649122806, '354': 0.03508771929824561, '545': 0.017543859649122806, '785': 0.017543859649122806, '944': 0.017543859649122806, '748': 0.017543859649122806, '3': 0.017543859649122806, '59': 0.017543859649122806, '240': 0.017543859649122806, '209': 0.017543859649122806, '236': 0.017543859649122806, '242': 0.017543859649122806, '367': 0.017543859649122806, '245': 0.03508771929824561, '25': 0.017543859649122806, '459': 0.017543859649122806, '940': 0.017543859649122806, '128': 0.017543859649122806, '116': 0.03508771929824561, '64': 0.017543859649122806, '142': 0.017543859649122806, '211': 0.017543859649122806, '197': 0.017543859649122806, '936': 0.017543859649122806, '232': 0.017543859649122806, '223': 0.017543859649122806, '183': 0.017543859649122806, '281': 0.017543859649122806, '685': 0.017543859649122806, '740': 0.017543859649122806, '252': 0.017543859649122806, '341': 0.017543859649122806, '389': 0.017543859649122806, '612': 0.017543859649122806, '147': 0.017543859649122806, '272': 0.017543859649122806, '820': 0.017543859649122806, '154': 0.017543859649122806, '73': 0.017543859649122806, '248': 0.017543859649122806, '631': 0.07017543859649122, '166': 0.017543859649122806, '11': 0.05263157894736842, '213': 0.017543859649122806, '278': 0.017543859649122806, '214': 0.017543859649122806, '201': 0.017543859649122806, '259': 0.017543859649122806, '127': 0.017543859649122806, '74': 0.017543859649122806, '121': 0.017543859649122806, '169': 0.017543859649122806, '437': 0.017543859649122806, '195': 0.017543859649122806, '412': 0.017543859649122806}\n",
      "Average clustering coefficient estimation: 0.018867924528301928\n",
      "Calculating clustering coefficient estimation done in 0.00200 seconds\n"
     ]
    }
   ],
   "source": [
    "result = test_localClusteringEstimation(email_graph, 0.25, 0.8, 0.5)"
   ]
  },
  {
   "cell_type": "code",
   "execution_count": 94,
   "metadata": {},
   "outputs": [
    {
     "name": "stdout",
     "output_type": "stream",
     "text": [
      "Clustering coefficient estimation: {'480': 0.03571428571428571, '121': 0.03571428571428571, '46': 0.03571428571428571, '114': 0.03571428571428571, '292': 0.03571428571428571, '278': 0.03571428571428571, '247': 0.03571428571428571, '246': 0.03571428571428571, '168': 0.03571428571428571, '14': 0.03571428571428571, '425': 0.03571428571428571, '621': 0.03571428571428571, '365': 0.03571428571428571, '303': 0.03571428571428571, '779': 0.03571428571428571, '820': 0.03571428571428571, '225': 0.07142857142857142, '17': 0.03571428571428571, '585': 0.03571428571428571, '84': 0.03571428571428571, '473': 0.03571428571428571, '166': 0.03571428571428571, '74': 0.03571428571428571, '331': 0.03571428571428571, '552': 0.03571428571428571, '698': 0.10714285714285714, '797': 0.07142857142857142, '314': 0.03571428571428571, '360': 0.03571428571428571, '569': 0.03571428571428571, '993': 0.03571428571428571, '408': 0.03571428571428571, '107': 0.07142857142857142, '932': 0.03571428571428571, '174': 0.03571428571428571, '395': 0.03571428571428571, '78': 0.03571428571428571, '340': 0.03571428571428571, '969': 0.03571428571428571, '509': 0.03571428571428571, '669': 0.03571428571428571, '930': 0.03571428571428571, '382': 0.03571428571428571, '295': 0.03571428571428571, '667': 0.03571428571428571, '69': 0.03571428571428571, '400': 0.03571428571428571, '697': 0.07142857142857142, '775': 0.03571428571428571, '560': 0.03571428571428571}\n",
      "Average clustering coefficient estimation: 0.03703703703703707\n",
      "Calculating clustering coefficient estimation done in 0.00096 seconds\n"
     ]
    }
   ],
   "source": [
    "result = test_localClusteringEstimation(email_graph, 0.25, 0.8, 1)"
   ]
  },
  {
   "cell_type": "code",
   "execution_count": 95,
   "metadata": {},
   "outputs": [
    {
     "name": "stdout",
     "output_type": "stream",
     "text": [
      "Clustering coefficient estimation: {'14032': 0.01818181818181818, '350472': 0.01818181818181818, '366959': 0.01818181818181818, '468947': 0.01818181818181818, '519838': 0.01818181818181818, '326074': 0.01818181818181818, '516591': 0.01818181818181818, '486712': 0.01818181818181818, '219981': 0.01818181818181818, '460151': 0.01818181818181818, '97020': 0.01818181818181818, '215140': 0.01818181818181818, '319703': 0.01818181818181818, '223502': 0.01818181818181818, '7057': 0.01818181818181818, '125158': 0.01818181818181818, '403376': 0.01818181818181818, '144543': 0.01818181818181818, '268666': 0.01818181818181818, '368765': 0.01818181818181818, '282830': 0.01818181818181818, '518544': 0.01818181818181818, '218533': 0.01818181818181818, '229451': 0.01818181818181818, '66018': 0.01818181818181818, '18106': 0.01818181818181818, '317374': 0.01818181818181818, '84014': 0.01818181818181818, '242314': 0.01818181818181818, '82239': 0.01818181818181818, '126169': 0.01818181818181818, '285036': 0.01818181818181818, '65363': 0.01818181818181818, '362486': 0.01818181818181818, '209936': 0.01818181818181818, '484739': 0.01818181818181818, '388457': 0.01818181818181818, '524250': 0.01818181818181818, '100180': 0.01818181818181818, '292086': 0.01818181818181818, '139368': 0.01818181818181818, '20124': 0.01818181818181818, '227177': 0.01818181818181818, '357129': 0.01818181818181818, '517681': 0.01818181818181818, '280230': 0.01818181818181818, '105925': 0.01818181818181818, '225167': 0.01818181818181818, '175470': 0.01818181818181818, '97395': 0.01818181818181818, '563': 0.01818181818181818, '212197': 0.01818181818181818, '530847': 0.01818181818181818, '328593': 0.01818181818181818, '433871': 0.01818181818181818, '94011': 0.01818181818181818, '354505': 0.01818181818181818, '548323': 0.01818181818181818, '361755': 0.01818181818181818, '345055': 0.01818181818181818, '14495': 0.01818181818181818, '385069': 0.01818181818181818, '347756': 0.01818181818181818, '225580': 0.01818181818181818, '150934': 0.01818181818181818, '503018': 0.01818181818181818, '374524': 0.01818181818181818, '18283': 0.01818181818181818, '440996': 0.01818181818181818, '455938': 0.01818181818181818, '237783': 0.01818181818181818, '190782': 0.01818181818181818, '388342': 0.01818181818181818, '397777': 0.01818181818181818, '193276': 0.01818181818181818, '429020': 0.01818181818181818, '235553': 0.01818181818181818, '42948': 0.01818181818181818, '357917': 0.01818181818181818, '247554': 0.01818181818181818, '84465': 0.01818181818181818, '184787': 0.01818181818181818, '71242': 0.01818181818181818, '95340': 0.01818181818181818, '193847': 0.01818181818181818, '64072': 0.01818181818181818, '87979': 0.01818181818181818, '197683': 0.01818181818181818, '198369': 0.01818181818181818, '36703': 0.01818181818181818, '124012': 0.01818181818181818, '518957': 0.01818181818181818, '246558': 0.01818181818181818, '39274': 0.01818181818181818, '219225': 0.01818181818181818, '532082': 0.01818181818181818, '449271': 0.01818181818181818, '323681': 0.01818181818181818, '110478': 0.01818181818181818, '517372': 0.01818181818181818, '451941': 0.01818181818181818, '462902': 0.01818181818181818, '406063': 0.01818181818181818, '277326': 0.01818181818181818, '453504': 0.01818181818181818, '306190': 0.01818181818181818, '493080': 0.01818181818181818, '325912': 0.01818181818181818, '527307': 0.01818181818181818, '493476': 0.01818181818181818}\n",
      "Average clustering coefficient estimation: 0.018181818181818132\n",
      "Calculating clustering coefficient estimation done in 1.67061 seconds\n"
     ]
    }
   ],
   "source": [
    "result = test_localClusteringEstimation(amazon_graph, 0.25, 0.8, 0.1)"
   ]
  },
  {
   "cell_type": "code",
   "execution_count": 96,
   "metadata": {},
   "outputs": [
    {
     "name": "stdout",
     "output_type": "stream",
     "text": [
      "Clustering coefficient estimation: {'97619': 0.01, '79492': 0.01, '244455': 0.01, '25501': 0.01, '424527': 0.01, '353774': 0.01, '493412': 0.01, '397794': 0.01, '375651': 0.01, '115007': 0.01, '434078': 0.01, '223283': 0.01, '125958': 0.01, '91117': 0.01, '356358': 0.01, '165374': 0.01, '2138': 0.01, '363935': 0.01, '441686': 0.01, '64376': 0.01, '388304': 0.01, '472511': 0.01, '472077': 0.01, '31830': 0.01, '374240': 0.01, '262672': 0.01, '125615': 0.01, '91085': 0.02, '324468': 0.01, '248670': 0.01, '485866': 0.01, '317043': 0.01, '464916': 0.01, '522552': 0.01, '231349': 0.01, '380016': 0.01, '40658': 0.01, '392523': 0.01, '337808': 0.01, '167441': 0.01, '371874': 0.01, '206689': 0.01, '234028': 0.01, '169464': 0.01, '547043': 0.01, '115102': 0.01, '149109': 0.01, '490920': 0.01, '406522': 0.01, '75793': 0.01, '291616': 0.01, '302644': 0.01, '285288': 0.01, '47587': 0.01, '474111': 0.01, '476677': 0.01, '104863': 0.01, '427260': 0.01, '220080': 0.01, '527450': 0.01, '262440': 0.01, '464758': 0.01, '540618': 0.01, '307571': 0.01, '400296': 0.01, '544190': 0.01, '307424': 0.01, '75329': 0.01, '410925': 0.01, '195384': 0.01, '522684': 0.01, '308470': 0.01, '468249': 0.01, '293929': 0.01, '419796': 0.01, '232747': 0.01, '246291': 0.01, '153113': 0.01, '328512': 0.01, '540942': 0.01, '359635': 0.01, '229987': 0.01, '411993': 0.01, '459790': 0.01, '335234': 0.01, '392604': 0.01, '529543': 0.01, '536456': 0.01, '54458': 0.01, '8635': 0.01, '330720': 0.01, '84464': 0.01, '109509': 0.01, '420265': 0.01, '117721': 0.01, '461660': 0.01, '446698': 0.01, '53743': 0.01, '285203': 0.01, '94694': 0.01, '32745': 0.01, '504822': 0.01, '369962': 0.01, '457102': 0.01, '46621': 0.01, '501579': 0.01, '412655': 0.01, '75234': 0.01, '541219': 0.01, '101047': 0.01, '239698': 0.01, '223124': 0.01, '480640': 0.01, '385981': 0.01, '36050': 0.01, '104021': 0.01, '229546': 0.01, '537121': 0.01, '535433': 0.01, '333845': 0.01, '445911': 0.01, '43951': 0.01, '3122': 0.01, '504901': 0.01, '14311': 0.01, '375976': 0.01, '422796': 0.01, '203345': 0.01, '294589': 0.01, '87060': 0.01, '445862': 0.01, '296647': 0.01, '12894': 0.01, '131741': 0.01, '451812': 0.01, '291910': 0.01, '547943': 0.01, '408705': 0.01, '412921': 0.01, '538004': 0.01, '131067': 0.01, '37884': 0.01, '468445': 0.01, '374485': 0.01, '93839': 0.01, '3580': 0.01, '477827': 0.01, '323805': 0.01, '544390': 0.01, '361749': 0.01, '89109': 0.01, '527446': 0.01, '264701': 0.01, '361802': 0.01, '32089': 0.01, '84871': 0.01, '33442': 0.01, '13504': 0.01, '20304': 0.01, '266630': 0.01, '401695': 0.01, '262821': 0.01, '431947': 0.01, '128537': 0.01, '103877': 0.01, '45103': 0.01, '390549': 0.01, '175276': 0.01, '219279': 0.01, '544378': 0.01, '85371': 0.01, '531860': 0.01, '347541': 0.01, '371566': 0.01, '50736': 0.01, '28907': 0.01, '512395': 0.01, '55352': 0.01, '130790': 0.01, '513113': 0.01, '436047': 0.01, '170223': 0.01, '222572': 0.01, '199732': 0.01, '86138': 0.01, '412382': 0.01, '19615': 0.01, '263643': 0.01, '472514': 0.01, '75760': 0.01, '326599': 0.01, '47296': 0.01, '425338': 0.01, '520553': 0.01, '404182': 0.01, '53509': 0.01, '526567': 0.01, '204335': 0.01, '290575': 0.01}\n",
      "Average clustering coefficient estimation: 0.010000000000000007\n",
      "Calculating clustering coefficient estimation done in 2.71942 seconds\n"
     ]
    }
   ],
   "source": [
    "result = test_localClusteringEstimation(amazon_graph, 0.25, 0.8, 0.5)"
   ]
  },
  {
   "cell_type": "code",
   "execution_count": 97,
   "metadata": {},
   "outputs": [
    {
     "name": "stdout",
     "output_type": "stream",
     "text": [
      "Clustering coefficient estimation: {'360967': 0.020833333333333332, '253074': 0.020833333333333332, '102758': 0.020833333333333332, '24483': 0.020833333333333332, '98456': 0.020833333333333332, '38254': 0.020833333333333332, '410835': 0.020833333333333332, '402227': 0.020833333333333332, '91859': 0.020833333333333332, '44623': 0.020833333333333332, '483813': 0.020833333333333332, '18071': 0.020833333333333332, '164035': 0.020833333333333332, '395500': 0.020833333333333332, '540437': 0.020833333333333332, '450693': 0.020833333333333332, '43207': 0.020833333333333332, '362778': 0.020833333333333332, '541278': 0.020833333333333332, '45828': 0.020833333333333332, '508858': 0.020833333333333332, '215404': 0.020833333333333332, '380386': 0.020833333333333332, '424539': 0.020833333333333332, '368726': 0.020833333333333332, '241437': 0.020833333333333332, '411677': 0.020833333333333332, '42360': 0.020833333333333332, '165666': 0.020833333333333332, '490892': 0.020833333333333332, '535188': 0.020833333333333332, '10489': 0.020833333333333332, '281694': 0.020833333333333332, '196699': 0.020833333333333332, '507825': 0.020833333333333332, '241603': 0.020833333333333332, '501331': 0.020833333333333332, '452517': 0.020833333333333332, '164155': 0.020833333333333332, '204360': 0.020833333333333332, '265744': 0.020833333333333332, '471642': 0.020833333333333332, '183042': 0.020833333333333332, '382316': 0.020833333333333332, '367090': 0.020833333333333332, '539907': 0.020833333333333332, '171893': 0.020833333333333332, '78552': 0.020833333333333332, '530095': 0.020833333333333332, '37714': 0.020833333333333332, '506191': 0.020833333333333332, '358000': 0.020833333333333332, '49102': 0.020833333333333332, '228108': 0.020833333333333332, '383161': 0.020833333333333332, '489053': 0.020833333333333332, '268511': 0.020833333333333332, '206944': 0.020833333333333332, '503259': 0.020833333333333332, '445165': 0.020833333333333332, '525188': 0.020833333333333332, '34717': 0.020833333333333332, '475853': 0.020833333333333332, '290607': 0.020833333333333332, '153867': 0.020833333333333332, '336056': 0.020833333333333332, '47012': 0.020833333333333332, '291016': 0.020833333333333332, '249350': 0.020833333333333332, '538643': 0.020833333333333332, '495272': 0.020833333333333332, '381885': 0.020833333333333332, '312794': 0.020833333333333332, '462186': 0.020833333333333332, '494571': 0.020833333333333332, '390003': 0.020833333333333332, '470818': 0.020833333333333332, '24257': 0.020833333333333332, '52832': 0.020833333333333332, '273174': 0.020833333333333332, '9999': 0.020833333333333332, '485618': 0.020833333333333332, '514307': 0.020833333333333332, '340245': 0.020833333333333332, '12527': 0.020833333333333332, '144779': 0.020833333333333332, '151723': 0.020833333333333332, '159780': 0.020833333333333332, '37225': 0.020833333333333332, '186712': 0.020833333333333332, '54493': 0.020833333333333332, '521223': 0.020833333333333332, '207716': 0.020833333333333332, '235273': 0.020833333333333332, '294277': 0.020833333333333332, '495689': 0.020833333333333332}\n",
      "Average clustering coefficient estimation: 0.020833333333333304\n",
      "Calculating clustering coefficient estimation done in 1.48551 seconds\n"
     ]
    }
   ],
   "source": [
    "result = test_localClusteringEstimation(amazon_graph, 0.25, 0.8, 1)"
   ]
  },
  {
   "cell_type": "code",
   "execution_count": 98,
   "metadata": {},
   "outputs": [
    {
     "name": "stdout",
     "output_type": "stream",
     "text": [
      "Clustering coefficient estimation: {'2978787': 0.015384615384615385, '1237585': 0.015384615384615385, '3666401': 0.015384615384615385, '2626649': 0.015384615384615385, '3501754': 0.015384615384615385, '374861': 0.015384615384615385, '3979198': 0.015384615384615385, '3015398': 0.015384615384615385, '3144844': 0.015384615384615385, '2151649': 0.015384615384615385, '3935912': 0.015384615384615385, '3935904': 0.015384615384615385, '3883363': 0.015384615384615385, '3883364': 0.015384615384615385, '2626430': 0.015384615384615385, '841569': 0.015384615384615385, '2146662': 0.015384615384615385, '1340261': 0.015384615384615385, '2740288': 0.015384615384615385, '307929': 0.015384615384615385, '3091525': 0.015384615384615385, '1357487': 0.015384615384615385, '396005': 0.015384615384615385, '1016756': 0.015384615384615385, '2243181': 0.015384615384615385, '792990': 0.015384615384615385, '380096': 0.015384615384615385, '1109946': 0.015384615384615385, '3435051': 0.015384615384615385, '1366566': 0.015384615384615385, '1661564': 0.015384615384615385, '381066': 0.015384615384615385, '1784439': 0.015384615384615385, '492692': 0.015384615384615385, '2843109': 0.015384615384615385, '1076342': 0.015384615384615385, '3198271': 0.015384615384615385, '442257': 0.015384615384615385, '3626110': 0.015384615384615385, '1200474': 0.015384615384615385, '2073610': 0.015384615384615385, '239136': 0.015384615384615385, '797083': 0.015384615384615385, '797087': 0.015384615384615385, '3374698': 0.015384615384615385, '1381033': 0.015384615384615385, '999772': 0.015384615384615385, '205411': 0.015384615384615385, '3658637': 0.015384615384615385, '1383178': 0.015384615384615385, '758371': 0.015384615384615385, '67882': 0.015384615384615385, '1212343': 0.015384615384615385, '623091': 0.015384615384615385, '196774': 0.015384615384615385, '1413047': 0.015384615384615385, '227372': 0.015384615384615385, '238906': 0.015384615384615385, '3144110': 0.015384615384615385, '498963': 0.015384615384615385, '3068666': 0.015384615384615385, '3759695': 0.015384615384615385, '2371517': 0.015384615384615385, '2111602': 0.015384615384615385, '157036': 0.015384615384615385, '126248': 0.015384615384615385, '2723909': 0.015384615384615385, '2723908': 0.015384615384615385, '1850814': 0.015384615384615385, '1587028': 0.015384615384615385, '1768778': 0.015384615384615385, '301282': 0.015384615384615385, '1070631': 0.015384615384615385, '674589': 0.015384615384615385, '2574535': 0.015384615384615385, '1465529': 0.015384615384615385, '5267': 0.015384615384615385, '3701177': 0.015384615384615385, '1214638': 0.015384615384615385, '977223': 0.015384615384615385, '2434019': 0.015384615384615385, '1530380': 0.015384615384615385, '3670824': 0.015384615384615385, '1287453': 0.015384615384615385, '1541512': 0.015384615384615385, '596856': 0.015384615384615385, '319290': 0.015384615384615385, '1061380': 0.015384615384615385, '616740': 0.015384615384615385, '1102183': 0.015384615384615385, '3893786': 0.015384615384615385, '3895217': 0.015384615384615385, '1329515': 0.015384615384615385, '2872256': 0.015384615384615385, '2319753': 0.015384615384615385, '2319752': 0.015384615384615385, '2612824': 0.015384615384615385, '275956': 0.015384615384615385, '1080471': 0.015384615384615385, '1450193': 0.015384615384615385, '152864': 0.015384615384615385, '61673': 0.015384615384615385, '3732878': 0.015384615384615385, '2644151': 0.015384615384615385, '2792502': 0.015384615384615385, '1695779': 0.015384615384615385, '3375305': 0.015384615384615385, '2313851': 0.015384615384615385, '2061761': 0.015384615384615385, '504593': 0.015384615384615385, '1100985': 0.015384615384615385, '1100938': 0.015384615384615385, '681109': 0.015384615384615385, '218661': 0.015384615384615385, '1159549': 0.015384615384615385, '697009': 0.015384615384615385, '315094': 0.015384615384615385, '2429695': 0.015384615384615385, '3035261': 0.015384615384615385, '1769838': 0.015384615384615385, '2997135': 0.015384615384615385, '2725052': 0.015384615384615385, '6364': 0.015384615384615385, '7277': 0.015384615384615385, '40664': 0.015384615384615385, '39746': 0.015384615384615385, '467312': 0.015384615384615385, '541858': 0.015384615384615385, '393589': 0.015384615384615385, '174548': 0.015384615384615385}\n",
      "Average clustering coefficient estimation: 0.015384615384615344\n",
      "Calculating clustering coefficient estimation done in 21.94601 seconds\n"
     ]
    }
   ],
   "source": [
    "result = test_localClusteringEstimation(live_journal, 0.25, 0.8, 0.1)"
   ]
  },
  {
   "cell_type": "code",
   "execution_count": 99,
   "metadata": {},
   "outputs": [
    {
     "name": "stdout",
     "output_type": "stream",
     "text": [
      "Clustering coefficient estimation: {'1683503': 0.00847457627118644, '21515': 0.00847457627118644, '437229': 0.00847457627118644, '1782695': 0.00847457627118644, '211519': 0.00847457627118644, '354872': 0.00847457627118644, '926191': 0.00847457627118644, '327517': 0.00847457627118644, '1664032': 0.00847457627118644, '1664178': 0.00847457627118644, '107917': 0.00847457627118644, '61693': 0.00847457627118644, '1316385': 0.00847457627118644, '2660694': 0.00847457627118644, '1051841': 0.00847457627118644, '699689': 0.00847457627118644, '4005435': 0.00847457627118644, '2256491': 0.00847457627118644, '2414235': 0.00847457627118644, '273250': 0.00847457627118644, '963551': 0.00847457627118644, '1009743': 0.00847457627118644, '2746898': 0.00847457627118644, '2117211': 0.00847457627118644, '2805347': 0.00847457627118644, '1215553': 0.00847457627118644, '83363': 0.00847457627118644, '83346': 0.00847457627118644, '735798': 0.00847457627118644, '526893': 0.00847457627118644, '777878': 0.00847457627118644, '133365': 0.00847457627118644, '772558': 0.00847457627118644, '66553': 0.00847457627118644, '2654060': 0.00847457627118644, '289981': 0.00847457627118644, '2315036': 0.00847457627118644, '849791': 0.00847457627118644, '1153832': 0.00847457627118644, '820518': 0.00847457627118644, '707484': 0.00847457627118644, '374535': 0.00847457627118644, '1745920': 0.00847457627118644, '1705825': 0.00847457627118644, '743328': 0.00847457627118644, '743707': 0.00847457627118644, '3296469': 0.00847457627118644, '3554481': 0.00847457627118644, '1445766': 0.00847457627118644, '2421023': 0.00847457627118644, '3654117': 0.00847457627118644, '3654116': 0.00847457627118644, '2284952': 0.00847457627118644, '2284997': 0.00847457627118644, '1463083': 0.00847457627118644, '1737335': 0.00847457627118644, '2447406': 0.00847457627118644, '521472': 0.00847457627118644, '3112594': 0.00847457627118644, '3112601': 0.00847457627118644, '3601326': 0.00847457627118644, '1276870': 0.00847457627118644, '1266686': 0.00847457627118644, '1266465': 0.00847457627118644, '224570': 0.00847457627118644, '147398': 0.00847457627118644, '2549690': 0.00847457627118644, '398573': 0.00847457627118644, '2799117': 0.00847457627118644, '154507': 0.00847457627118644, '402848': 0.00847457627118644, '402833': 0.00847457627118644, '2359659': 0.00847457627118644, '2386029': 0.00847457627118644, '3174725': 0.00847457627118644, '2126062': 0.00847457627118644, '2123445': 0.00847457627118644, '822053': 0.00847457627118644, '2439203': 0.00847457627118644, '2297603': 0.00847457627118644, '3982967': 0.00847457627118644, '47813': 0.00847457627118644, '3050988': 0.00847457627118644, '2821428': 0.00847457627118644, '2905046': 0.00847457627118644, '1406760': 0.00847457627118644, '2265992': 0.00847457627118644, '2289838': 0.00847457627118644, '3513837': 0.00847457627118644, '647042': 0.00847457627118644, '1213560': 0.00847457627118644, '459484': 0.00847457627118644, '1606534': 0.00847457627118644, '1151955': 0.00847457627118644, '3347057': 0.00847457627118644, '2678379': 0.00847457627118644, '1955647': 0.00847457627118644, '1655299': 0.00847457627118644, '2016685': 0.00847457627118644, '575680': 0.00847457627118644, '892974': 0.00847457627118644, '116042': 0.00847457627118644, '2051213': 0.00847457627118644, '2056237': 0.00847457627118644, '2549729': 0.00847457627118644, '1397774': 0.00847457627118644, '2284845': 0.00847457627118644, '2284846': 0.00847457627118644, '2930511': 0.00847457627118644, '1933955': 0.00847457627118644, '965010': 0.00847457627118644, '1892649': 0.00847457627118644, '1022404': 0.00847457627118644, '616755': 0.00847457627118644, '3898485': 0.00847457627118644, '3898487': 0.00847457627118644, '3512495': 0.00847457627118644, '3016402': 0.00847457627118644, '3354191': 0.00847457627118644, '2183255': 0.00847457627118644, '2185471': 0.00847457627118644, '2833978': 0.00847457627118644, '483888': 0.00847457627118644, '397443': 0.00847457627118644, '771912': 0.00847457627118644, '232579': 0.00847457627118644, '1325494': 0.00847457627118644, '375588': 0.00847457627118644, '1152425': 0.00847457627118644, '864178': 0.00847457627118644, '2400328': 0.00847457627118644, '2400296': 0.00847457627118644, '3315605': 0.00847457627118644, '218529': 0.00847457627118644, '1344548': 0.00847457627118644, '716580': 0.00847457627118644, '1988793': 0.00847457627118644, '1988796': 0.00847457627118644, '1424510': 0.00847457627118644, '113352': 0.00847457627118644, '1628621': 0.00847457627118644, '646973': 0.00847457627118644, '1932935': 0.00847457627118644, '1007369': 0.00847457627118644, '3245717': 0.00847457627118644, '1896493': 0.00847457627118644, '2854169': 0.00847457627118644, '2494467': 0.00847457627118644, '2924871': 0.00847457627118644, '1874670': 0.00847457627118644, '1190370': 0.00847457627118644, '1190368': 0.00847457627118644, '3719870': 0.00847457627118644, '2885876': 0.00847457627118644, '3961662': 0.00847457627118644, '1707987': 0.00847457627118644, '3748621': 0.00847457627118644, '58821': 0.00847457627118644, '3624830': 0.00847457627118644, '2017573': 0.00847457627118644, '3277351': 0.00847457627118644, '1527977': 0.00847457627118644, '3438455': 0.00847457627118644, '1281041': 0.00847457627118644, '115541': 0.00847457627118644, '97758': 0.00847457627118644, '1561550': 0.00847457627118644, '2079689': 0.00847457627118644, '3861339': 0.00847457627118644, '3861338': 0.00847457627118644, '1153569': 0.00847457627118644, '1076366': 0.00847457627118644, '739364': 0.00847457627118644, '739375': 0.00847457627118644, '3426785': 0.00847457627118644, '677590': 0.00847457627118644, '4006707': 0.00847457627118644, '1698585': 0.00847457627118644, '959857': 0.00847457627118644, '1308167': 0.00847457627118644, '3514269': 0.00847457627118644, '3514268': 0.00847457627118644, '3658735': 0.00847457627118644, '1595156': 0.00847457627118644, '3096803': 0.00847457627118644, '1993592': 0.00847457627118644, '2298469': 0.00847457627118644, '611114': 0.00847457627118644, '720995': 0.00847457627118644, '523656': 0.00847457627118644, '1349041': 0.00847457627118644, '1361730': 0.00847457627118644, '1045161': 0.00847457627118644, '1329942': 0.00847457627118644, '3412113': 0.00847457627118644, '3412114': 0.00847457627118644, '2813440': 0.00847457627118644, '1616597': 0.00847457627118644, '2289011': 0.00847457627118644, '613474': 0.00847457627118644, '3571127': 0.00847457627118644, '348054': 0.00847457627118644, '1058804': 0.00847457627118644, '1751644': 0.00847457627118644, '3135659': 0.00847457627118644, '421559': 0.00847457627118644, '160784': 0.00847457627118644, '59757': 0.00847457627118644, '403722': 0.00847457627118644, '3230341': 0.00847457627118644, '3993996': 0.00847457627118644, '2413737': 0.00847457627118644, '1618458': 0.00847457627118644, '287003': 0.00847457627118644, '608450': 0.00847457627118644, '9951': 0.00847457627118644, '1382923': 0.00847457627118644, '1747283': 0.00847457627118644, '411436': 0.00847457627118644, '1230238': 0.00847457627118644, '2869622': 0.00847457627118644, '2869621': 0.00847457627118644, '905720': 0.00847457627118644, '317828': 0.00847457627118644, '2860668': 0.00847457627118644, '1460179': 0.00847457627118644, '3020084': 0.00847457627118644, '3020078': 0.00847457627118644, '2147463': 0.00847457627118644, '3483071': 0.00847457627118644, '3387812': 0.00847457627118644, '1117942': 0.00847457627118644, '12403': 0.00847457627118644, '7689': 0.00847457627118644, '266451': 0.00847457627118644, '1328458': 0.00847457627118644}\n",
      "Average clustering coefficient estimation: 0.008474576271186422\n",
      "Calculating clustering coefficient estimation done in 38.41179 seconds\n"
     ]
    }
   ],
   "source": [
    "result = test_localClusteringEstimation(live_journal, 0.25, 0.8, 0.5)"
   ]
  },
  {
   "cell_type": "code",
   "execution_count": 100,
   "metadata": {},
   "outputs": [
    {
     "name": "stdout",
     "output_type": "stream",
     "text": [
      "Clustering coefficient estimation: {'2095023': 0.017543859649122806, '2236298': 0.017543859649122806, '3416260': 0.017543859649122806, '2011377': 0.017543859649122806, '859375': 0.017543859649122806, '205872': 0.017543859649122806, '1560563': 0.017543859649122806, '16846': 0.017543859649122806, '3686008': 0.017543859649122806, '3686010': 0.017543859649122806, '430647': 0.017543859649122806, '430007': 0.017543859649122806, '523387': 0.017543859649122806, '523328': 0.017543859649122806, '1837381': 0.017543859649122806, '3187584': 0.017543859649122806, '3285154': 0.017543859649122806, '205374': 0.017543859649122806, '2125074': 0.017543859649122806, '1244476': 0.017543859649122806, '2555839': 0.017543859649122806, '1377241': 0.017543859649122806, '191799': 0.017543859649122806, '129560': 0.017543859649122806, '3341730': 0.017543859649122806, '2351274': 0.017543859649122806, '1384672': 0.017543859649122806, '255544': 0.017543859649122806, '3631058': 0.017543859649122806, '1478101': 0.017543859649122806, '3437987': 0.017543859649122806, '3839208': 0.017543859649122806, '2042723': 0.017543859649122806, '1132435': 0.017543859649122806, '477409': 0.017543859649122806, '513103': 0.017543859649122806, '2506524': 0.017543859649122806, '11031': 0.017543859649122806, '3013511': 0.017543859649122806, '3013516': 0.017543859649122806, '654432': 0.017543859649122806, '281959': 0.017543859649122806, '2156441': 0.017543859649122806, '902129': 0.017543859649122806, '1238565': 0.017543859649122806, '1085236': 0.017543859649122806, '1206400': 0.017543859649122806, '1579326': 0.017543859649122806, '1886952': 0.017543859649122806, '1886951': 0.017543859649122806, '2839543': 0.017543859649122806, '2231618': 0.017543859649122806, '2152806': 0.017543859649122806, '386286': 0.017543859649122806, '2038730': 0.017543859649122806, '1432345': 0.017543859649122806, '3583794': 0.017543859649122806, '3583796': 0.017543859649122806, '871548': 0.017543859649122806, '271182': 0.017543859649122806, '3084462': 0.017543859649122806, '2193140': 0.017543859649122806, '2340197': 0.017543859649122806, '2339905': 0.017543859649122806, '254531': 0.017543859649122806, '104693': 0.017543859649122806, '91486': 0.017543859649122806, '80221': 0.017543859649122806, '3451699': 0.017543859649122806, '1766699': 0.017543859649122806, '1171712': 0.017543859649122806, '382365': 0.017543859649122806, '557052': 0.017543859649122806, '1398788': 0.017543859649122806, '3307716': 0.017543859649122806, '771991': 0.017543859649122806, '242683': 0.017543859649122806, '52999': 0.017543859649122806, '2916862': 0.017543859649122806, '864689': 0.017543859649122806, '2078710': 0.017543859649122806, '763314': 0.017543859649122806, '3478221': 0.017543859649122806, '1912222': 0.017543859649122806, '1704755': 0.017543859649122806, '1704715': 0.017543859649122806, '2081691': 0.017543859649122806, '385767': 0.017543859649122806, '2378992': 0.017543859649122806, '269652': 0.017543859649122806, '3374103': 0.017543859649122806, '200268': 0.017543859649122806, '3508546': 0.017543859649122806, '1884366': 0.017543859649122806, '1875777': 0.017543859649122806, '24642': 0.017543859649122806, '2310559': 0.017543859649122806, '2310562': 0.017543859649122806, '240061': 0.017543859649122806, '110286': 0.017543859649122806, '1714715': 0.017543859649122806, '213254': 0.017543859649122806, '837815': 0.017543859649122806, '835226': 0.017543859649122806, '3708887': 0.017543859649122806, '3708880': 0.017543859649122806, '976915': 0.017543859649122806, '534835': 0.017543859649122806, '3478263': 0.017543859649122806, '2039906': 0.017543859649122806, '3614235': 0.017543859649122806, '1223808': 0.017543859649122806, '1869608': 0.017543859649122806, '647633': 0.017543859649122806}\n",
      "Average clustering coefficient estimation: 0.017543859649122848\n",
      "Calculating clustering coefficient estimation done in 20.14869 seconds\n"
     ]
    }
   ],
   "source": [
    "result = test_localClusteringEstimation(live_journal, 0.25, 0.8, 1)"
   ]
  }
 ],
 "metadata": {
  "kernelspec": {
   "display_name": "Python 3 (ipykernel)",
   "language": "python",
   "name": "python3"
  },
  "language_info": {
   "codemirror_mode": {
    "name": "ipython",
    "version": 3
   },
   "file_extension": ".py",
   "mimetype": "text/x-python",
   "name": "python",
   "nbconvert_exporter": "python",
   "pygments_lexer": "ipython3",
   "version": "3.8.6"
  }
 },
 "nbformat": 4,
 "nbformat_minor": 4
}

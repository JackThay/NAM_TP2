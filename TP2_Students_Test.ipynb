{
 "cells": [
  {
   "cell_type": "markdown",
   "metadata": {},
   "source": [
    "# Lab3 (Student version)\n",
    "## Students:\n",
    "## Jack Thay - 21201079\n",
    "## Thierry Ung - 3804472"
   ]
  },
  {
   "cell_type": "code",
   "execution_count": 1,
   "metadata": {},
   "outputs": [],
   "source": [
    "import random\n",
    "import matplotlib.pyplot as plt\n",
    "import sys\n",
    "import timeit\n",
    "\n",
    "from IPython.display import Image #used to display image in this notebook\n",
    "from collections import defaultdict, deque\n",
    "import time #used to measure execution time from our code"
   ]
  },
  {
   "cell_type": "markdown",
   "metadata": {},
   "source": [
    "Download the three following graphs:\n",
    "- http://lioneltabourier.fr/documents/drosophila.txt\n",
    "- http://snap.stanford.edu/data/com-LiveJournal.html\n",
    "- http://snap.stanford.edu/data/email-Eu-core.html (optional, might be too large)\n",
    "\n",
    "It is also useful to consider some toy graphs (e.g. manually created graphs with a dozen nodes) to test your programs."
   ]
  },
  {
   "cell_type": "markdown",
   "metadata": {},
   "source": [
    "## Exercise 0: preliminaries\n",
    "\n",
    "Using the codes of Lab1, load the graphs in memory as dictionary of lists and check their number of nodes and links."
   ]
  },
  {
   "cell_type": "code",
   "execution_count": 2,
   "metadata": {},
   "outputs": [],
   "source": [
    "# Code taken from our TP1\n",
    "\n",
    "def count_nodes_edges(filename):\n",
    "    # Initialize an empty set to store unique nodes\n",
    "    nodes = set()\n",
    "    # Initialize an empty set to store unique edges\n",
    "    unique_edges = set()\n",
    "\n",
    "    # Open the specified file in read ('r') mode\n",
    "    with open(filename, 'r') as file:\n",
    "        # Iterate through each line in the file\n",
    "        for line in file:\n",
    "            # Skip lines starting with '#' (comments)\n",
    "            if line.startswith('#'):\n",
    "                continue\n",
    "\n",
    "            # Remove leading and trailing whitespace and split the line into parts\n",
    "            edge_info = line.strip().split()\n",
    "            # Check if the line does not contain exactly two values (node identifiers)\n",
    "            if len(edge_info) != 2:\n",
    "                # Skip lines that don't have two values\n",
    "                continue\n",
    "            # Sort the edge_info to ensure order independence and convert it to a tuple\n",
    "            edge = tuple(sorted(edge_info))\n",
    "            # Check if the edge is not already in the set of unique_edges\n",
    "            if edge not in unique_edges:\n",
    "                # Add the edge to the set of unique_edges\n",
    "                unique_edges.add(edge)\n",
    "                # Add both node identifiers to the 'nodes' set\n",
    "                nodes.update(edge_info)\n",
    "\n",
    "    # Calculate the number of unique nodes by finding the length of the 'nodes' set\n",
    "    num_nodes = len(nodes)\n",
    "    # The total number of unique edges has already been counted in the 'unique_edges' set\n",
    "    num_edges = len(unique_edges)\n",
    "\n",
    "    # Return the counts of nodes and edges as a tuple\n",
    "    return num_nodes, num_edges"
   ]
  },
  {
   "cell_type": "code",
   "execution_count": 3,
   "metadata": {},
   "outputs": [],
   "source": [
    "# Code taken from our TP1\n",
    "\n",
    "def load_graph(filename):\n",
    "    # Initialize an empty dictionary for the adjacency list.\n",
    "    adjacency_list = {}\n",
    "    \n",
    "    # Open the specified file for reading.\n",
    "    with open(filename, 'r') as file:\n",
    "        # Loop through each line in the file.\n",
    "        for line in file:\n",
    "            # Check if the line does not start with '#' (comments)\n",
    "            if not line.startswith('#'):\n",
    "                # Split the line into two nodes representing an edge.\n",
    "                edge_info = line.strip().split()\n",
    "                node1, node2 = edge_info[0], edge_info[1]\n",
    "\n",
    "                # Check if node1 is not already in the adjacency list.\n",
    "                if node1 not in adjacency_list:\n",
    "                    # Initialize an empty list for node1 in the adjacency list.\n",
    "                    adjacency_list[node1] = []\n",
    "\n",
    "                # Check if node2 is not already in the adjacency list.\n",
    "                if node2 not in adjacency_list:\n",
    "                    # Initialize an empty list for node2 in the adjacency list.\n",
    "                    adjacency_list[node2] = []\n",
    "\n",
    "                # Add node2 to the adjacency list of node1 (representing an undirected edge).\n",
    "                adjacency_list[node1].append(node2)\n",
    "                # Add node1 to the adjacency list of node2 (since it's an undirected edge).\n",
    "                adjacency_list[node2].append(node1)\n",
    "\n",
    "    # Return the adjacency list representing the undirected graph.\n",
    "    return adjacency_list"
   ]
  },
  {
   "cell_type": "code",
   "execution_count": 4,
   "metadata": {},
   "outputs": [
    {
     "name": "stdout",
     "output_type": "stream",
     "text": [
      "Number of nodes: 9\n",
      "Number of edges: 8\n",
      "Nodes and edges counted in 0.01083 seconds\n"
     ]
    }
   ],
   "source": [
    "filename = 'test_graph.txt'\n",
    "start_time = time.time()\n",
    "num_nodes, num_edges = count_nodes_edges(filename)\n",
    "print(f\"Number of nodes: {num_nodes}\")\n",
    "print(f\"Number of edges: {num_edges}\")\n",
    "print(f\"Nodes and edges counted in {time.time() - start_time:.5f} seconds\")"
   ]
  },
  {
   "cell_type": "code",
   "execution_count": 5,
   "metadata": {},
   "outputs": [
    {
     "name": "stdout",
     "output_type": "stream",
     "text": [
      "Graph loaded in 0.01301 seconds\n"
     ]
    }
   ],
   "source": [
    "filename = 'test_graph.txt'\n",
    "start_time = time.time()\n",
    "test_graph = load_graph(filename)\n",
    "print(f\"Graph loaded in {time.time() - start_time:.5f} seconds\")"
   ]
  },
  {
   "cell_type": "code",
   "execution_count": 6,
   "metadata": {},
   "outputs": [
    {
     "name": "stdout",
     "output_type": "stream",
     "text": [
      "Number of nodes: 7236\n",
      "Number of edges: 22425\n",
      "Nodes and edges counted in 0.11408 seconds\n"
     ]
    }
   ],
   "source": [
    "filename = 'drosophila.txt'\n",
    "start_time = time.time()\n",
    "num_nodes, num_edges = count_nodes_edges(filename)\n",
    "print(f\"Number of nodes: {num_nodes}\")\n",
    "print(f\"Number of edges: {num_edges}\")\n",
    "print(f\"Nodes and edges counted in {time.time() - start_time:.5f} seconds\")"
   ]
  },
  {
   "cell_type": "code",
   "execution_count": 7,
   "metadata": {},
   "outputs": [
    {
     "name": "stdout",
     "output_type": "stream",
     "text": [
      "Graph loaded in 0.10102 seconds\n"
     ]
    }
   ],
   "source": [
    "filename = 'drosophila.txt'\n",
    "start_time = time.time()\n",
    "drosophila_graph = load_graph(filename)\n",
    "print(f\"Graph loaded in {time.time() - start_time:.5f} seconds\")"
   ]
  },
  {
   "cell_type": "code",
   "execution_count": 8,
   "metadata": {},
   "outputs": [
    {
     "name": "stdout",
     "output_type": "stream",
     "text": [
      "Number of nodes: 1005\n",
      "Number of edges: 16706\n",
      "Nodes and edges counted in 0.08090 seconds\n"
     ]
    }
   ],
   "source": [
    "filename = 'email-Eu-core.txt'\n",
    "start_time = time.time()\n",
    "num_nodes, num_edges = count_nodes_edges(filename)\n",
    "print(f\"Number of nodes: {num_nodes}\")\n",
    "print(f\"Number of edges: {num_edges}\")\n",
    "print(f\"Nodes and edges counted in {time.time() - start_time:.5f} seconds\")"
   ]
  },
  {
   "cell_type": "code",
   "execution_count": 9,
   "metadata": {},
   "outputs": [
    {
     "name": "stdout",
     "output_type": "stream",
     "text": [
      "Graph loaded in 0.05931 seconds\n"
     ]
    }
   ],
   "source": [
    "filename = 'email-Eu-core.txt'\n",
    "start_time = time.time()\n",
    "email_graph = load_graph(filename)\n",
    "print(f\"Graph loaded in {time.time() - start_time:.5f} seconds\")"
   ]
  },
  {
   "cell_type": "code",
   "execution_count": 10,
   "metadata": {},
   "outputs": [
    {
     "name": "stdout",
     "output_type": "stream",
     "text": [
      "Number of nodes: 3997962\n",
      "Number of edges: 34681189\n",
      "Nodes and edges counted in 153.42806 seconds\n"
     ]
    }
   ],
   "source": [
    "filename = 'com-lj.ungraph.txt'\n",
    "start_time = time.time()\n",
    "num_nodes, num_edges = count_nodes_edges(filename)\n",
    "print(f\"Number of nodes: {num_nodes}\")\n",
    "print(f\"Number of edges: {num_edges}\")\n",
    "print(f\"Nodes and edges counted in {time.time() - start_time:.5f} seconds\")"
   ]
  },
  {
   "cell_type": "code",
   "execution_count": 11,
   "metadata": {},
   "outputs": [
    {
     "name": "stdout",
     "output_type": "stream",
     "text": [
      "Graph loaded in 123.32950 seconds\n"
     ]
    }
   ],
   "source": [
    "filename = 'com-lj.ungraph.txt'\n",
    "start_time = time.time()\n",
    "com_graph = load_graph(filename)\n",
    "print(f\"Graph loaded in {time.time() - start_time:.5f} seconds\")"
   ]
  },
  {
   "cell_type": "markdown",
   "metadata": {},
   "source": [
    "## Exercise 1: BFS\n",
    "\n",
    "### 1.1 Components\n",
    "\n",
    "- Implement a BFS algorithm.  \n",
    "\n",
    "- Use it on each of the graphs to evaluate the size of the largest connected component of these graphs.\n",
    "- Use it to identify all connected components.\n",
    "\n",
    "Warning: if your BFS is not well coded, it can be very long, so if it doesn't work on Amazon or LiveJournal in less than a few minutes, either improve your code, or test only on smaller graphs. "
   ]
  },
  {
   "cell_type": "code",
   "execution_count": 12,
   "metadata": {},
   "outputs": [],
   "source": [
    "def bfs(graph, start):\n",
    "    visited = set()\n",
    "    queue = deque([start])\n",
    "    component = []\n",
    "\n",
    "    while queue:\n",
    "        current = queue.popleft()\n",
    "        if current not in visited:\n",
    "            visited.add(current)\n",
    "            component.append(current)\n",
    "            queue.extend(node for node in graph[current] if node not in visited)\n",
    "\n",
    "    return component"
   ]
  },
  {
   "cell_type": "code",
   "execution_count": 13,
   "metadata": {},
   "outputs": [],
   "source": [
    "def bfs_with_print(graph, start):\n",
    "    visited = set()\n",
    "    queue = deque([start])\n",
    "    component = []\n",
    "    nodes_visited = 0\n",
    "    all_nodes = []\n",
    "\n",
    "    while queue:\n",
    "        current = queue.popleft()\n",
    "        if current not in visited:\n",
    "            visited.add(current)\n",
    "            component.append(current)\n",
    "            nodes_visited += 1\n",
    "            all_nodes.append(current)\n",
    "\n",
    "            queue.extend(node for node in graph[current] if node not in visited)\n",
    "\n",
    "    if nodes_visited <= 10:\n",
    "        print(*all_nodes, end=' ')\n",
    "    else:\n",
    "        print(*all_nodes[:10], end=' ')\n",
    "        print(*all_nodes[-10:], end=' ')\n",
    "        print(\"\\nPrinted the 10 first and last nodes.\")\n",
    "\n",
    "    return component"
   ]
  },
  {
   "cell_type": "code",
   "execution_count": 14,
   "metadata": {},
   "outputs": [],
   "source": [
    "def test_bfs(graph, start_node):\n",
    "    start_time = time.time()\n",
    "    print(f\"BFS starting from vertex {start_node}:\")\n",
    "    result = bfs_with_print(graph, start_node)\n",
    "    print(f\"\\nBFS done in {time.time() - start_time:.5f} seconds\")"
   ]
  },
  {
   "cell_type": "code",
   "execution_count": 15,
   "metadata": {},
   "outputs": [
    {
     "data": {
      "image/png": "[encoded data removed]",
      "text/plain": [
       "<IPython.core.display.Image object>"
      ]
     },
     "execution_count": 15,
     "metadata": {},
     "output_type": "execute_result"
    }
   ],
   "source": [
    "# Displaying an image of our test_graph, in case we need visual confirmation\n",
    "Image(filename=\"./test_graph.png\")"
   ]
  },
  {
   "cell_type": "code",
   "execution_count": 16,
   "metadata": {},
   "outputs": [
    {
     "name": "stdout",
     "output_type": "stream",
     "text": [
      "BFS starting from vertex 7:\n",
      "7 3 8 9 1 6 2 4 5 \n",
      "BFS done in 0.00031 seconds\n"
     ]
    }
   ],
   "source": [
    "graph = test_graph\n",
    "start_node = \"7\"\n",
    "result = test_bfs(graph, start_node)"
   ]
  },
  {
   "cell_type": "code",
   "execution_count": 17,
   "metadata": {},
   "outputs": [
    {
     "data": {
      "image/png": "[encoded data removed]",
      "text/plain": [
       "<IPython.core.display.Image object>"
      ]
     },
     "execution_count": 17,
     "metadata": {},
     "output_type": "execute_result"
    }
   ],
   "source": [
    "# Same graph, but with BFS algorithm applied for node 7, for reference\n",
    "Image(filename=\"./test_graph_BFS.png\")"
   ]
  },
  {
   "cell_type": "code",
   "execution_count": 18,
   "metadata": {},
   "outputs": [
    {
     "name": "stdout",
     "output_type": "stream",
     "text": [
      "BFS starting from vertex 0:\n",
      "0 1 2 3 4 5 6 7 8 9 3985 65 2428 5688 5213 7183 6249 6269 6754 7052 \n",
      "Printed the 10 first and last nodes.\n",
      "\n",
      "BFS done in 0.03576 seconds\n"
     ]
    }
   ],
   "source": [
    "graph = drosophila_graph\n",
    "start_node = \"0\"\n",
    "result = test_bfs(graph, start_node)"
   ]
  },
  {
   "cell_type": "code",
   "execution_count": 19,
   "metadata": {},
   "outputs": [
    {
     "name": "stdout",
     "output_type": "stream",
     "text": [
      "BFS starting from vertex 0:\n",
      "0 1 17 316 146 581 268 221 218 18 995 583 794 876 915 846 634 449 603 916 \n",
      "Printed the 10 first and last nodes.\n",
      "\n",
      "BFS done in 0.02568 seconds\n"
     ]
    }
   ],
   "source": [
    "graph = email_graph\n",
    "start_node = \"0\"\n",
    "result = test_bfs(graph, start_node)"
   ]
  },
  {
   "cell_type": "code",
   "execution_count": 20,
   "metadata": {},
   "outputs": [
    {
     "name": "stdout",
     "output_type": "stream",
     "text": [
      "BFS starting from vertex 0:\n",
      "0 1 2 31 73 80 113619 2468556 2823829 2823833 3864109 3875339 3373887 3847906 3847911 3965135 3988338 3988339 3911578 3847908 \n",
      "Printed the 10 first and last nodes.\n",
      "\n",
      "BFS done in 53.40549 seconds\n"
     ]
    }
   ],
   "source": [
    "graph = com_graph\n",
    "start_node = \"0\"\n",
    "result = test_bfs(graph, start_node)"
   ]
  },
  {
   "cell_type": "code",
   "execution_count": 21,
   "metadata": {},
   "outputs": [],
   "source": [
    "def connected_components(graph):\n",
    "    visited = set()\n",
    "    components = []\n",
    "\n",
    "    for vertex in graph:\n",
    "        if vertex not in visited:\n",
    "            component = bfs(graph, vertex)\n",
    "            components.append(component)\n",
    "            visited.update(component)\n",
    "\n",
    "    return components"
   ]
  },
  {
   "cell_type": "code",
   "execution_count": 22,
   "metadata": {},
   "outputs": [],
   "source": [
    "def process_graph(graph):\n",
    "    start_time = time.time()\n",
    "    # Find the largest connected component\n",
    "    components = connected_components(graph)\n",
    "    largest_component = max(components, key=len)\n",
    "    \n",
    "    # Display the largest connected component\n",
    "    if len(largest_component) > 10:\n",
    "        print(f\"Largest connected component: {largest_component[:10]}...{largest_component[-10:]}\")\n",
    "    else:\n",
    "        print(f\"Largest connected component: {largest_component}\")\n",
    "    \n",
    "    print(f\"\\nSize of the largest connected component: {len(largest_component)}\")\n",
    "    print(\"\\nAll connected components:\")\n",
    "    \n",
    "    # Display all connected components\n",
    "    for i, component in enumerate(components, 1):\n",
    "        if len(component) > 10:\n",
    "            print(f\"Component {i}: {component[:10]}...{component[-10:]}\")\n",
    "        else:\n",
    "            print(f\"Component {i}: {component}\")\n",
    "    \n",
    "    print(f\"\\nConnected components found in {time.time() - start_time:.5f} seconds\")"
   ]
  },
  {
   "cell_type": "code",
   "execution_count": 23,
   "metadata": {},
   "outputs": [
    {
     "name": "stdout",
     "output_type": "stream",
     "text": [
      "Largest connected component: ['2', '1', '4', '5', '3', '6', '7', '8', '9']\n",
      "\n",
      "Size of the largest connected component: 9\n",
      "\n",
      "All connected components:\n",
      "Component 1: ['2', '1', '4', '5', '3', '6', '7', '8', '9']\n",
      "\n",
      "Connected components found in 0.00055 seconds\n"
     ]
    }
   ],
   "source": [
    "graph = test_graph\n",
    "result = process_graph(graph)"
   ]
  },
  {
   "cell_type": "code",
   "execution_count": 24,
   "metadata": {},
   "outputs": [
    {
     "name": "stdout",
     "output_type": "stream",
     "text": [
      "Largest connected component: ['0', '1', '2', '3', '4', '5', '6', '7', '8', '9']...['3985', '65', '2428', '5688', '5213', '7183', '6249', '6269', '6754', '7052']\n",
      "\n",
      "Size of the largest connected component: 7236\n",
      "\n",
      "All connected components:\n",
      "Component 1: ['0', '1', '2', '3', '4', '5', '6', '7', '8', '9']...['3985', '65', '2428', '5688', '5213', '7183', '6249', '6269', '6754', '7052']\n",
      "\n",
      "Connected components found in 0.02057 seconds\n"
     ]
    }
   ],
   "source": [
    "graph = drosophila_graph\n",
    "result = process_graph(graph)"
   ]
  },
  {
   "cell_type": "code",
   "execution_count": 25,
   "metadata": {},
   "outputs": [
    {
     "name": "stdout",
     "output_type": "stream",
     "text": [
      "Largest connected component: ['0', '1', '17', '316', '146', '581', '268', '221', '218', '18']...['995', '583', '794', '876', '915', '846', '634', '449', '603', '916']\n",
      "\n",
      "Size of the largest connected component: 986\n",
      "\n",
      "All connected components:\n",
      "Component 1: ['0', '1', '17', '316', '146', '581', '268', '221', '218', '18']...['995', '583', '794', '876', '915', '846', '634', '449', '603', '916']\n",
      "Component 2: ['580']\n",
      "Component 3: ['633']\n",
      "Component 4: ['648']\n",
      "Component 5: ['653']\n",
      "Component 6: ['658']\n",
      "Component 7: ['660']\n",
      "Component 8: ['670']\n",
      "Component 9: ['675']\n",
      "Component 10: ['684']\n",
      "Component 11: ['691']\n",
      "Component 12: ['703']\n",
      "Component 13: ['711']\n",
      "Component 14: ['731']\n",
      "Component 15: ['732']\n",
      "Component 16: ['744']\n",
      "Component 17: ['746']\n",
      "Component 18: ['772']\n",
      "Component 19: ['798']\n",
      "Component 20: ['808']\n",
      "\n",
      "Connected components found in 0.01973 seconds\n"
     ]
    }
   ],
   "source": [
    "graph = email_graph\n",
    "result = process_graph(graph)"
   ]
  },
  {
   "cell_type": "code",
   "execution_count": 26,
   "metadata": {},
   "outputs": [
    {
     "name": "stdout",
     "output_type": "stream",
     "text": [
      "Largest connected component: ['0', '1', '2', '31', '73', '80', '113619', '2468556', '2823829', '2823833']...['3864109', '3875339', '3373887', '3847906', '3847911', '3965135', '3988338', '3988339', '3911578', '3847908']\n",
      "\n",
      "Size of the largest connected component: 3997962\n",
      "\n",
      "All connected components:\n",
      "Component 1: ['0', '1', '2', '31', '73', '80', '113619', '2468556', '2823829', '2823833']...['3864109', '3875339', '3373887', '3847906', '3847911', '3965135', '3988338', '3988339', '3911578', '3847908']\n",
      "\n",
      "Connected components found in 38.57279 seconds\n"
     ]
    }
   ],
   "source": [
    "graph = com_graph\n",
    "result = process_graph(graph)"
   ]
  },
  {
   "cell_type": "markdown",
   "metadata": {},
   "source": [
    "### 1.2 Distances\n",
    "\n",
    "- Modify the BFS above to have it compute the distance to the source node.\n",
    "\n",
    "- Using the fact that the diameter is necessarily larger than any distance measured, use your distance computation code to get a lower bound of the diameter. The higher the bound, the better."
   ]
  },
  {
   "cell_type": "markdown",
   "metadata": {},
   "source": [
    "shema distance\n"
   ]
  },
  {
   "cell_type": "code",
   "execution_count": 27,
   "metadata": {},
   "outputs": [],
   "source": [
    "def bfs_with_distance(graph, start):\n",
    "    if start not in graph:\n",
    "        print(f\"Error: The starting node '{start}' does not exist in the graph.\")\n",
    "        return\n",
    "    \n",
    "    visited = set()\n",
    "    queue = deque([(start, 0)])  # Adding distance information with each node\n",
    "    distances = {start: 0}  # Dictionary to store distances\n",
    "\n",
    "    while queue:\n",
    "        current, distance = queue.popleft()\n",
    "        if current not in visited:\n",
    "            visited.add(current)\n",
    "            for neighbor in graph[current]:\n",
    "                if neighbor not in visited:\n",
    "                    queue.append((neighbor, distance + 1))\n",
    "                    distances[neighbor] = distance + 1\n",
    "\n",
    "    return distances"
   ]
  },
  {
   "cell_type": "code",
   "execution_count": 28,
   "metadata": {},
   "outputs": [],
   "source": [
    "def test_bfs_distance(graph, start_node):\n",
    "    start_time = time.time()\n",
    "    distances = bfs_with_distance(graph, start_node)\n",
    "    # Displaying only the 10 first and last if more than 10, else display all\n",
    "    if len(distances) > 10:\n",
    "        first_10 = list(distances.items())[:10]\n",
    "        last_10 = list(distances.items())[-10:]\n",
    "        display_distances = dict(first_10 + last_10)\n",
    "    else:\n",
    "        display_distances = distances\n",
    "    \n",
    "    print(\"Distances:\", display_distances)\n",
    "    print(f\"Calculating distance done in {time.time() - start_time:.5f} seconds\")"
   ]
  },
  {
   "cell_type": "code",
   "execution_count": 29,
   "metadata": {},
   "outputs": [
    {
     "name": "stdout",
     "output_type": "stream",
     "text": [
      "Distances: {'7': 0, '3': 1, '8': 1, '9': 1, '1': 2, '6': 2, '2': 3, '4': 4, '5': 4}\n",
      "Calculating distance done in 0.00032 seconds\n"
     ]
    }
   ],
   "source": [
    "graph = test_graph\n",
    "start_node = \"7\"\n",
    "result = test_bfs_distance(graph, start_node)"
   ]
  },
  {
   "cell_type": "code",
   "execution_count": 30,
   "metadata": {},
   "outputs": [
    {
     "name": "stdout",
     "output_type": "stream",
     "text": [
      "Distances: {'0': 0, '1': 1, '2': 1, '3': 1, '4': 1, '5': 1, '6': 1, '7': 1, '8': 1, '9': 1, '3985': 7, '65': 7, '2428': 7, '5688': 7, '5213': 7, '7183': 7, '6249': 7, '6269': 7, '6754': 7, '7052': 8}\n",
      "Calculating distance done in 0.02755 seconds\n"
     ]
    }
   ],
   "source": [
    "graph = drosophila_graph\n",
    "start_node = \"0\"\n",
    "result = test_bfs_distance(graph, start_node)"
   ]
  },
  {
   "cell_type": "code",
   "execution_count": 31,
   "metadata": {},
   "outputs": [
    {
     "name": "stdout",
     "output_type": "stream",
     "text": [
      "Distances: {'0': 0, '1': 1, '17': 2, '316': 2, '146': 2, '581': 1, '268': 2, '221': 2, '218': 2, '18': 2, '995': 4, '583': 4, '794': 4, '876': 4, '915': 4, '846': 4, '634': 4, '449': 4, '603': 4, '916': 4}\n",
      "Calculating distance done in 0.03188 seconds\n"
     ]
    }
   ],
   "source": [
    "graph = email_graph\n",
    "start_node = \"0\"\n",
    "result = test_bfs_distance(graph, start_node)"
   ]
  },
  {
   "cell_type": "code",
   "execution_count": 32,
   "metadata": {},
   "outputs": [
    {
     "name": "stdout",
     "output_type": "stream",
     "text": [
      "Distances: {'0': 0, '1': 1, '2': 2, '31': 2, '73': 2, '80': 1, '113619': 1, '2468556': 1, '2823829': 1, '2823833': 1, '3864109': 12, '3875339': 12, '3373887': 12, '3847906': 12, '3847911': 12, '3965135': 12, '3988338': 12, '3988339': 12, '3911578': 13, '3847908': 13}\n",
      "Calculating distance done in 67.69833 seconds\n"
     ]
    }
   ],
   "source": [
    "graph = com_graph\n",
    "start_node = \"0\"\n",
    "result = test_bfs_distance(graph, start_node)"
   ]
  },
  {
   "cell_type": "code",
   "execution_count": 33,
   "metadata": {},
   "outputs": [],
   "source": [
    "def lower_bound_diameter(graph, sample_size=None):\n",
    "    # Initialize lower bound to 0\n",
    "    lower_bound = 0\n",
    "\n",
    "    # If sample_size is None, use all nodes for BFS, otherwise, use a sample\n",
    "    nodes_to_sample = list(graph.keys())\n",
    "\n",
    "    if sample_size is not None and sample_size > 0:\n",
    "        # Ensure that the sample size is not greater than the population size\n",
    "        sample_size = min(sample_size, len(nodes_to_sample))\n",
    "        nodes_to_sample = random.sample(nodes_to_sample, sample_size)\n",
    "\n",
    "    # Compute distances for sampled nodes in a single BFS traversal\n",
    "    all_distances = {}\n",
    "    for start_node in nodes_to_sample:\n",
    "        distances = bfs_with_distance(graph, start_node)\n",
    "        all_distances[start_node] = distances\n",
    "\n",
    "    # Iterate over each node to determine eccentricity\n",
    "    for start_node, distances in all_distances.items():\n",
    "        eccentricity = max(distances.values())\n",
    "\n",
    "        # Update lower bound if the eccentricity is greater\n",
    "        lower_bound = max(lower_bound, eccentricity)\n",
    "\n",
    "    return lower_bound"
   ]
  },
  {
   "cell_type": "code",
   "execution_count": 34,
   "metadata": {},
   "outputs": [
    {
     "name": "stdout",
     "output_type": "stream",
     "text": [
      "Lower bound for diameter: 5\n",
      "Calculating lower bound done in 0.00126 seconds\n"
     ]
    }
   ],
   "source": [
    "graph = test_graph\n",
    "sample_size = 10\n",
    "start_time = time.time()\n",
    "lower_bound = lower_bound_diameter(graph, sample_size=sample_size)\n",
    "print(f\"Lower bound for diameter: {lower_bound}\")\n",
    "print(f\"Calculating lower bound done in {time.time() - start_time:.5f} seconds\")"
   ]
  },
  {
   "cell_type": "code",
   "execution_count": 35,
   "metadata": {},
   "outputs": [
    {
     "name": "stdout",
     "output_type": "stream",
     "text": [
      "Lower bound for diameter: 10\n",
      "Calculating lower bound done in 2.91994 seconds\n"
     ]
    }
   ],
   "source": [
    "graph = drosophila_graph\n",
    "sample_size = 100\n",
    "start_time = time.time()\n",
    "lower_bound = lower_bound_diameter(graph, sample_size=sample_size)\n",
    "print(f\"Lower bound for diameter: {lower_bound}\")\n",
    "print(f\"Calculating lower bound done in {time.time() - start_time:.5f} seconds\")"
   ]
  },
  {
   "cell_type": "code",
   "execution_count": 36,
   "metadata": {},
   "outputs": [
    {
     "name": "stdout",
     "output_type": "stream",
     "text": [
      "Lower bound for diameter: 6\n",
      "Calculating lower bound done in 3.35188 seconds\n"
     ]
    }
   ],
   "source": [
    "graph = email_graph\n",
    "sample_size = 100\n",
    "start_time = time.time()\n",
    "lower_bound = lower_bound_diameter(graph, sample_size=sample_size)\n",
    "print(f\"Lower bound for diameter: {lower_bound}\")\n",
    "print(f\"Calculating lower bound done in {time.time() - start_time:.5f} seconds\")"
   ]
  },
  {
   "cell_type": "code",
   "execution_count": 37,
   "metadata": {},
   "outputs": [
    {
     "name": "stdout",
     "output_type": "stream",
     "text": [
      "Lower bound for diameter: 14\n",
      "Calculating lower bound done in 76.82953 seconds\n"
     ]
    }
   ],
   "source": [
    "graph = com_graph\n",
    "sample_size = 1\n",
    "start_time = time.time()\n",
    "lower_bound = lower_bound_diameter(graph, sample_size=sample_size)\n",
    "print(f\"Lower bound for diameter: {lower_bound}\")\n",
    "print(f\"Calculating lower bound done in {time.time() - start_time:.5f} seconds\")"
   ]
  },
  {
   "cell_type": "markdown",
   "metadata": {},
   "source": [
    "## Exercise 2: Triangles\n",
    "\n",
    "### 2.1 Raw triangle counting\n",
    "\n",
    "- Implement the 2 triangle counting algorithms presented in the course. \n",
    "\n",
    "- Test your program on the 3 graphs and report the number of triangles as well as the running time of your program."
   ]
  },
  {
   "cell_type": "code",
   "execution_count": 38,
   "metadata": {},
   "outputs": [],
   "source": [
    "def naive_triangle_count(graph):\n",
    "    nb = 0\n",
    "\n",
    "    # Iterate over all nodes\n",
    "    for v in graph:\n",
    "        neighbors_v = graph[v]\n",
    "\n",
    "        # Iterate over neighbors of v\n",
    "        for u1 in neighbors_v:\n",
    "            # Iterate over neighbors of v (excluding u1)\n",
    "            for u2 in neighbors_v:\n",
    "                if u2 != u1:\n",
    "                    # Check if u1 and u2 are neighbors\n",
    "                    if u1 in graph[u2]:\n",
    "                        nb += 1\n",
    "\n",
    "    # Each triangle is counted 3 times, so divide by 6\n",
    "    return nb // 6"
   ]
  },
  {
   "cell_type": "code",
   "execution_count": 49,
   "metadata": {},
   "outputs": [],
   "source": [
    "def optimized_triangle_count(graph):\n",
    "    nb = 0\n",
    "\n",
    "    for v in graph:\n",
    "        neighbors_v = set(graph[v])\n",
    "\n",
    "        for u1 in neighbors_v:\n",
    "            for u2 in neighbors_v:\n",
    "                if u2 != u1:\n",
    "                    # Check if u1 and u2 are neighbors\n",
    "                    if u1 in graph and u2 in graph[u1]:\n",
    "                        nb += 1\n",
    "\n",
    "    # Each triangle is counted 3 times, so divide by 6\n",
    "    return nb // 6"
   ]
  },
  {
   "cell_type": "code",
   "execution_count": 50,
   "metadata": {},
   "outputs": [],
   "source": [
    "def test_naive_triangle_count(graph):\n",
    "    start_time = time.time()\n",
    "    result = optimized_triangle_count(graph)\n",
    "    print(\"Number of triangles:\", result)\n",
    "    print(f\"Calculating triangle done in {time.time() - start_time:.5f} seconds\")"
   ]
  },
  {
   "cell_type": "code",
   "execution_count": 51,
   "metadata": {},
   "outputs": [
    {
     "name": "stdout",
     "output_type": "stream",
     "text": [
      "Number of triangles: 0\n",
      "Calculating triangle done in 0.00013 seconds\n"
     ]
    }
   ],
   "source": [
    "graph = test_graph\n",
    "test_naive_triangle_count(graph)"
   ]
  },
  {
   "cell_type": "code",
   "execution_count": 52,
   "metadata": {},
   "outputs": [
    {
     "name": "stdout",
     "output_type": "stream",
     "text": [
      "Number of triangles: 2994\n",
      "Calculating triangle done in 0.89346 seconds\n"
     ]
    }
   ],
   "source": [
    "graph = drosophila_graph\n",
    "test_naive_triangle_count(graph)"
   ]
  },
  {
   "cell_type": "code",
   "execution_count": 53,
   "metadata": {},
   "outputs": [
    {
     "name": "stdout",
     "output_type": "stream",
     "text": [
      "Number of triangles: 114535\n",
      "Calculating triangle done in 8.12261 seconds\n"
     ]
    }
   ],
   "source": [
    "graph = email_graph\n",
    "test_naive_triangle_count(graph)"
   ]
  },
  {
   "cell_type": "code",
   "execution_count": 54,
   "metadata": {
    "scrolled": true
   },
   "outputs": [
    {
     "name": "stdout",
     "output_type": "stream",
     "text": [
      "Unexpected exception formatting exception. Falling back to standard exception\n"
     ]
    },
    {
     "name": "stderr",
     "output_type": "stream",
     "text": [
      "Traceback (most recent call last):\n",
      "  File \"/home/thierry/.local/lib/python3.10/site-packages/IPython/core/interactiveshell.py\", line 3460, in run_code\n",
      "    exec(code_obj, self.user_global_ns, self.user_ns)\n",
      "  File \"/tmp/ipykernel_56/4159357701.py\", line 2, in <module>\n",
      "    test_naive_triangle_count(graph)\n",
      "  File \"/tmp/ipykernel_56/747330203.py\", line 3, in test_naive_triangle_count\n",
      "    result = optimized_triangle_count(graph)\n",
      "  File \"/tmp/ipykernel_56/378881294.py\", line -1, in optimized_triangle_count\n",
      "KeyboardInterrupt\n",
      "\n",
      "During handling of the above exception, another exception occurred:\n",
      "\n",
      "Traceback (most recent call last):\n",
      "  File \"/home/thierry/.local/lib/python3.10/site-packages/IPython/core/interactiveshell.py\", line 2057, in showtraceback\n",
      "    stb = self.InteractiveTB.structured_traceback(\n",
      "  File \"/home/thierry/.local/lib/python3.10/site-packages/IPython/core/ultratb.py\", line 1118, in structured_traceback\n",
      "    return FormattedTB.structured_traceback(\n",
      "  File \"/home/thierry/.local/lib/python3.10/site-packages/IPython/core/ultratb.py\", line 1012, in structured_traceback\n",
      "    return VerboseTB.structured_traceback(\n",
      "  File \"/home/thierry/.local/lib/python3.10/site-packages/IPython/core/ultratb.py\", line 865, in structured_traceback\n",
      "    formatted_exception = self.format_exception_as_a_whole(etype, evalue, etb, number_of_lines_of_context,\n",
      "  File \"/home/thierry/.local/lib/python3.10/site-packages/IPython/core/ultratb.py\", line 818, in format_exception_as_a_whole\n",
      "    frames.append(self.format_record(r))\n",
      "  File \"/home/thierry/.local/lib/python3.10/site-packages/IPython/core/ultratb.py\", line 736, in format_record\n",
      "    result += ''.join(_format_traceback_lines(frame_info.lines, Colors, self.has_colors, lvals))\n",
      "  File \"/home/thierry/.local/lib/python3.10/site-packages/stack_data/utils.py\", line 145, in cached_property_wrapper\n",
      "    value = obj.__dict__[self.func.__name__] = self.func(obj)\n",
      "  File \"/home/thierry/.local/lib/python3.10/site-packages/stack_data/core.py\", line 698, in lines\n",
      "    pieces = self.included_pieces\n",
      "  File \"/home/thierry/.local/lib/python3.10/site-packages/stack_data/utils.py\", line 145, in cached_property_wrapper\n",
      "    value = obj.__dict__[self.func.__name__] = self.func(obj)\n",
      "  File \"/home/thierry/.local/lib/python3.10/site-packages/stack_data/core.py\", line 649, in included_pieces\n",
      "    pos = scope_pieces.index(self.executing_piece)\n",
      "  File \"/home/thierry/.local/lib/python3.10/site-packages/stack_data/utils.py\", line 145, in cached_property_wrapper\n",
      "    value = obj.__dict__[self.func.__name__] = self.func(obj)\n",
      "  File \"/home/thierry/.local/lib/python3.10/site-packages/stack_data/core.py\", line 628, in executing_piece\n",
      "    return only(\n",
      "  File \"/home/thierry/.local/lib/python3.10/site-packages/executing/executing.py\", line 164, in only\n",
      "    raise NotOneValueFound('Expected one value, found 0')\n",
      "executing.executing.NotOneValueFound: Expected one value, found 0\n"
     ]
    }
   ],
   "source": [
    "graph = com_graph\n",
    "test_naive_triangle_count(graph)"
   ]
  },
  {
   "cell_type": "code",
   "execution_count": 78,
   "metadata": {},
   "outputs": [],
   "source": [
    "def improved_triangle_counting(graph):\n",
    "    nb = 0\n",
    "\n",
    "    # Iterate over all edges (u, v) where u < v\n",
    "    for u in graph:\n",
    "        for v in graph[u]:\n",
    "            if u < v:\n",
    "                # Iterate over common neighbors of u and v\n",
    "                common_neighbors = set(graph[u]) & set(graph[v])\n",
    "                for w in common_neighbors:\n",
    "                    if v < w:\n",
    "                        nb += 1\n",
    "\n",
    "    return nb"
   ]
  },
  {
   "cell_type": "code",
   "execution_count": 95,
   "metadata": {},
   "outputs": [],
   "source": [
    "def improved_triangle_counting(graph):\n",
    "    nb = 0\n",
    "\n",
    "    for u, neighbors_u in graph.items():\n",
    "        for v in neighbors_u:\n",
    "            if u < v:\n",
    "                common_neighbors = set(graph[u]).intersection(graph[v])\n",
    "                for w in common_neighbors:\n",
    "                    if v < w:\n",
    "                        nb += 1\n",
    "\n",
    "    return nb"
   ]
  },
  {
   "cell_type": "code",
   "execution_count": 96,
   "metadata": {},
   "outputs": [],
   "source": [
    "def test_improved_triangle_count(graph):\n",
    "    start_time = time.time()\n",
    "    result = improved_triangle_counting(graph)\n",
    "    print(\"Number of triangles:\", result)\n",
    "    print(f\"Calculating triangle done in {time.time() - start_time:.5f} seconds\")\n"
   ]
  },
  {
   "cell_type": "code",
   "execution_count": 97,
   "metadata": {},
   "outputs": [
    {
     "name": "stdout",
     "output_type": "stream",
     "text": [
      "Number of triangles: 0\n",
      "Calculating triangle done in 0.00025 seconds\n"
     ]
    }
   ],
   "source": [
    "graph = test_graph\n",
    "test_improved_triangle_count(graph)"
   ]
  },
  {
   "cell_type": "code",
   "execution_count": 98,
   "metadata": {},
   "outputs": [
    {
     "name": "stdout",
     "output_type": "stream",
     "text": [
      "Number of triangles: 2179\n",
      "Calculating triangle done in 0.11764 seconds\n"
     ]
    }
   ],
   "source": [
    "graph = drosophila_graph\n",
    "test_improved_triangle_count(graph)"
   ]
  },
  {
   "cell_type": "code",
   "execution_count": 99,
   "metadata": {},
   "outputs": [
    {
     "name": "stdout",
     "output_type": "stream",
     "text": [
      "Number of triangles: 177025\n",
      "Calculating triangle done in 0.53033 seconds\n"
     ]
    }
   ],
   "source": [
    "graph = email_graph\n",
    "test_improved_triangle_count(graph)"
   ]
  },
  {
   "cell_type": "code",
   "execution_count": 101,
   "metadata": {},
   "outputs": [
    {
     "ename": "KeyboardInterrupt",
     "evalue": "",
     "output_type": "error",
     "traceback": [
      "\u001b[0;31m---------------------------------------------------------------------------\u001b[0m",
      "\u001b[0;31mKeyboardInterrupt\u001b[0m                         Traceback (most recent call last)",
      "Cell \u001b[0;32mIn[101], line 2\u001b[0m\n\u001b[1;32m      1\u001b[0m graph \u001b[38;5;241m=\u001b[39m com_graph\n\u001b[0;32m----> 2\u001b[0m \u001b[43mtest_improved_triangle_count\u001b[49m\u001b[43m(\u001b[49m\u001b[43mgraph\u001b[49m\u001b[43m)\u001b[49m\n",
      "Cell \u001b[0;32mIn[96], line 3\u001b[0m, in \u001b[0;36mtest_improved_triangle_count\u001b[0;34m(graph)\u001b[0m\n\u001b[1;32m      1\u001b[0m \u001b[38;5;28;01mdef\u001b[39;00m \u001b[38;5;21mtest_improved_triangle_count\u001b[39m(graph):\n\u001b[1;32m      2\u001b[0m     start_time \u001b[38;5;241m=\u001b[39m time\u001b[38;5;241m.\u001b[39mtime()\n\u001b[0;32m----> 3\u001b[0m     result \u001b[38;5;241m=\u001b[39m \u001b[43mimproved_triangle_counting\u001b[49m\u001b[43m(\u001b[49m\u001b[43mgraph\u001b[49m\u001b[43m)\u001b[49m\n\u001b[1;32m      4\u001b[0m     \u001b[38;5;28mprint\u001b[39m(\u001b[38;5;124m\"\u001b[39m\u001b[38;5;124mNumber of triangles:\u001b[39m\u001b[38;5;124m\"\u001b[39m, result)\n\u001b[1;32m      5\u001b[0m     \u001b[38;5;28mprint\u001b[39m(\u001b[38;5;124mf\u001b[39m\u001b[38;5;124m\"\u001b[39m\u001b[38;5;124mCalculating triangle done in \u001b[39m\u001b[38;5;132;01m{\u001b[39;00mtime\u001b[38;5;241m.\u001b[39mtime() \u001b[38;5;241m-\u001b[39m start_time\u001b[38;5;132;01m:\u001b[39;00m\u001b[38;5;124m.5f\u001b[39m\u001b[38;5;132;01m}\u001b[39;00m\u001b[38;5;124m seconds\u001b[39m\u001b[38;5;124m\"\u001b[39m)\n",
      "Cell \u001b[0;32mIn[95], line 7\u001b[0m, in \u001b[0;36mimproved_triangle_counting\u001b[0;34m(graph)\u001b[0m\n\u001b[1;32m      5\u001b[0m \u001b[38;5;28;01mfor\u001b[39;00m v \u001b[38;5;129;01min\u001b[39;00m neighbors_u:\n\u001b[1;32m      6\u001b[0m     \u001b[38;5;28;01mif\u001b[39;00m u \u001b[38;5;241m<\u001b[39m v:\n\u001b[0;32m----> 7\u001b[0m         common_neighbors \u001b[38;5;241m=\u001b[39m \u001b[38;5;28;43mset\u001b[39;49m\u001b[43m(\u001b[49m\u001b[43mgraph\u001b[49m\u001b[43m[\u001b[49m\u001b[43mu\u001b[49m\u001b[43m]\u001b[49m\u001b[43m)\u001b[49m\u001b[38;5;241;43m.\u001b[39;49m\u001b[43mintersection\u001b[49m\u001b[43m(\u001b[49m\u001b[43mgraph\u001b[49m\u001b[43m[\u001b[49m\u001b[43mv\u001b[49m\u001b[43m]\u001b[49m\u001b[43m)\u001b[49m\n\u001b[1;32m      8\u001b[0m         \u001b[38;5;28;01mfor\u001b[39;00m w \u001b[38;5;129;01min\u001b[39;00m common_neighbors:\n\u001b[1;32m      9\u001b[0m             \u001b[38;5;28;01mif\u001b[39;00m v \u001b[38;5;241m<\u001b[39m w:\n",
      "\u001b[0;31mKeyboardInterrupt\u001b[0m: "
     ]
    }
   ],
   "source": [
    "graph = com_graph\n",
    "test_improved_triangle_count(graph)"
   ]
  },
  {
   "cell_type": "markdown",
   "metadata": {},
   "source": [
    "### 2.2 Transitive ratio\n",
    "\n",
    "Use this program to compute the transitive ratio of the graphs. Remember that the transitive ratio is defined as \n",
    "$$ \\frac{3.number \\ of \\ triangles}{number \\ of \\ forks}$$\n",
    "and that the number of forks (or connected triples) of a node of degree $d$ is simply $\\frac{d(d-1)}{2}$."
   ]
  },
  {
   "cell_type": "code",
   "execution_count": 122,
   "metadata": {},
   "outputs": [],
   "source": [
    "def transitive_ratio(graph):\n",
    "    triangles = 0\n",
    "    forks = 0\n",
    "\n",
    "    for u, neighbors_u in graph.items():\n",
    "        degree_u = len(neighbors_u)\n",
    "        forks += degree_u * (degree_u - 1) // 2  # Calculate forks for node u\n",
    "\n",
    "        for v in neighbors_u:\n",
    "            if u < v:\n",
    "                common_neighbors = set(graph[u]).intersection(graph[v])\n",
    "                triangles += len(common_neighbors)\n",
    "\n",
    "    transitive_ratio = 0 if forks == 0 else 3 * triangles / forks\n",
    "    return transitive_ratio"
   ]
  },
  {
   "cell_type": "code",
   "execution_count": 123,
   "metadata": {},
   "outputs": [],
   "source": [
    "def test_transitive_ratio(graph):\n",
    "    start_time = time.time()\n",
    "    result = transitive_ratio(graph)\n",
    "    print(\"Transitive ratio:\", result)\n",
    "    print(f\"Calculating transitive ratio done in {time.time() - start_time:.5f} seconds\")"
   ]
  },
  {
   "cell_type": "code",
   "execution_count": 124,
   "metadata": {},
   "outputs": [
    {
     "name": "stdout",
     "output_type": "stream",
     "text": [
      "Transitive ratio: 0.0\n",
      "Calculating transitive ratio done in 0.00020 seconds\n"
     ]
    }
   ],
   "source": [
    "graph = test_graph\n",
    "test_transitive_ratio(graph)"
   ]
  },
  {
   "cell_type": "code",
   "execution_count": 125,
   "metadata": {},
   "outputs": [
    {
     "name": "stdout",
     "output_type": "stream",
     "text": [
      "Transitive ratio: 0.05813619901596416\n",
      "Calculating transitive ratio done in 0.18122 seconds\n"
     ]
    }
   ],
   "source": [
    "graph = drosophila_graph\n",
    "test_transitive_ratio(graph)"
   ]
  },
  {
   "cell_type": "code",
   "execution_count": 126,
   "metadata": {},
   "outputs": [
    {
     "name": "stdout",
     "output_type": "stream",
     "text": [
      "Transitive ratio: 0.5498799301247006\n",
      "Calculating transitive ratio done in 0.38221 seconds\n"
     ]
    }
   ],
   "source": [
    "graph = email_graph\n",
    "test_transitive_ratio(graph)"
   ]
  },
  {
   "cell_type": "code",
   "execution_count": 111,
   "metadata": {},
   "outputs": [
    {
     "ename": "KeyboardInterrupt",
     "evalue": "",
     "output_type": "error",
     "traceback": [
      "\u001b[0;31m---------------------------------------------------------------------------\u001b[0m",
      "\u001b[0;31mKeyboardInterrupt\u001b[0m                         Traceback (most recent call last)",
      "Cell \u001b[0;32mIn[111], line 2\u001b[0m\n\u001b[1;32m      1\u001b[0m graph \u001b[38;5;241m=\u001b[39m com_graph\n\u001b[0;32m----> 2\u001b[0m \u001b[43mtest_transitive_ratio\u001b[49m\u001b[43m(\u001b[49m\u001b[43mgraph\u001b[49m\u001b[43m)\u001b[49m\n",
      "Cell \u001b[0;32mIn[106], line 3\u001b[0m, in \u001b[0;36mtest_transitive_ratio\u001b[0;34m(graph)\u001b[0m\n\u001b[1;32m      1\u001b[0m \u001b[38;5;28;01mdef\u001b[39;00m \u001b[38;5;21mtest_transitive_ratio\u001b[39m(graph):\n\u001b[1;32m      2\u001b[0m     start_time \u001b[38;5;241m=\u001b[39m time\u001b[38;5;241m.\u001b[39mtime()\n\u001b[0;32m----> 3\u001b[0m     result \u001b[38;5;241m=\u001b[39m \u001b[43mtransitive_ratio\u001b[49m\u001b[43m(\u001b[49m\u001b[43mgraph\u001b[49m\u001b[43m)\u001b[49m\n\u001b[1;32m      4\u001b[0m     \u001b[38;5;28mprint\u001b[39m(\u001b[38;5;124m\"\u001b[39m\u001b[38;5;124mTransitive ratio:\u001b[39m\u001b[38;5;124m\"\u001b[39m, result)\n\u001b[1;32m      5\u001b[0m     \u001b[38;5;28mprint\u001b[39m(\u001b[38;5;124mf\u001b[39m\u001b[38;5;124m\"\u001b[39m\u001b[38;5;124mCalculating transitive ratio done in \u001b[39m\u001b[38;5;132;01m{\u001b[39;00mtime\u001b[38;5;241m.\u001b[39mtime() \u001b[38;5;241m-\u001b[39m start_time\u001b[38;5;132;01m:\u001b[39;00m\u001b[38;5;124m.5f\u001b[39m\u001b[38;5;132;01m}\u001b[39;00m\u001b[38;5;124m seconds\u001b[39m\u001b[38;5;124m\"\u001b[39m)\n",
      "Cell \u001b[0;32mIn[102], line 11\u001b[0m, in \u001b[0;36mtransitive_ratio\u001b[0;34m(graph)\u001b[0m\n\u001b[1;32m      9\u001b[0m     \u001b[38;5;28;01mfor\u001b[39;00m v \u001b[38;5;129;01min\u001b[39;00m neighbors_u:\n\u001b[1;32m     10\u001b[0m         \u001b[38;5;28;01mif\u001b[39;00m u \u001b[38;5;241m<\u001b[39m v:\n\u001b[0;32m---> 11\u001b[0m             common_neighbors \u001b[38;5;241m=\u001b[39m \u001b[38;5;28;43mset\u001b[39;49m\u001b[43m(\u001b[49m\u001b[43mgraph\u001b[49m\u001b[43m[\u001b[49m\u001b[43mu\u001b[49m\u001b[43m]\u001b[49m\u001b[43m)\u001b[49m\u001b[38;5;241;43m.\u001b[39;49m\u001b[43mintersection\u001b[49m\u001b[43m(\u001b[49m\u001b[43mgraph\u001b[49m\u001b[43m[\u001b[49m\u001b[43mv\u001b[49m\u001b[43m]\u001b[49m\u001b[43m)\u001b[49m\n\u001b[1;32m     12\u001b[0m             triangles \u001b[38;5;241m+\u001b[39m\u001b[38;5;241m=\u001b[39m \u001b[38;5;28mlen\u001b[39m(common_neighbors)\n\u001b[1;32m     14\u001b[0m transitive_ratio \u001b[38;5;241m=\u001b[39m \u001b[38;5;241m0\u001b[39m \u001b[38;5;28;01mif\u001b[39;00m forks \u001b[38;5;241m==\u001b[39m \u001b[38;5;241m0\u001b[39m \u001b[38;5;28;01melse\u001b[39;00m \u001b[38;5;241m3\u001b[39m \u001b[38;5;241m*\u001b[39m triangles \u001b[38;5;241m/\u001b[39m forks\n",
      "\u001b[0;31mKeyboardInterrupt\u001b[0m: "
     ]
    }
   ],
   "source": [
    "graph = com_graph\n",
    "test_transitive_ratio(graph)"
   ]
  },
  {
   "cell_type": "markdown",
   "metadata": {},
   "source": [
    "## * Exercice 3: Recent Research\n",
    "\n",
    "\\* Star exercice is a little bit advanced but very enriching. The point of this exercice is a little introduction to research paper reading and implementing some simple algorithms. \n",
    "\n",
    "If you do not do this exercice at all and perfectly do the other 2 (Exercice 1 and 2) you will get a good grade. But doing this exercice even only a part of it will help you get the highest marks.\n",
    "\n",
    "**I do not want you to understand all the content of the papers. We are just implementing given algorithms. But of course understanding research papers can help you in your future career.**\n",
    "\n",
    "**Do not hesitate to contact me or email me if you need any help.**\n",
    "\n",
    "### 3.1  Recent research on triangle counting:\n",
    "\n",
    "Take a look at the recent article (published in [Alenex 2023](https://epubs.siam.org/doi/book/10.1137/1.9781611977561)\n",
    ") : https://epubs.siam.org/doi/pdf/10.1137/1.9781611977561.ch7 and implement the algorithms A++ and A+- and compare their running times on the 3 graphs"
   ]
  },
  {
   "cell_type": "code",
   "execution_count": 259,
   "metadata": {},
   "outputs": [],
   "source": [
    "def a_plus_plus(graph):\n",
    "    triangles = []\n",
    "\n",
    "    # Step 1: Initialize array B with False for each vertex v\n",
    "    B = {v: False for v in graph}\n",
    "\n",
    "    # Step 2: for each vertex w\n",
    "    for w in graph:\n",
    "        # Step 3: for each vertex v in neighbors of w (N - w)\n",
    "        for v in set(graph[w]) - {w}:\n",
    "            B[v] = True\n",
    "\n",
    "        # Step 5: for each vertex u in neighbors of w (N - w)\n",
    "        for u in set(graph[w]) - {w}:\n",
    "            # Step 6: for each vertex v in neighbors of u (N + u)\n",
    "            for v in set(graph[u]) - {u}:\n",
    "                # Step 7: if B[v]\n",
    "                if B[v]:\n",
    "                    # Step 8: output triangle {u, v, w}\n",
    "                    triangles.append({u, v, w})\n",
    "\n",
    "        # Step 9: for each vertex v in neighbors of w (N - w)\n",
    "        for v in set(graph[w]) - {w}:\n",
    "            B[v] = False\n",
    "\n",
    "    return triangles"
   ]
  },
  {
   "cell_type": "code",
   "execution_count": 260,
   "metadata": {},
   "outputs": [],
   "source": [
    "def test_a_plus_plus(graph):\n",
    "    start_time = time.time()\n",
    "    result = a_plus_plus(graph)\n",
    "\n",
    "    # Display only the first 5 and last 5 triangles, or all if there are fewer than 10\n",
    "    display_triangles = result[:5] + result[-5:] if len(result) > 5 else result\n",
    "\n",
    "    print(\"Triangles :\", display_triangles)\n",
    "    print(f\"Calculating triangle done in {time.time() - start_time:.5f} seconds\")"
   ]
  },
  {
   "cell_type": "code",
   "execution_count": 261,
   "metadata": {},
   "outputs": [
    {
     "name": "stdout",
     "output_type": "stream",
     "text": [
      "Triangles : []\n",
      "Calculating triangle done in 0.00021 seconds\n"
     ]
    }
   ],
   "source": [
    "graph = test_graph\n",
    "test_a_plus_plus(graph)"
   ]
  },
  {
   "cell_type": "code",
   "execution_count": 262,
   "metadata": {},
   "outputs": [
    {
     "name": "stdout",
     "output_type": "stream",
     "text": [
      "Triangles : [{'10', '0', '1'}, {'10', '0', '1'}, {'11', '5', '0'}, {'11', '5', '0'}, {'245', '827', '1'}, {'6457', '1182', '2097'}, {'6630', '506', '1456'}, {'6630', '506', '1456'}, {'5030', '6729', '513'}, {'513', '6729', '5030'}]\n",
      "Calculating triangle done in 0.45666 seconds\n"
     ]
    }
   ],
   "source": [
    "graph = drosophila_graph\n",
    "test_a_plus_plus(graph)"
   ]
  },
  {
   "cell_type": "code",
   "execution_count": 263,
   "metadata": {},
   "outputs": [
    {
     "name": "stdout",
     "output_type": "stream",
     "text": [
      "Triangles : [{'103', '250', '0'}, {'250', '0', '166'}, {'0', '250', '1'}, {'377', '250', '0'}, {'368', '250', '0'}, {'826', '1001', '6'}, {'826', '1001', '803'}, {'826', '1001', '990'}, {'826', '1001', '193'}, {'826', '1001', '832'}]\n",
      "Calculating triangle done in 1.49768 seconds\n"
     ]
    }
   ],
   "source": [
    "graph = email_graph\n",
    "test_a_plus_plus(graph)"
   ]
  },
  {
   "cell_type": "code",
   "execution_count": 247,
   "metadata": {},
   "outputs": [],
   "source": [
    "#graph = com_graph\n",
    "#test_find_triangles(graph)"
   ]
  },
  {
   "cell_type": "code",
   "execution_count": 248,
   "metadata": {},
   "outputs": [],
   "source": [
    "def a_plus_minus(graph):\n",
    "    # Initialize B array\n",
    "    B = {vertex: False for vertex in graph}\n",
    "\n",
    "    # List to store triangles\n",
    "    triangles = []\n",
    "\n",
    "    # Iterate over each vertex u\n",
    "    for u in graph:\n",
    "        # Step 3: Mark neighbors of u as True in B\n",
    "        for w in graph[u]:\n",
    "            B[w] = True\n",
    "        \n",
    "        # Iterate over neighbors v of u\n",
    "        for v in graph[u]:\n",
    "            # Iterate over neighbors w of v\n",
    "            for w in graph[v]:\n",
    "                # Step 6: Check if B[w] is True\n",
    "                if B[w]:\n",
    "                    # Step 7: Store triangle {u, v, w} in the list\n",
    "                    triangles.append((u, v, w))\n",
    "\n",
    "        # Step 8: Reset B array\n",
    "        for w in graph[u]:\n",
    "            B[w] = False\n",
    "\n",
    "    return triangles"
   ]
  },
  {
   "cell_type": "code",
   "execution_count": 249,
   "metadata": {},
   "outputs": [],
   "source": [
    "def test_a_plus_minus(graph):\n",
    "    start_time = time.time()\n",
    "    triangles = a_plus_minus(graph)\n",
    "    \n",
    "    # Display the first 5 triangles and the last 5 (or all if less than 5)\n",
    "    if not triangles:\n",
    "        print(\"No triangle found\")\n",
    "    else:\n",
    "        print(\"Triangles:\")\n",
    "        for triangle in triangles[:5]:\n",
    "            print(f\"Triangle found: {triangle}\")\n",
    "\n",
    "        if len(triangles) > 5:\n",
    "            print(\"...\")\n",
    "            for triangle in triangles[-5:]:\n",
    "                print(f\"Triangle found: {triangle}\")\n",
    "    \n",
    "    print(f\"Calculating triangles done in {time.time() - start_time:.5f} seconds\")"
   ]
  },
  {
   "cell_type": "code",
   "execution_count": 250,
   "metadata": {},
   "outputs": [
    {
     "name": "stdout",
     "output_type": "stream",
     "text": [
      "No triangle found\n",
      "Calculating triangles done in 0.00013 seconds\n"
     ]
    }
   ],
   "source": [
    "graph = test_graph\n",
    "result = test_a_plus_minus(graph)"
   ]
  },
  {
   "cell_type": "code",
   "execution_count": 251,
   "metadata": {},
   "outputs": [
    {
     "name": "stdout",
     "output_type": "stream",
     "text": [
      "Triangles:\n",
      "Triangle found: ('0', '1', '10')\n",
      "Triangle found: ('0', '5', '11')\n",
      "Triangle found: ('0', '10', '1')\n",
      "Triangle found: ('0', '11', '5')\n",
      "Triangle found: ('1', '0', '10')\n",
      "...\n",
      "Triangle found: ('7160', '2006', '2006')\n",
      "Triangle found: ('7168', '2153', '2153')\n",
      "Triangle found: ('7168', '2153', '2153')\n",
      "Triangle found: ('7226', '2684', '2684')\n",
      "Triangle found: ('7226', '2684', '2684')\n",
      "Calculating triangles done in 0.47365 seconds\n"
     ]
    }
   ],
   "source": [
    "graph = drosophila_graph\n",
    "result = test_a_plus_minus(graph)"
   ]
  },
  {
   "cell_type": "code",
   "execution_count": 252,
   "metadata": {},
   "outputs": [
    {
     "name": "stdout",
     "output_type": "stream",
     "text": [
      "Triangles:\n",
      "Triangle found: ('0', '1', '0')\n",
      "Triangle found: ('0', '1', '74')\n",
      "Triangle found: ('0', '1', '17')\n",
      "Triangle found: ('0', '1', '316')\n",
      "Triangle found: ('0', '1', '1')\n",
      "...\n",
      "Triangle found: ('1003', '258', '258')\n",
      "Triangle found: ('1003', '258', '258')\n",
      "Triangle found: ('1003', '258', '258')\n",
      "Triangle found: ('1004', '55', '55')\n",
      "Triangle found: ('1004', '55', '55')\n",
      "Calculating triangles done in 2.88609 seconds\n"
     ]
    }
   ],
   "source": [
    "graph = email_graph\n",
    "result = test_a_plus_minus(graph)"
   ]
  },
  {
   "cell_type": "code",
   "execution_count": 253,
   "metadata": {},
   "outputs": [],
   "source": [
    "#graph = com_graph\n",
    "#result = test_find_trianglesplusminus(graph)"
   ]
  },
  {
   "cell_type": "markdown",
   "metadata": {},
   "source": [
    "### 3.2  Recent research on Clustering Coefficient:\n",
    "\n",
    "Take a look at the recent article (published in [LATIN 2022](https://pakal.cs.cinvestav.mx/latin2022/)\n",
    ") : https://www.inf.ufpr.br/vignatti/v/papers/2022-latin.pdf and implement the algorithm of local clustering coefficient estimation with relative errors of $ \\epsilon = 1, 0.5, 0.1$ with probability $ p = 0.25$ and $\\delta = 0.8$"
   ]
  },
  {
   "cell_type": "code",
   "execution_count": 385,
   "metadata": {},
   "outputs": [],
   "source": [
    "def localClusteringEstimation(G, ε, δ, p):\n",
    "    n = len(G)  # Number of vertices in the graph\n",
    "    m = sum(len(adj_list) for adj_list in G.values()) // 2  # Number of edges in the graph\n",
    "    Δ = max(len(adj_list) for adj_list in G.values())  # Maximum degree in the graph\n",
    "    \n",
    "    r = min(int((ε**2 * p * (2 * (Δ.bit_length() - 1) + 1) * (1 + math.log(1/δ))) / (p**2 * ε**2)), m)\n",
    "    # Sample r edges from the graph\n",
    "    sampled_edges = random.sample(list(G.keys()), r)\n",
    "    \n",
    "    # Initialize the local clustering coefficient estimates\n",
    "    clustering_coefficients = {v: 0 for v in G}\n",
    "    \n",
    "    # Compute the local clustering coefficient estimates\n",
    "    for edge in sampled_edges:\n",
    "        vertices = edge  # Edge can have more than two vertices\n",
    "        for a in vertices:\n",
    "            for b in vertices:\n",
    "                if a != b:\n",
    "                    common_neighbors = set(G[a]) & set(G[b])\n",
    "                    num_common_neighbors = len(common_neighbors)\n",
    "                    if num_common_neighbors >= 2:\n",
    "                        clustering_coefficients[a] += num_common_neighbors * (num_common_neighbors - 1)\n",
    "                        clustering_coefficients[b] += num_common_neighbors * (num_common_neighbors - 1)\n",
    "    \n",
    "    # Normalize the local clustering coefficient estimates\n",
    "    for v in G:\n",
    "        degree_v = len(G[v])\n",
    "        if degree_v >= 2:\n",
    "            clustering_coefficients[v] /= (degree_v * (degree_v - 1))\n",
    "    \n",
    "    return clustering_coefficients"
   ]
  },
  {
   "cell_type": "code",
   "execution_count": null,
   "metadata": {},
   "outputs": [],
   "source": [
    "localClusteringEstimation(com_graph, 0.25, 0.8, 0.1)"
   ]
  },
  {
   "cell_type": "code",
   "execution_count": null,
   "metadata": {},
   "outputs": [],
   "source": []
  },
  {
   "cell_type": "code",
   "execution_count": null,
   "metadata": {},
   "outputs": [],
   "source": []
  }
 ],
 "metadata": {
  "kernelspec": {
   "display_name": "Python 3 (ipykernel)",
   "language": "python",
   "name": "python3"
  },
  "language_info": {
   "codemirror_mode": {
    "name": "ipython",
    "version": 3
   },
   "file_extension": ".py",
   "mimetype": "text/x-python",
   "name": "python",
   "nbconvert_exporter": "python",
   "pygments_lexer": "ipython3",
   "version": "3.10.6"
  }
 },
 "nbformat": 4,
 "nbformat_minor": 4
}
